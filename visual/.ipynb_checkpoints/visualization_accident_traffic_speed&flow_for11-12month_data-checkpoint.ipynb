{
 "cells": [
  {
   "cell_type": "markdown",
   "id": "32408145",
   "metadata": {},
   "source": [
    "# data読み込み"
   ]
  },
  {
   "cell_type": "markdown",
   "id": "49cb51cb",
   "metadata": {
    "ExecuteTime": {
     "end_time": "2022-01-30T07:42:04.142196Z",
     "start_time": "2022-01-30T07:42:04.138733Z"
    }
   },
   "source": [
    "## read processed data"
   ]
  },
  {
   "cell_type": "code",
   "execution_count": 1,
   "id": "4dd64cff",
   "metadata": {
    "ExecuteTime": {
     "end_time": "2022-02-02T11:52:23.562881Z",
     "start_time": "2022-02-02T11:52:21.857556Z"
    }
   },
   "outputs": [],
   "source": [
    "import pandas as pd\n",
    "import numpy as np\n",
    "import os\n",
    "import glob\n",
    "import pandas as pd\n",
    "import time\n",
    "import datetime\n",
    "from tqdm.notebook import tqdm\n",
    "import matplotlib.pyplot as plt\n",
    "from copy import deepcopy\n",
    "from datetime import date, timedelta\n",
    "import networkx as nx\n",
    "import seaborn as sns\n",
    "import pickle\n",
    "import pandas.tseries.offsets as offsets\n",
    "from mpl_toolkits.axes_grid1 import make_axes_locatable"
   ]
  },
  {
   "cell_type": "code",
   "execution_count": 2,
   "id": "02a302ca",
   "metadata": {
    "ExecuteTime": {
     "end_time": "2022-02-02T11:52:40.248279Z",
     "start_time": "2022-02-02T11:52:23.582976Z"
    }
   },
   "outputs": [],
   "source": [
    "DATA_PATH = \"../data\"\n",
    "FILE_NAME= \"capitaltrafficplus_202112.csv.gz\"\n",
    "\n",
    "df=pd.read_csv(DATA_PATH+FILE_NAME)"
   ]
  },
  {
   "cell_type": "code",
   "execution_count": 3,
   "id": "3a9aced8",
   "metadata": {
    "ExecuteTime": {
     "end_time": "2022-02-02T11:52:40.316891Z",
     "start_time": "2022-02-02T11:52:40.295668Z"
    }
   },
   "outputs": [
    {
     "data": {
      "text/html": [
       "<div>\n",
       "<style scoped>\n",
       "    .dataframe tbody tr th:only-of-type {\n",
       "        vertical-align: middle;\n",
       "    }\n",
       "\n",
       "    .dataframe tbody tr th {\n",
       "        vertical-align: top;\n",
       "    }\n",
       "\n",
       "    .dataframe thead th {\n",
       "        text-align: right;\n",
       "    }\n",
       "</style>\n",
       "<table border=\"1\" class=\"dataframe\">\n",
       "  <thead>\n",
       "    <tr style=\"text-align: right;\">\n",
       "      <th></th>\n",
       "      <th>linkid</th>\n",
       "      <th>gps_timestamp</th>\n",
       "      <th>speed_typea</th>\n",
       "      <th>accident_flag</th>\n",
       "      <th>real_accident_flag</th>\n",
       "      <th>weekdaytime</th>\n",
       "      <th>speed_typea_y</th>\n",
       "    </tr>\n",
       "  </thead>\n",
       "  <tbody>\n",
       "    <tr>\n",
       "      <th>0</th>\n",
       "      <td>83585420</td>\n",
       "      <td>2021-12-01 00:00:00</td>\n",
       "      <td>73.075286</td>\n",
       "      <td>0</td>\n",
       "      <td>0</td>\n",
       "      <td>0.285998</td>\n",
       "      <td>73.798636</td>\n",
       "    </tr>\n",
       "    <tr>\n",
       "      <th>1</th>\n",
       "      <td>83585420</td>\n",
       "      <td>2021-12-01 00:10:00</td>\n",
       "      <td>79.817778</td>\n",
       "      <td>0</td>\n",
       "      <td>0</td>\n",
       "      <td>0.286991</td>\n",
       "      <td>72.414188</td>\n",
       "    </tr>\n",
       "    <tr>\n",
       "      <th>2</th>\n",
       "      <td>83585420</td>\n",
       "      <td>2021-12-01 00:20:00</td>\n",
       "      <td>52.938966</td>\n",
       "      <td>0</td>\n",
       "      <td>0</td>\n",
       "      <td>0.287984</td>\n",
       "      <td>76.359300</td>\n",
       "    </tr>\n",
       "    <tr>\n",
       "      <th>3</th>\n",
       "      <td>83585420</td>\n",
       "      <td>2021-12-01 00:30:00</td>\n",
       "      <td>71.913333</td>\n",
       "      <td>0</td>\n",
       "      <td>0</td>\n",
       "      <td>0.288977</td>\n",
       "      <td>96.299603</td>\n",
       "    </tr>\n",
       "    <tr>\n",
       "      <th>4</th>\n",
       "      <td>83585420</td>\n",
       "      <td>2021-12-01 00:40:00</td>\n",
       "      <td>71.913333</td>\n",
       "      <td>0</td>\n",
       "      <td>0</td>\n",
       "      <td>0.289970</td>\n",
       "      <td>89.896278</td>\n",
       "    </tr>\n",
       "    <tr>\n",
       "      <th>...</th>\n",
       "      <td>...</td>\n",
       "      <td>...</td>\n",
       "      <td>...</td>\n",
       "      <td>...</td>\n",
       "      <td>...</td>\n",
       "      <td>...</td>\n",
       "      <td>...</td>\n",
       "    </tr>\n",
       "    <tr>\n",
       "      <th>12682219</th>\n",
       "      <td>118770567</td>\n",
       "      <td>2021-12-31 23:10:00</td>\n",
       "      <td>53.953636</td>\n",
       "      <td>0</td>\n",
       "      <td>0</td>\n",
       "      <td>0.710030</td>\n",
       "      <td>48.431471</td>\n",
       "    </tr>\n",
       "    <tr>\n",
       "      <th>12682220</th>\n",
       "      <td>118770567</td>\n",
       "      <td>2021-12-31 23:20:00</td>\n",
       "      <td>45.952163</td>\n",
       "      <td>0</td>\n",
       "      <td>0</td>\n",
       "      <td>0.711023</td>\n",
       "      <td>46.332532</td>\n",
       "    </tr>\n",
       "    <tr>\n",
       "      <th>12682221</th>\n",
       "      <td>118770567</td>\n",
       "      <td>2021-12-31 23:30:00</td>\n",
       "      <td>45.952163</td>\n",
       "      <td>0</td>\n",
       "      <td>0</td>\n",
       "      <td>0.712016</td>\n",
       "      <td>51.144607</td>\n",
       "    </tr>\n",
       "    <tr>\n",
       "      <th>12682222</th>\n",
       "      <td>118770567</td>\n",
       "      <td>2021-12-31 23:40:00</td>\n",
       "      <td>38.102747</td>\n",
       "      <td>0</td>\n",
       "      <td>0</td>\n",
       "      <td>0.713009</td>\n",
       "      <td>45.779231</td>\n",
       "    </tr>\n",
       "    <tr>\n",
       "      <th>12682223</th>\n",
       "      <td>118770567</td>\n",
       "      <td>2021-12-31 23:50:00</td>\n",
       "      <td>46.492500</td>\n",
       "      <td>0</td>\n",
       "      <td>0</td>\n",
       "      <td>0.714002</td>\n",
       "      <td>53.857273</td>\n",
       "    </tr>\n",
       "  </tbody>\n",
       "</table>\n",
       "<p>12682224 rows × 7 columns</p>\n",
       "</div>"
      ],
      "text/plain": [
       "             linkid        gps_timestamp  speed_typea  accident_flag  \\\n",
       "0          83585420  2021-12-01 00:00:00    73.075286              0   \n",
       "1          83585420  2021-12-01 00:10:00    79.817778              0   \n",
       "2          83585420  2021-12-01 00:20:00    52.938966              0   \n",
       "3          83585420  2021-12-01 00:30:00    71.913333              0   \n",
       "4          83585420  2021-12-01 00:40:00    71.913333              0   \n",
       "...             ...                  ...          ...            ...   \n",
       "12682219  118770567  2021-12-31 23:10:00    53.953636              0   \n",
       "12682220  118770567  2021-12-31 23:20:00    45.952163              0   \n",
       "12682221  118770567  2021-12-31 23:30:00    45.952163              0   \n",
       "12682222  118770567  2021-12-31 23:40:00    38.102747              0   \n",
       "12682223  118770567  2021-12-31 23:50:00    46.492500              0   \n",
       "\n",
       "          real_accident_flag  weekdaytime  speed_typea_y  \n",
       "0                          0     0.285998      73.798636  \n",
       "1                          0     0.286991      72.414188  \n",
       "2                          0     0.287984      76.359300  \n",
       "3                          0     0.288977      96.299603  \n",
       "4                          0     0.289970      89.896278  \n",
       "...                      ...          ...            ...  \n",
       "12682219                   0     0.710030      48.431471  \n",
       "12682220                   0     0.711023      46.332532  \n",
       "12682221                   0     0.712016      51.144607  \n",
       "12682222                   0     0.713009      45.779231  \n",
       "12682223                   0     0.714002      53.857273  \n",
       "\n",
       "[12682224 rows x 7 columns]"
      ]
     },
     "execution_count": 3,
     "metadata": {},
     "output_type": "execute_result"
    }
   ],
   "source": [
    "df"
   ]
  },
  {
   "cell_type": "code",
   "execution_count": 4,
   "id": "e6ef7c7e",
   "metadata": {
    "ExecuteTime": {
     "end_time": "2022-02-02T11:52:40.367612Z",
     "start_time": "2022-02-02T11:52:40.355698Z"
    }
   },
   "outputs": [
    {
     "data": {
      "text/html": [
       "<div>\n",
       "<style scoped>\n",
       "    .dataframe tbody tr th:only-of-type {\n",
       "        vertical-align: middle;\n",
       "    }\n",
       "\n",
       "    .dataframe tbody tr th {\n",
       "        vertical-align: top;\n",
       "    }\n",
       "\n",
       "    .dataframe thead th {\n",
       "        text-align: right;\n",
       "    }\n",
       "</style>\n",
       "<table border=\"1\" class=\"dataframe\">\n",
       "  <thead>\n",
       "    <tr style=\"text-align: right;\">\n",
       "      <th></th>\n",
       "      <th>linkid</th>\n",
       "      <th>gps_timestamp</th>\n",
       "      <th>speed_typea</th>\n",
       "      <th>accident_flag</th>\n",
       "      <th>real_accident_flag</th>\n",
       "      <th>weekdaytime</th>\n",
       "      <th>speed_typea_y</th>\n",
       "    </tr>\n",
       "  </thead>\n",
       "  <tbody>\n",
       "    <tr>\n",
       "      <th>12682219</th>\n",
       "      <td>118770567</td>\n",
       "      <td>2021-12-31 23:10:00</td>\n",
       "      <td>53.953636</td>\n",
       "      <td>0</td>\n",
       "      <td>0</td>\n",
       "      <td>0.710030</td>\n",
       "      <td>48.431471</td>\n",
       "    </tr>\n",
       "    <tr>\n",
       "      <th>12682220</th>\n",
       "      <td>118770567</td>\n",
       "      <td>2021-12-31 23:20:00</td>\n",
       "      <td>45.952163</td>\n",
       "      <td>0</td>\n",
       "      <td>0</td>\n",
       "      <td>0.711023</td>\n",
       "      <td>46.332532</td>\n",
       "    </tr>\n",
       "    <tr>\n",
       "      <th>12682221</th>\n",
       "      <td>118770567</td>\n",
       "      <td>2021-12-31 23:30:00</td>\n",
       "      <td>45.952163</td>\n",
       "      <td>0</td>\n",
       "      <td>0</td>\n",
       "      <td>0.712016</td>\n",
       "      <td>51.144607</td>\n",
       "    </tr>\n",
       "    <tr>\n",
       "      <th>12682222</th>\n",
       "      <td>118770567</td>\n",
       "      <td>2021-12-31 23:40:00</td>\n",
       "      <td>38.102747</td>\n",
       "      <td>0</td>\n",
       "      <td>0</td>\n",
       "      <td>0.713009</td>\n",
       "      <td>45.779231</td>\n",
       "    </tr>\n",
       "    <tr>\n",
       "      <th>12682223</th>\n",
       "      <td>118770567</td>\n",
       "      <td>2021-12-31 23:50:00</td>\n",
       "      <td>46.492500</td>\n",
       "      <td>0</td>\n",
       "      <td>0</td>\n",
       "      <td>0.714002</td>\n",
       "      <td>53.857273</td>\n",
       "    </tr>\n",
       "  </tbody>\n",
       "</table>\n",
       "</div>"
      ],
      "text/plain": [
       "             linkid        gps_timestamp  speed_typea  accident_flag  \\\n",
       "12682219  118770567  2021-12-31 23:10:00    53.953636              0   \n",
       "12682220  118770567  2021-12-31 23:20:00    45.952163              0   \n",
       "12682221  118770567  2021-12-31 23:30:00    45.952163              0   \n",
       "12682222  118770567  2021-12-31 23:40:00    38.102747              0   \n",
       "12682223  118770567  2021-12-31 23:50:00    46.492500              0   \n",
       "\n",
       "          real_accident_flag  weekdaytime  speed_typea_y  \n",
       "12682219                   0     0.710030      48.431471  \n",
       "12682220                   0     0.711023      46.332532  \n",
       "12682221                   0     0.712016      51.144607  \n",
       "12682222                   0     0.713009      45.779231  \n",
       "12682223                   0     0.714002      53.857273  "
      ]
     },
     "execution_count": 4,
     "metadata": {},
     "output_type": "execute_result"
    }
   ],
   "source": [
    "df.tail()"
   ]
  },
  {
   "cell_type": "code",
   "execution_count": 5,
   "id": "315615c5",
   "metadata": {
    "ExecuteTime": {
     "end_time": "2022-02-02T11:52:43.566270Z",
     "start_time": "2022-02-02T11:52:40.408880Z"
    }
   },
   "outputs": [],
   "source": [
    "df[\"gps_timestamp\"]=pd.to_datetime(df[\"gps_timestamp\"])"
   ]
  },
  {
   "cell_type": "code",
   "execution_count": 6,
   "id": "88eb25d7",
   "metadata": {
    "ExecuteTime": {
     "end_time": "2022-02-02T11:52:43.618018Z",
     "start_time": "2022-02-02T11:52:43.607289Z"
    }
   },
   "outputs": [
    {
     "name": "stdout",
     "output_type": "stream",
     "text": [
      "<class 'pandas.core.frame.DataFrame'>\n",
      "RangeIndex: 12682224 entries, 0 to 12682223\n",
      "Data columns (total 7 columns):\n",
      " #   Column              Dtype         \n",
      "---  ------              -----         \n",
      " 0   linkid              int64         \n",
      " 1   gps_timestamp       datetime64[ns]\n",
      " 2   speed_typea         float64       \n",
      " 3   accident_flag       int64         \n",
      " 4   real_accident_flag  int64         \n",
      " 5   weekdaytime         float64       \n",
      " 6   speed_typea_y       float64       \n",
      "dtypes: datetime64[ns](1), float64(3), int64(3)\n",
      "memory usage: 677.3 MB\n"
     ]
    }
   ],
   "source": [
    "df.info()"
   ]
  },
  {
   "cell_type": "markdown",
   "id": "5b3b0bff",
   "metadata": {},
   "source": [
    "## read link connect relation"
   ]
  },
  {
   "cell_type": "code",
   "execution_count": 7,
   "id": "8706ec84",
   "metadata": {
    "ExecuteTime": {
     "end_time": "2022-02-02T11:52:44.560233Z",
     "start_time": "2022-02-02T11:52:43.661143Z"
    }
   },
   "outputs": [],
   "source": [
    "LINK_PATH = \"/mnt/mnt/nfs/home/ji-yong/jupyterwork/collaresearch-ut/result/metrix/\"\n",
    "LINK_FILE_NAME= \"capital_01_relation.csv\"\n",
    "\n",
    "link_df=pd.read_csv(LINK_PATH+LINK_FILE_NAME)\n",
    "link_df=link_df.rename(columns={\"Unnamed: 0\":\"row\"})\n",
    "# link_df=link_df.set_index(\"Unnamed: 0\")\n",
    "# link_df.index.name = None"
   ]
  },
  {
   "cell_type": "code",
   "execution_count": 8,
   "id": "ecb7a34a",
   "metadata": {
    "ExecuteTime": {
     "end_time": "2022-02-02T11:52:44.940877Z",
     "start_time": "2022-02-02T11:52:44.911608Z"
    }
   },
   "outputs": [
    {
     "data": {
      "text/html": [
       "<div>\n",
       "<style scoped>\n",
       "    .dataframe tbody tr th:only-of-type {\n",
       "        vertical-align: middle;\n",
       "    }\n",
       "\n",
       "    .dataframe tbody tr th {\n",
       "        vertical-align: top;\n",
       "    }\n",
       "\n",
       "    .dataframe thead th {\n",
       "        text-align: right;\n",
       "    }\n",
       "</style>\n",
       "<table border=\"1\" class=\"dataframe\">\n",
       "  <thead>\n",
       "    <tr style=\"text-align: right;\">\n",
       "      <th></th>\n",
       "      <th>row</th>\n",
       "      <th>83585420</th>\n",
       "      <th>83585485</th>\n",
       "      <th>83585609</th>\n",
       "      <th>83585658</th>\n",
       "      <th>83585806</th>\n",
       "      <th>83585863</th>\n",
       "      <th>83585888</th>\n",
       "      <th>83586020</th>\n",
       "      <th>83586069</th>\n",
       "      <th>...</th>\n",
       "      <th>117489955</th>\n",
       "      <th>117490052</th>\n",
       "      <th>117490417</th>\n",
       "      <th>117490530</th>\n",
       "      <th>117590330</th>\n",
       "      <th>117632419</th>\n",
       "      <th>118415091</th>\n",
       "      <th>118415100</th>\n",
       "      <th>118770411</th>\n",
       "      <th>118770567</th>\n",
       "    </tr>\n",
       "  </thead>\n",
       "  <tbody>\n",
       "    <tr>\n",
       "      <th>0</th>\n",
       "      <td>83585420</td>\n",
       "      <td>0</td>\n",
       "      <td>1</td>\n",
       "      <td>0</td>\n",
       "      <td>0</td>\n",
       "      <td>0</td>\n",
       "      <td>0</td>\n",
       "      <td>0</td>\n",
       "      <td>0</td>\n",
       "      <td>0</td>\n",
       "      <td>...</td>\n",
       "      <td>0</td>\n",
       "      <td>0</td>\n",
       "      <td>0</td>\n",
       "      <td>0</td>\n",
       "      <td>0</td>\n",
       "      <td>0</td>\n",
       "      <td>0</td>\n",
       "      <td>0</td>\n",
       "      <td>0</td>\n",
       "      <td>0</td>\n",
       "    </tr>\n",
       "    <tr>\n",
       "      <th>1</th>\n",
       "      <td>83585485</td>\n",
       "      <td>0</td>\n",
       "      <td>0</td>\n",
       "      <td>0</td>\n",
       "      <td>0</td>\n",
       "      <td>0</td>\n",
       "      <td>0</td>\n",
       "      <td>0</td>\n",
       "      <td>0</td>\n",
       "      <td>0</td>\n",
       "      <td>...</td>\n",
       "      <td>0</td>\n",
       "      <td>0</td>\n",
       "      <td>0</td>\n",
       "      <td>0</td>\n",
       "      <td>0</td>\n",
       "      <td>0</td>\n",
       "      <td>0</td>\n",
       "      <td>0</td>\n",
       "      <td>0</td>\n",
       "      <td>0</td>\n",
       "    </tr>\n",
       "    <tr>\n",
       "      <th>2</th>\n",
       "      <td>83585609</td>\n",
       "      <td>0</td>\n",
       "      <td>0</td>\n",
       "      <td>0</td>\n",
       "      <td>1</td>\n",
       "      <td>0</td>\n",
       "      <td>0</td>\n",
       "      <td>0</td>\n",
       "      <td>0</td>\n",
       "      <td>0</td>\n",
       "      <td>...</td>\n",
       "      <td>0</td>\n",
       "      <td>0</td>\n",
       "      <td>0</td>\n",
       "      <td>0</td>\n",
       "      <td>0</td>\n",
       "      <td>0</td>\n",
       "      <td>0</td>\n",
       "      <td>0</td>\n",
       "      <td>0</td>\n",
       "      <td>0</td>\n",
       "    </tr>\n",
       "    <tr>\n",
       "      <th>3</th>\n",
       "      <td>83585658</td>\n",
       "      <td>0</td>\n",
       "      <td>0</td>\n",
       "      <td>0</td>\n",
       "      <td>0</td>\n",
       "      <td>0</td>\n",
       "      <td>0</td>\n",
       "      <td>0</td>\n",
       "      <td>0</td>\n",
       "      <td>0</td>\n",
       "      <td>...</td>\n",
       "      <td>0</td>\n",
       "      <td>0</td>\n",
       "      <td>0</td>\n",
       "      <td>0</td>\n",
       "      <td>0</td>\n",
       "      <td>0</td>\n",
       "      <td>0</td>\n",
       "      <td>0</td>\n",
       "      <td>0</td>\n",
       "      <td>0</td>\n",
       "    </tr>\n",
       "    <tr>\n",
       "      <th>4</th>\n",
       "      <td>83585806</td>\n",
       "      <td>0</td>\n",
       "      <td>0</td>\n",
       "      <td>0</td>\n",
       "      <td>0</td>\n",
       "      <td>0</td>\n",
       "      <td>1</td>\n",
       "      <td>0</td>\n",
       "      <td>0</td>\n",
       "      <td>0</td>\n",
       "      <td>...</td>\n",
       "      <td>0</td>\n",
       "      <td>0</td>\n",
       "      <td>0</td>\n",
       "      <td>0</td>\n",
       "      <td>0</td>\n",
       "      <td>0</td>\n",
       "      <td>0</td>\n",
       "      <td>0</td>\n",
       "      <td>0</td>\n",
       "      <td>0</td>\n",
       "    </tr>\n",
       "    <tr>\n",
       "      <th>...</th>\n",
       "      <td>...</td>\n",
       "      <td>...</td>\n",
       "      <td>...</td>\n",
       "      <td>...</td>\n",
       "      <td>...</td>\n",
       "      <td>...</td>\n",
       "      <td>...</td>\n",
       "      <td>...</td>\n",
       "      <td>...</td>\n",
       "      <td>...</td>\n",
       "      <td>...</td>\n",
       "      <td>...</td>\n",
       "      <td>...</td>\n",
       "      <td>...</td>\n",
       "      <td>...</td>\n",
       "      <td>...</td>\n",
       "      <td>...</td>\n",
       "      <td>...</td>\n",
       "      <td>...</td>\n",
       "      <td>...</td>\n",
       "      <td>...</td>\n",
       "    </tr>\n",
       "    <tr>\n",
       "      <th>2836</th>\n",
       "      <td>117632419</td>\n",
       "      <td>0</td>\n",
       "      <td>0</td>\n",
       "      <td>0</td>\n",
       "      <td>0</td>\n",
       "      <td>0</td>\n",
       "      <td>0</td>\n",
       "      <td>0</td>\n",
       "      <td>0</td>\n",
       "      <td>0</td>\n",
       "      <td>...</td>\n",
       "      <td>0</td>\n",
       "      <td>0</td>\n",
       "      <td>0</td>\n",
       "      <td>0</td>\n",
       "      <td>0</td>\n",
       "      <td>0</td>\n",
       "      <td>0</td>\n",
       "      <td>0</td>\n",
       "      <td>0</td>\n",
       "      <td>0</td>\n",
       "    </tr>\n",
       "    <tr>\n",
       "      <th>2837</th>\n",
       "      <td>118415091</td>\n",
       "      <td>0</td>\n",
       "      <td>0</td>\n",
       "      <td>0</td>\n",
       "      <td>0</td>\n",
       "      <td>0</td>\n",
       "      <td>0</td>\n",
       "      <td>0</td>\n",
       "      <td>0</td>\n",
       "      <td>0</td>\n",
       "      <td>...</td>\n",
       "      <td>0</td>\n",
       "      <td>0</td>\n",
       "      <td>0</td>\n",
       "      <td>0</td>\n",
       "      <td>0</td>\n",
       "      <td>0</td>\n",
       "      <td>0</td>\n",
       "      <td>1</td>\n",
       "      <td>0</td>\n",
       "      <td>0</td>\n",
       "    </tr>\n",
       "    <tr>\n",
       "      <th>2838</th>\n",
       "      <td>118415100</td>\n",
       "      <td>0</td>\n",
       "      <td>0</td>\n",
       "      <td>0</td>\n",
       "      <td>0</td>\n",
       "      <td>0</td>\n",
       "      <td>0</td>\n",
       "      <td>0</td>\n",
       "      <td>0</td>\n",
       "      <td>0</td>\n",
       "      <td>...</td>\n",
       "      <td>0</td>\n",
       "      <td>0</td>\n",
       "      <td>0</td>\n",
       "      <td>0</td>\n",
       "      <td>0</td>\n",
       "      <td>0</td>\n",
       "      <td>0</td>\n",
       "      <td>0</td>\n",
       "      <td>0</td>\n",
       "      <td>0</td>\n",
       "    </tr>\n",
       "    <tr>\n",
       "      <th>2839</th>\n",
       "      <td>118770411</td>\n",
       "      <td>0</td>\n",
       "      <td>0</td>\n",
       "      <td>0</td>\n",
       "      <td>0</td>\n",
       "      <td>0</td>\n",
       "      <td>0</td>\n",
       "      <td>0</td>\n",
       "      <td>0</td>\n",
       "      <td>0</td>\n",
       "      <td>...</td>\n",
       "      <td>0</td>\n",
       "      <td>0</td>\n",
       "      <td>0</td>\n",
       "      <td>0</td>\n",
       "      <td>0</td>\n",
       "      <td>0</td>\n",
       "      <td>0</td>\n",
       "      <td>0</td>\n",
       "      <td>0</td>\n",
       "      <td>0</td>\n",
       "    </tr>\n",
       "    <tr>\n",
       "      <th>2840</th>\n",
       "      <td>118770567</td>\n",
       "      <td>0</td>\n",
       "      <td>0</td>\n",
       "      <td>0</td>\n",
       "      <td>0</td>\n",
       "      <td>0</td>\n",
       "      <td>0</td>\n",
       "      <td>0</td>\n",
       "      <td>0</td>\n",
       "      <td>0</td>\n",
       "      <td>...</td>\n",
       "      <td>0</td>\n",
       "      <td>0</td>\n",
       "      <td>0</td>\n",
       "      <td>0</td>\n",
       "      <td>0</td>\n",
       "      <td>0</td>\n",
       "      <td>0</td>\n",
       "      <td>0</td>\n",
       "      <td>1</td>\n",
       "      <td>0</td>\n",
       "    </tr>\n",
       "  </tbody>\n",
       "</table>\n",
       "<p>2841 rows × 2842 columns</p>\n",
       "</div>"
      ],
      "text/plain": [
       "            row  83585420  83585485  83585609  83585658  83585806  83585863  \\\n",
       "0      83585420         0         1         0         0         0         0   \n",
       "1      83585485         0         0         0         0         0         0   \n",
       "2      83585609         0         0         0         1         0         0   \n",
       "3      83585658         0         0         0         0         0         0   \n",
       "4      83585806         0         0         0         0         0         1   \n",
       "...         ...       ...       ...       ...       ...       ...       ...   \n",
       "2836  117632419         0         0         0         0         0         0   \n",
       "2837  118415091         0         0         0         0         0         0   \n",
       "2838  118415100         0         0         0         0         0         0   \n",
       "2839  118770411         0         0         0         0         0         0   \n",
       "2840  118770567         0         0         0         0         0         0   \n",
       "\n",
       "      83585888  83586020  83586069  ...  117489955  117490052  117490417  \\\n",
       "0            0         0         0  ...          0          0          0   \n",
       "1            0         0         0  ...          0          0          0   \n",
       "2            0         0         0  ...          0          0          0   \n",
       "3            0         0         0  ...          0          0          0   \n",
       "4            0         0         0  ...          0          0          0   \n",
       "...        ...       ...       ...  ...        ...        ...        ...   \n",
       "2836         0         0         0  ...          0          0          0   \n",
       "2837         0         0         0  ...          0          0          0   \n",
       "2838         0         0         0  ...          0          0          0   \n",
       "2839         0         0         0  ...          0          0          0   \n",
       "2840         0         0         0  ...          0          0          0   \n",
       "\n",
       "      117490530  117590330  117632419  118415091  118415100  118770411  \\\n",
       "0             0          0          0          0          0          0   \n",
       "1             0          0          0          0          0          0   \n",
       "2             0          0          0          0          0          0   \n",
       "3             0          0          0          0          0          0   \n",
       "4             0          0          0          0          0          0   \n",
       "...         ...        ...        ...        ...        ...        ...   \n",
       "2836          0          0          0          0          0          0   \n",
       "2837          0          0          0          0          1          0   \n",
       "2838          0          0          0          0          0          0   \n",
       "2839          0          0          0          0          0          0   \n",
       "2840          0          0          0          0          0          1   \n",
       "\n",
       "      118770567  \n",
       "0             0  \n",
       "1             0  \n",
       "2             0  \n",
       "3             0  \n",
       "4             0  \n",
       "...         ...  \n",
       "2836          0  \n",
       "2837          0  \n",
       "2838          0  \n",
       "2839          0  \n",
       "2840          0  \n",
       "\n",
       "[2841 rows x 2842 columns]"
      ]
     },
     "execution_count": 8,
     "metadata": {},
     "output_type": "execute_result"
    }
   ],
   "source": [
    "link_df"
   ]
  },
  {
   "cell_type": "code",
   "execution_count": 9,
   "id": "5b500266",
   "metadata": {
    "ExecuteTime": {
     "end_time": "2022-02-02T11:52:45.183508Z",
     "start_time": "2022-02-02T11:52:45.126593Z"
    }
   },
   "outputs": [
    {
     "name": "stdout",
     "output_type": "stream",
     "text": [
      "<class 'pandas.core.frame.DataFrame'>\n",
      "RangeIndex: 2841 entries, 0 to 2840\n",
      "Columns: 2842 entries, row to 118770567\n",
      "dtypes: int64(2842)\n",
      "memory usage: 61.6 MB\n"
     ]
    }
   ],
   "source": [
    "link_df.info()"
   ]
  },
  {
   "cell_type": "code",
   "execution_count": 10,
   "id": "b3338e6c",
   "metadata": {
    "ExecuteTime": {
     "end_time": "2022-02-02T11:52:45.369055Z",
     "start_time": "2022-02-02T11:52:45.363354Z"
    }
   },
   "outputs": [
    {
     "data": {
      "text/plain": [
       "row          int64\n",
       "83585420     int64\n",
       "83585485     int64\n",
       "83585609     int64\n",
       "83585658     int64\n",
       "             ...  \n",
       "117632419    int64\n",
       "118415091    int64\n",
       "118415100    int64\n",
       "118770411    int64\n",
       "118770567    int64\n",
       "Length: 2842, dtype: object"
      ]
     },
     "execution_count": 10,
     "metadata": {},
     "output_type": "execute_result"
    }
   ],
   "source": [
    "link_df.dtypes"
   ]
  },
  {
   "cell_type": "markdown",
   "id": "d816dce8",
   "metadata": {},
   "source": [
    "# link単位車速可視化"
   ]
  },
  {
   "cell_type": "markdown",
   "id": "8c3e9075",
   "metadata": {},
   "source": [
    "## 事故が発生日＆link抽出"
   ]
  },
  {
   "cell_type": "code",
   "execution_count": 11,
   "id": "deb02668",
   "metadata": {
    "ExecuteTime": {
     "end_time": "2022-02-02T11:53:25.882137Z",
     "start_time": "2022-02-02T11:53:25.840726Z"
    }
   },
   "outputs": [],
   "source": [
    "real_accident_links_df=df[df[\"real_accident_flag\"]==1][[\"linkid\",\"gps_timestamp\"]]"
   ]
  },
  {
   "cell_type": "code",
   "execution_count": 12,
   "id": "c9778da4",
   "metadata": {
    "ExecuteTime": {
     "end_time": "2022-02-02T11:53:26.356159Z",
     "start_time": "2022-02-02T11:53:26.345588Z"
    }
   },
   "outputs": [
    {
     "name": "stdout",
     "output_type": "stream",
     "text": [
      "<class 'pandas.core.frame.DataFrame'>\n",
      "Int64Index: 4928 entries, 12248 to 12668194\n",
      "Data columns (total 2 columns):\n",
      " #   Column         Non-Null Count  Dtype         \n",
      "---  ------         --------------  -----         \n",
      " 0   linkid         4928 non-null   int64         \n",
      " 1   gps_timestamp  4928 non-null   datetime64[ns]\n",
      "dtypes: datetime64[ns](1), int64(1)\n",
      "memory usage: 115.5 KB\n"
     ]
    }
   ],
   "source": [
    "real_accident_links_df.info()"
   ]
  },
  {
   "cell_type": "code",
   "execution_count": 13,
   "id": "adb3396b",
   "metadata": {
    "ExecuteTime": {
     "end_time": "2022-02-02T11:53:26.949475Z",
     "start_time": "2022-02-02T11:53:26.937416Z"
    }
   },
   "outputs": [
    {
     "data": {
      "text/html": [
       "<div>\n",
       "<style scoped>\n",
       "    .dataframe tbody tr th:only-of-type {\n",
       "        vertical-align: middle;\n",
       "    }\n",
       "\n",
       "    .dataframe tbody tr th {\n",
       "        vertical-align: top;\n",
       "    }\n",
       "\n",
       "    .dataframe thead th {\n",
       "        text-align: right;\n",
       "    }\n",
       "</style>\n",
       "<table border=\"1\" class=\"dataframe\">\n",
       "  <thead>\n",
       "    <tr style=\"text-align: right;\">\n",
       "      <th></th>\n",
       "      <th>linkid</th>\n",
       "      <th>gps_timestamp</th>\n",
       "    </tr>\n",
       "  </thead>\n",
       "  <tbody>\n",
       "    <tr>\n",
       "      <th>12248</th>\n",
       "      <td>83585609</td>\n",
       "      <td>2021-12-24 01:20:00</td>\n",
       "    </tr>\n",
       "    <tr>\n",
       "      <th>12249</th>\n",
       "      <td>83585609</td>\n",
       "      <td>2021-12-24 01:30:00</td>\n",
       "    </tr>\n",
       "    <tr>\n",
       "      <th>12250</th>\n",
       "      <td>83585609</td>\n",
       "      <td>2021-12-24 01:40:00</td>\n",
       "    </tr>\n",
       "    <tr>\n",
       "      <th>50464</th>\n",
       "      <td>83586355</td>\n",
       "      <td>2021-12-10 10:40:00</td>\n",
       "    </tr>\n",
       "    <tr>\n",
       "      <th>50465</th>\n",
       "      <td>83586355</td>\n",
       "      <td>2021-12-10 10:50:00</td>\n",
       "    </tr>\n",
       "    <tr>\n",
       "      <th>...</th>\n",
       "      <td>...</td>\n",
       "      <td>...</td>\n",
       "    </tr>\n",
       "    <tr>\n",
       "      <th>12667577</th>\n",
       "      <td>118415091</td>\n",
       "      <td>2021-12-23 06:50:00</td>\n",
       "    </tr>\n",
       "    <tr>\n",
       "      <th>12667578</th>\n",
       "      <td>118415091</td>\n",
       "      <td>2021-12-23 07:00:00</td>\n",
       "    </tr>\n",
       "    <tr>\n",
       "      <th>12668192</th>\n",
       "      <td>118415091</td>\n",
       "      <td>2021-12-27 13:20:00</td>\n",
       "    </tr>\n",
       "    <tr>\n",
       "      <th>12668193</th>\n",
       "      <td>118415091</td>\n",
       "      <td>2021-12-27 13:30:00</td>\n",
       "    </tr>\n",
       "    <tr>\n",
       "      <th>12668194</th>\n",
       "      <td>118415091</td>\n",
       "      <td>2021-12-27 13:40:00</td>\n",
       "    </tr>\n",
       "  </tbody>\n",
       "</table>\n",
       "<p>4928 rows × 2 columns</p>\n",
       "</div>"
      ],
      "text/plain": [
       "             linkid       gps_timestamp\n",
       "12248      83585609 2021-12-24 01:20:00\n",
       "12249      83585609 2021-12-24 01:30:00\n",
       "12250      83585609 2021-12-24 01:40:00\n",
       "50464      83586355 2021-12-10 10:40:00\n",
       "50465      83586355 2021-12-10 10:50:00\n",
       "...             ...                 ...\n",
       "12667577  118415091 2021-12-23 06:50:00\n",
       "12667578  118415091 2021-12-23 07:00:00\n",
       "12668192  118415091 2021-12-27 13:20:00\n",
       "12668193  118415091 2021-12-27 13:30:00\n",
       "12668194  118415091 2021-12-27 13:40:00\n",
       "\n",
       "[4928 rows x 2 columns]"
      ]
     },
     "execution_count": 13,
     "metadata": {},
     "output_type": "execute_result"
    }
   ],
   "source": [
    "real_accident_links_df"
   ]
  },
  {
   "cell_type": "code",
   "execution_count": 14,
   "id": "b3780f53",
   "metadata": {
    "ExecuteTime": {
     "end_time": "2022-02-02T11:53:27.525331Z",
     "start_time": "2022-02-02T11:53:27.457285Z"
    }
   },
   "outputs": [
    {
     "data": {
      "text/html": [
       "<div>\n",
       "<style scoped>\n",
       "    .dataframe tbody tr th:only-of-type {\n",
       "        vertical-align: middle;\n",
       "    }\n",
       "\n",
       "    .dataframe tbody tr th {\n",
       "        vertical-align: top;\n",
       "    }\n",
       "\n",
       "    .dataframe thead th {\n",
       "        text-align: right;\n",
       "    }\n",
       "</style>\n",
       "<table border=\"1\" class=\"dataframe\">\n",
       "  <thead>\n",
       "    <tr style=\"text-align: right;\">\n",
       "      <th></th>\n",
       "      <th>linkid</th>\n",
       "      <th>gps_date</th>\n",
       "    </tr>\n",
       "  </thead>\n",
       "  <tbody>\n",
       "    <tr>\n",
       "      <th>12248</th>\n",
       "      <td>83585609</td>\n",
       "      <td>2021-12-24</td>\n",
       "    </tr>\n",
       "    <tr>\n",
       "      <th>50464</th>\n",
       "      <td>83586355</td>\n",
       "      <td>2021-12-10</td>\n",
       "    </tr>\n",
       "    <tr>\n",
       "      <th>73808</th>\n",
       "      <td>83586713</td>\n",
       "      <td>2021-12-17</td>\n",
       "    </tr>\n",
       "    <tr>\n",
       "      <th>79573</th>\n",
       "      <td>83586866</td>\n",
       "      <td>2021-12-26</td>\n",
       "    </tr>\n",
       "    <tr>\n",
       "      <th>94288</th>\n",
       "      <td>83587206</td>\n",
       "      <td>2021-12-04</td>\n",
       "    </tr>\n",
       "    <tr>\n",
       "      <th>...</th>\n",
       "      <td>...</td>\n",
       "      <td>...</td>\n",
       "    </tr>\n",
       "    <tr>\n",
       "      <th>12596469</th>\n",
       "      <td>116303066</td>\n",
       "      <td>2021-12-25</td>\n",
       "    </tr>\n",
       "    <tr>\n",
       "      <th>12610580</th>\n",
       "      <td>116353749</td>\n",
       "      <td>2021-12-30</td>\n",
       "    </tr>\n",
       "    <tr>\n",
       "      <th>12615045</th>\n",
       "      <td>116354815</td>\n",
       "      <td>2021-12-30</td>\n",
       "    </tr>\n",
       "    <tr>\n",
       "      <th>12667570</th>\n",
       "      <td>118415091</td>\n",
       "      <td>2021-12-23</td>\n",
       "    </tr>\n",
       "    <tr>\n",
       "      <th>12668192</th>\n",
       "      <td>118415091</td>\n",
       "      <td>2021-12-27</td>\n",
       "    </tr>\n",
       "  </tbody>\n",
       "</table>\n",
       "<p>1091 rows × 2 columns</p>\n",
       "</div>"
      ],
      "text/plain": [
       "             linkid    gps_date\n",
       "12248      83585609  2021-12-24\n",
       "50464      83586355  2021-12-10\n",
       "73808      83586713  2021-12-17\n",
       "79573      83586866  2021-12-26\n",
       "94288      83587206  2021-12-04\n",
       "...             ...         ...\n",
       "12596469  116303066  2021-12-25\n",
       "12610580  116353749  2021-12-30\n",
       "12615045  116354815  2021-12-30\n",
       "12667570  118415091  2021-12-23\n",
       "12668192  118415091  2021-12-27\n",
       "\n",
       "[1091 rows x 2 columns]"
      ]
     },
     "metadata": {},
     "output_type": "display_data"
    }
   ],
   "source": [
    "real_accident_links_df[\"gps_timestamp\"]=pd.to_datetime(real_accident_links_df[\"gps_timestamp\"])\n",
    "real_accident_links_df[\"gps_date\"]=real_accident_links_df['gps_timestamp'].dt.strftime(\"%Y-%m-%d\")\n",
    "real_accident_links_df=real_accident_links_df.drop_duplicates(subset=[\"linkid\",\"gps_date\"],keep=\"first\")\n",
    "real_accident_links_df=real_accident_links_df.drop(\"gps_timestamp\",axis=1)\n",
    "display(real_accident_links_df)"
   ]
  },
  {
   "cell_type": "markdown",
   "id": "ce6387eb",
   "metadata": {},
   "source": [
    "## 個別車速可視化"
   ]
  },
  {
   "cell_type": "code",
   "execution_count": 15,
   "id": "19126416",
   "metadata": {
    "ExecuteTime": {
     "end_time": "2022-02-02T11:53:58.739107Z",
     "start_time": "2022-02-02T11:53:58.702633Z"
    }
   },
   "outputs": [],
   "source": [
    "vis_folder=\"/mnt/mnt/nfs/home/ji-yong/jupyterwork/collaresearch-ut/result/visualization/12month/real_accident/single_link/\"\n",
    "\n",
    "if not os.path.exists(vis_folder):\n",
    "    os.makedirs(vis_folder)\n",
    "meanful_real_accident_list=[]\n",
    "\n",
    "def link_speed(linkid, date, df,meanful_real_accident_list,speed_diff_thres=20):\n",
    "#     print(date,type(date))\n",
    "#     print(datetime.datetime.strptime(date,'%Y-%m-%d'),type(datetime.datetime.strptime(date,'%Y-%m-%d')))\n",
    "    datetime_date=datetime.datetime.strptime(date,'%Y-%m-%d')\n",
    "    datetime_date2=datetime_date + timedelta(days=1)\n",
    "    real_accident_link_date_df=df[df[\"linkid\"]==linkid]\n",
    "    real_accident_link_date_df=real_accident_link_date_df[(real_accident_link_date_df[\"gps_timestamp\"]>=datetime_date) & (real_accident_link_date_df[\"gps_timestamp\"]<datetime_date2)]\n",
    "    #display(real_accident_link_date_df)\n",
    "    \n",
    "    accident_date=list(real_accident_link_date_df[real_accident_link_date_df[\"real_accident_flag\"]==1][\"gps_timestamp\"])\n",
    "    start_datetime = accident_date[0]\n",
    "    end_datetime = accident_date[-1]\n",
    "    \n",
    "    speed_distance_list=[]\n",
    "    speed_list=[]\n",
    "    for date in accident_date:\n",
    "        speed_distance_list.append(abs(real_accident_link_date_df[real_accident_link_date_df[\"gps_timestamp\"]==date][\"speed_typea_y\"].values[0]-real_accident_link_date_df[real_accident_link_date_df[\"gps_timestamp\"]==date][\"speed_typea\"].values[0]))\n",
    "        speed_list.append(real_accident_link_date_df[real_accident_link_date_df[\"gps_timestamp\"]==date][\"speed_typea\"].values[0])\n",
    "    mean=sum(speed_distance_list)/len(speed_distance_list)\n",
    "    speed_mean=sum(speed_list)/len(speed_list)\n",
    "    if mean>=speed_diff_thres and len(accident_date)>3 and speed_mean<=40: #at least 30min  平均速度は60以下\n",
    "        meanful_real_accident_list.append((linkid, date)) \n",
    "        #visualization\n",
    "        plt.figure(figsize =(20, 8)) \n",
    "        plt.plot(real_accident_link_date_df[\"gps_timestamp\"],real_accident_link_date_df[\"speed_typea\"],label=\"speed_typea\")\n",
    "        plt.plot(real_accident_link_date_df[\"gps_timestamp\"],real_accident_link_date_df[\"speed_typea_y\"],label=\"speed_typea_y\")\n",
    "        plt.axvspan(start_datetime, end_datetime, color=\"red\", alpha=0.1)\n",
    "        plt.xlabel('Time')\n",
    "        plt.ylabel('speed')\n",
    "        plt.legend()\n",
    "        plt.title(f\"link id {linkid} accident time {start_datetime} mean speed_diff {mean}\", fontsize=12, y=1)\n",
    "        plt.savefig(vis_folder+f\"link id {linkid} accident time{start_datetime}\")\n",
    "        plt.close()\n",
    "        #plt.show()    \n"
   ]
  },
  {
   "cell_type": "code",
   "execution_count": 16,
   "id": "b67d6fee",
   "metadata": {
    "ExecuteTime": {
     "end_time": "2022-02-02T11:55:11.102284Z",
     "start_time": "2022-02-02T11:53:59.625421Z"
    }
   },
   "outputs": [
    {
     "data": {
      "application/vnd.jupyter.widget-view+json": {
       "model_id": "d13002d803df44129088bb8819c2816b",
       "version_major": 2,
       "version_minor": 0
      },
      "text/plain": [
       "  0%|          | 0/1091 [00:00<?, ?it/s]"
      ]
     },
     "metadata": {},
     "output_type": "display_data"
    },
    {
     "name": "stdout",
     "output_type": "stream",
     "text": [
      "[(83590553, Timestamp('2021-12-25 17:30:00')), (83592015, Timestamp('2021-12-31 03:50:00'))] 234\n"
     ]
    }
   ],
   "source": [
    "for i in tqdm(range(len(real_accident_links_df))):\n",
    "    link_speed(real_accident_links_df[\"linkid\"].values[i],real_accident_links_df[\"gps_date\"].values[i],df,meanful_real_accident_list)\n",
    "print(meanful_real_accident_list[:2],len(meanful_real_accident_list))\n",
    "    #break"
   ]
  },
  {
   "cell_type": "markdown",
   "id": "d38794e7",
   "metadata": {},
   "source": [
    "# 道路伝播可視化"
   ]
  },
  {
   "cell_type": "code",
   "execution_count": 17,
   "id": "4a0a3fd2",
   "metadata": {
    "ExecuteTime": {
     "end_time": "2022-02-02T12:33:39.716807Z",
     "start_time": "2022-02-02T12:33:39.654905Z"
    }
   },
   "outputs": [],
   "source": [
    "# read the all paths created by BLink_networks_capital_new\n",
    "with open('result/metrix/capital_longest_path.pkl', 'rb') as f:\n",
    "    path_list = pickle.load(f)"
   ]
  },
  {
   "cell_type": "code",
   "execution_count": 18,
   "id": "61884f30",
   "metadata": {
    "ExecuteTime": {
     "end_time": "2022-02-03T00:56:15.975889Z",
     "start_time": "2022-02-02T12:33:59.761189Z"
    }
   },
   "outputs": [
    {
     "data": {
      "application/vnd.jupyter.widget-view+json": {
       "model_id": "f184a6a54cdd481482ed5815d854341b",
       "version_major": 2,
       "version_minor": 0
      },
      "text/plain": [
       "  0%|          | 0/234 [00:00<?, ?it/s]"
      ]
     },
     "metadata": {},
     "output_type": "display_data"
    },
    {
     "data": {
      "application/vnd.jupyter.widget-view+json": {
       "model_id": "93571a1b1eec4db4ba05b29b44eadef1",
       "version_major": 2,
       "version_minor": 0
      },
      "text/plain": [
       "  0%|          | 0/26 [00:00<?, ?it/s]"
      ]
     },
     "metadata": {},
     "output_type": "display_data"
    },
    {
     "data": {
      "application/vnd.jupyter.widget-view+json": {
       "model_id": "d1f23fa01d2f47d9bd3f33ce00a3cebf",
       "version_major": 2,
       "version_minor": 0
      },
      "text/plain": [
       "  0%|          | 0/31 [00:00<?, ?it/s]"
      ]
     },
     "metadata": {},
     "output_type": "display_data"
    },
    {
     "data": {
      "application/vnd.jupyter.widget-view+json": {
       "model_id": "9065ff5f5ac44a27b6b09ab761e8e822",
       "version_major": 2,
       "version_minor": 0
      },
      "text/plain": [
       "  0%|          | 0/31 [00:00<?, ?it/s]"
      ]
     },
     "metadata": {},
     "output_type": "display_data"
    },
    {
     "data": {
      "application/vnd.jupyter.widget-view+json": {
       "model_id": "0a67fa374f5d4da9a755364940d7e34e",
       "version_major": 2,
       "version_minor": 0
      },
      "text/plain": [
       "  0%|          | 0/31 [00:00<?, ?it/s]"
      ]
     },
     "metadata": {},
     "output_type": "display_data"
    },
    {
     "data": {
      "application/vnd.jupyter.widget-view+json": {
       "model_id": "ed5692134e8a44cead8a00154bf19caf",
       "version_major": 2,
       "version_minor": 0
      },
      "text/plain": [
       "  0%|          | 0/31 [00:00<?, ?it/s]"
      ]
     },
     "metadata": {},
     "output_type": "display_data"
    },
    {
     "data": {
      "application/vnd.jupyter.widget-view+json": {
       "model_id": "78f01d3ca2be44bf905b4c8a02666e28",
       "version_major": 2,
       "version_minor": 0
      },
      "text/plain": [
       "  0%|          | 0/31 [00:00<?, ?it/s]"
      ]
     },
     "metadata": {},
     "output_type": "display_data"
    },
    {
     "data": {
      "application/vnd.jupyter.widget-view+json": {
       "model_id": "491ced742ac141e29baeb809ace6ef3b",
       "version_major": 2,
       "version_minor": 0
      },
      "text/plain": [
       "  0%|          | 0/31 [00:00<?, ?it/s]"
      ]
     },
     "metadata": {},
     "output_type": "display_data"
    },
    {
     "data": {
      "application/vnd.jupyter.widget-view+json": {
       "model_id": "9144213614d54d1885cb7e60e6f0ce16",
       "version_major": 2,
       "version_minor": 0
      },
      "text/plain": [
       "  0%|          | 0/24 [00:00<?, ?it/s]"
      ]
     },
     "metadata": {},
     "output_type": "display_data"
    },
    {
     "data": {
      "application/vnd.jupyter.widget-view+json": {
       "model_id": "8c518d1791ef4fdfb0142a6e67c82804",
       "version_major": 2,
       "version_minor": 0
      },
      "text/plain": [
       "  0%|          | 0/31 [00:00<?, ?it/s]"
      ]
     },
     "metadata": {},
     "output_type": "display_data"
    },
    {
     "data": {
      "application/vnd.jupyter.widget-view+json": {
       "model_id": "82c4bd91484c4d449d98d6043f9c0111",
       "version_major": 2,
       "version_minor": 0
      },
      "text/plain": [
       "  0%|          | 0/31 [00:00<?, ?it/s]"
      ]
     },
     "metadata": {},
     "output_type": "display_data"
    },
    {
     "data": {
      "application/vnd.jupyter.widget-view+json": {
       "model_id": "2306c1210100426aaa72985f339a5886",
       "version_major": 2,
       "version_minor": 0
      },
      "text/plain": [
       "  0%|          | 0/31 [00:00<?, ?it/s]"
      ]
     },
     "metadata": {},
     "output_type": "display_data"
    },
    {
     "data": {
      "application/vnd.jupyter.widget-view+json": {
       "model_id": "aa8565721c1242fea0bed189c241b0e4",
       "version_major": 2,
       "version_minor": 0
      },
      "text/plain": [
       "  0%|          | 0/27 [00:00<?, ?it/s]"
      ]
     },
     "metadata": {},
     "output_type": "display_data"
    },
    {
     "data": {
      "application/vnd.jupyter.widget-view+json": {
       "model_id": "9bed1775bbf34bde97b8afeaf45a5dea",
       "version_major": 2,
       "version_minor": 0
      },
      "text/plain": [
       "  0%|          | 0/16 [00:00<?, ?it/s]"
      ]
     },
     "metadata": {},
     "output_type": "display_data"
    },
    {
     "data": {
      "application/vnd.jupyter.widget-view+json": {
       "model_id": "a5e6a875a16c423abe165c4b29c0be40",
       "version_major": 2,
       "version_minor": 0
      },
      "text/plain": [
       "  0%|          | 0/16 [00:00<?, ?it/s]"
      ]
     },
     "metadata": {},
     "output_type": "display_data"
    },
    {
     "data": {
      "application/vnd.jupyter.widget-view+json": {
       "model_id": "ded49c67bf4c418c9bc9a15f76294dcc",
       "version_major": 2,
       "version_minor": 0
      },
      "text/plain": [
       "  0%|          | 0/28 [00:00<?, ?it/s]"
      ]
     },
     "metadata": {},
     "output_type": "display_data"
    },
    {
     "data": {
      "application/vnd.jupyter.widget-view+json": {
       "model_id": "b8956f67a4c7455eb2c0907fc4accbba",
       "version_major": 2,
       "version_minor": 0
      },
      "text/plain": [
       "  0%|          | 0/18 [00:00<?, ?it/s]"
      ]
     },
     "metadata": {},
     "output_type": "display_data"
    },
    {
     "data": {
      "application/vnd.jupyter.widget-view+json": {
       "model_id": "19258afa25054a59b9785fdf5cdffde2",
       "version_major": 2,
       "version_minor": 0
      },
      "text/plain": [
       "  0%|          | 0/16 [00:00<?, ?it/s]"
      ]
     },
     "metadata": {},
     "output_type": "display_data"
    },
    {
     "data": {
      "application/vnd.jupyter.widget-view+json": {
       "model_id": "478fb9e76f724469873739d6e2f2060a",
       "version_major": 2,
       "version_minor": 0
      },
      "text/plain": [
       "  0%|          | 0/29 [00:00<?, ?it/s]"
      ]
     },
     "metadata": {},
     "output_type": "display_data"
    },
    {
     "data": {
      "application/vnd.jupyter.widget-view+json": {
       "model_id": "7a52b3e2f7ff45058f8b1d87a3e95997",
       "version_major": 2,
       "version_minor": 0
      },
      "text/plain": [
       "  0%|          | 0/20 [00:00<?, ?it/s]"
      ]
     },
     "metadata": {},
     "output_type": "display_data"
    },
    {
     "data": {
      "application/vnd.jupyter.widget-view+json": {
       "model_id": "b61bd2fc6a3548f6906bef5ee254c25c",
       "version_major": 2,
       "version_minor": 0
      },
      "text/plain": [
       "  0%|          | 0/16 [00:00<?, ?it/s]"
      ]
     },
     "metadata": {},
     "output_type": "display_data"
    },
    {
     "data": {
      "application/vnd.jupyter.widget-view+json": {
       "model_id": "2fce6b9296af46f4bc530d85f7cf8007",
       "version_major": 2,
       "version_minor": 0
      },
      "text/plain": [
       "  0%|          | 0/31 [00:00<?, ?it/s]"
      ]
     },
     "metadata": {},
     "output_type": "display_data"
    },
    {
     "data": {
      "application/vnd.jupyter.widget-view+json": {
       "model_id": "468f8bf1449f451b831873d6897d152a",
       "version_major": 2,
       "version_minor": 0
      },
      "text/plain": [
       "  0%|          | 0/29 [00:00<?, ?it/s]"
      ]
     },
     "metadata": {},
     "output_type": "display_data"
    },
    {
     "data": {
      "application/vnd.jupyter.widget-view+json": {
       "model_id": "9572aa1f28594d079a41c3496eb7e6d4",
       "version_major": 2,
       "version_minor": 0
      },
      "text/plain": [
       "  0%|          | 0/29 [00:00<?, ?it/s]"
      ]
     },
     "metadata": {},
     "output_type": "display_data"
    },
    {
     "data": {
      "application/vnd.jupyter.widget-view+json": {
       "model_id": "002066a50e45481bbf6483b1c19cf455",
       "version_major": 2,
       "version_minor": 0
      },
      "text/plain": [
       "  0%|          | 0/27 [00:00<?, ?it/s]"
      ]
     },
     "metadata": {},
     "output_type": "display_data"
    },
    {
     "data": {
      "application/vnd.jupyter.widget-view+json": {
       "model_id": "fbe012f4dcc346c59146ebd02b348a0d",
       "version_major": 2,
       "version_minor": 0
      },
      "text/plain": [
       "  0%|          | 0/27 [00:00<?, ?it/s]"
      ]
     },
     "metadata": {},
     "output_type": "display_data"
    },
    {
     "data": {
      "application/vnd.jupyter.widget-view+json": {
       "model_id": "3ff4f2e0821047f88c267931e0de2b58",
       "version_major": 2,
       "version_minor": 0
      },
      "text/plain": [
       "  0%|          | 0/20 [00:00<?, ?it/s]"
      ]
     },
     "metadata": {},
     "output_type": "display_data"
    },
    {
     "data": {
      "application/vnd.jupyter.widget-view+json": {
       "model_id": "9cb91936a8da441c9f2f6fcb8c6f29c7",
       "version_major": 2,
       "version_minor": 0
      },
      "text/plain": [
       "  0%|          | 0/31 [00:00<?, ?it/s]"
      ]
     },
     "metadata": {},
     "output_type": "display_data"
    },
    {
     "data": {
      "application/vnd.jupyter.widget-view+json": {
       "model_id": "9dd113a5ba4d40278c294bf3c5500983",
       "version_major": 2,
       "version_minor": 0
      },
      "text/plain": [
       "  0%|          | 0/31 [00:00<?, ?it/s]"
      ]
     },
     "metadata": {},
     "output_type": "display_data"
    },
    {
     "data": {
      "application/vnd.jupyter.widget-view+json": {
       "model_id": "3637927c1ed04fbf9d18325649103599",
       "version_major": 2,
       "version_minor": 0
      },
      "text/plain": [
       "  0%|          | 0/31 [00:00<?, ?it/s]"
      ]
     },
     "metadata": {},
     "output_type": "display_data"
    },
    {
     "data": {
      "application/vnd.jupyter.widget-view+json": {
       "model_id": "19be9a74df6a4b7aa8bda0368c4c650c",
       "version_major": 2,
       "version_minor": 0
      },
      "text/plain": [
       "  0%|          | 0/31 [00:00<?, ?it/s]"
      ]
     },
     "metadata": {},
     "output_type": "display_data"
    },
    {
     "data": {
      "application/vnd.jupyter.widget-view+json": {
       "model_id": "487b53f8c2fc4cb0926f7faf9f1c6c31",
       "version_major": 2,
       "version_minor": 0
      },
      "text/plain": [
       "  0%|          | 0/31 [00:00<?, ?it/s]"
      ]
     },
     "metadata": {},
     "output_type": "display_data"
    },
    {
     "data": {
      "application/vnd.jupyter.widget-view+json": {
       "model_id": "0f9498de778c4fe897c8ce8ca614649b",
       "version_major": 2,
       "version_minor": 0
      },
      "text/plain": [
       "  0%|          | 0/31 [00:00<?, ?it/s]"
      ]
     },
     "metadata": {},
     "output_type": "display_data"
    },
    {
     "data": {
      "application/vnd.jupyter.widget-view+json": {
       "model_id": "28ba309cb09b4fad8ad1cda3f81350e0",
       "version_major": 2,
       "version_minor": 0
      },
      "text/plain": [
       "  0%|          | 0/31 [00:00<?, ?it/s]"
      ]
     },
     "metadata": {},
     "output_type": "display_data"
    },
    {
     "data": {
      "application/vnd.jupyter.widget-view+json": {
       "model_id": "f1d2ab62d48b44e78b6d020fed6b7b00",
       "version_major": 2,
       "version_minor": 0
      },
      "text/plain": [
       "  0%|          | 0/31 [00:00<?, ?it/s]"
      ]
     },
     "metadata": {},
     "output_type": "display_data"
    },
    {
     "data": {
      "application/vnd.jupyter.widget-view+json": {
       "model_id": "09c2cd01b7d448d1b6e837d08efdf339",
       "version_major": 2,
       "version_minor": 0
      },
      "text/plain": [
       "  0%|          | 0/31 [00:00<?, ?it/s]"
      ]
     },
     "metadata": {},
     "output_type": "display_data"
    },
    {
     "data": {
      "application/vnd.jupyter.widget-view+json": {
       "model_id": "d1937f4a631445a2853d6467065dc085",
       "version_major": 2,
       "version_minor": 0
      },
      "text/plain": [
       "  0%|          | 0/31 [00:00<?, ?it/s]"
      ]
     },
     "metadata": {},
     "output_type": "display_data"
    },
    {
     "data": {
      "application/vnd.jupyter.widget-view+json": {
       "model_id": "adc6248dfc4b42c08518ddb67f22cfd4",
       "version_major": 2,
       "version_minor": 0
      },
      "text/plain": [
       "  0%|          | 0/31 [00:00<?, ?it/s]"
      ]
     },
     "metadata": {},
     "output_type": "display_data"
    },
    {
     "data": {
      "application/vnd.jupyter.widget-view+json": {
       "model_id": "f08d93b41e7d4d33b35cc0b798f7544e",
       "version_major": 2,
       "version_minor": 0
      },
      "text/plain": [
       "  0%|          | 0/31 [00:00<?, ?it/s]"
      ]
     },
     "metadata": {},
     "output_type": "display_data"
    },
    {
     "data": {
      "application/vnd.jupyter.widget-view+json": {
       "model_id": "fc744f81c5cd4fdc8dda50b6e2b1c929",
       "version_major": 2,
       "version_minor": 0
      },
      "text/plain": [
       "  0%|          | 0/31 [00:00<?, ?it/s]"
      ]
     },
     "metadata": {},
     "output_type": "display_data"
    },
    {
     "data": {
      "application/vnd.jupyter.widget-view+json": {
       "model_id": "457c2407dbbd4c0295000e917a27c4ff",
       "version_major": 2,
       "version_minor": 0
      },
      "text/plain": [
       "  0%|          | 0/16 [00:00<?, ?it/s]"
      ]
     },
     "metadata": {},
     "output_type": "display_data"
    },
    {
     "data": {
      "application/vnd.jupyter.widget-view+json": {
       "model_id": "766d6235676e4fbf91d349a9094ee053",
       "version_major": 2,
       "version_minor": 0
      },
      "text/plain": [
       "  0%|          | 0/25 [00:00<?, ?it/s]"
      ]
     },
     "metadata": {},
     "output_type": "display_data"
    },
    {
     "data": {
      "application/vnd.jupyter.widget-view+json": {
       "model_id": "4041edffe5c840fd82b922dadae419d4",
       "version_major": 2,
       "version_minor": 0
      },
      "text/plain": [
       "  0%|          | 0/26 [00:00<?, ?it/s]"
      ]
     },
     "metadata": {},
     "output_type": "display_data"
    },
    {
     "data": {
      "application/vnd.jupyter.widget-view+json": {
       "model_id": "9ffccf10cd724294b861a0309f85a621",
       "version_major": 2,
       "version_minor": 0
      },
      "text/plain": [
       "  0%|          | 0/26 [00:00<?, ?it/s]"
      ]
     },
     "metadata": {},
     "output_type": "display_data"
    },
    {
     "data": {
      "application/vnd.jupyter.widget-view+json": {
       "model_id": "36a9aead2df043208363fc30e22f902c",
       "version_major": 2,
       "version_minor": 0
      },
      "text/plain": [
       "  0%|          | 0/18 [00:00<?, ?it/s]"
      ]
     },
     "metadata": {},
     "output_type": "display_data"
    },
    {
     "data": {
      "application/vnd.jupyter.widget-view+json": {
       "model_id": "4921e8f014804deb98cf8203323ab458",
       "version_major": 2,
       "version_minor": 0
      },
      "text/plain": [
       "  0%|          | 0/19 [00:00<?, ?it/s]"
      ]
     },
     "metadata": {},
     "output_type": "display_data"
    },
    {
     "data": {
      "application/vnd.jupyter.widget-view+json": {
       "model_id": "5d3088e0294341a9a2f3510a2237dc1e",
       "version_major": 2,
       "version_minor": 0
      },
      "text/plain": [
       "  0%|          | 0/19 [00:00<?, ?it/s]"
      ]
     },
     "metadata": {},
     "output_type": "display_data"
    },
    {
     "data": {
      "application/vnd.jupyter.widget-view+json": {
       "model_id": "9199c544758e49c2944ca4250831901a",
       "version_major": 2,
       "version_minor": 0
      },
      "text/plain": [
       "  0%|          | 0/26 [00:00<?, ?it/s]"
      ]
     },
     "metadata": {},
     "output_type": "display_data"
    },
    {
     "data": {
      "application/vnd.jupyter.widget-view+json": {
       "model_id": "e0f6ad0957c741afad4006bdb8dd3c78",
       "version_major": 2,
       "version_minor": 0
      },
      "text/plain": [
       "  0%|          | 0/31 [00:00<?, ?it/s]"
      ]
     },
     "metadata": {},
     "output_type": "display_data"
    },
    {
     "data": {
      "application/vnd.jupyter.widget-view+json": {
       "model_id": "a67e4eac1ff7463abdf21c70c52bcc5e",
       "version_major": 2,
       "version_minor": 0
      },
      "text/plain": [
       "  0%|          | 0/23 [00:00<?, ?it/s]"
      ]
     },
     "metadata": {},
     "output_type": "display_data"
    },
    {
     "data": {
      "application/vnd.jupyter.widget-view+json": {
       "model_id": "d0cb2ccc895241b3b082d5a1901c07a1",
       "version_major": 2,
       "version_minor": 0
      },
      "text/plain": [
       "  0%|          | 0/16 [00:00<?, ?it/s]"
      ]
     },
     "metadata": {},
     "output_type": "display_data"
    },
    {
     "data": {
      "application/vnd.jupyter.widget-view+json": {
       "model_id": "fdd5ace9ecbc4fd5a3392e6290822b5c",
       "version_major": 2,
       "version_minor": 0
      },
      "text/plain": [
       "  0%|          | 0/16 [00:00<?, ?it/s]"
      ]
     },
     "metadata": {},
     "output_type": "display_data"
    },
    {
     "data": {
      "application/vnd.jupyter.widget-view+json": {
       "model_id": "415bd6643db343d8bf9ce5a20f52f24e",
       "version_major": 2,
       "version_minor": 0
      },
      "text/plain": [
       "  0%|          | 0/16 [00:00<?, ?it/s]"
      ]
     },
     "metadata": {},
     "output_type": "display_data"
    },
    {
     "data": {
      "application/vnd.jupyter.widget-view+json": {
       "model_id": "a605ddcb25444047abf6964fc8638d9f",
       "version_major": 2,
       "version_minor": 0
      },
      "text/plain": [
       "  0%|          | 0/16 [00:00<?, ?it/s]"
      ]
     },
     "metadata": {},
     "output_type": "display_data"
    },
    {
     "data": {
      "application/vnd.jupyter.widget-view+json": {
       "model_id": "d9c0496a87134dd68a561e4854978e36",
       "version_major": 2,
       "version_minor": 0
      },
      "text/plain": [
       "  0%|          | 0/16 [00:00<?, ?it/s]"
      ]
     },
     "metadata": {},
     "output_type": "display_data"
    },
    {
     "data": {
      "application/vnd.jupyter.widget-view+json": {
       "model_id": "820930f82f7f4c0b8b07e259b67506c0",
       "version_major": 2,
       "version_minor": 0
      },
      "text/plain": [
       "  0%|          | 0/31 [00:00<?, ?it/s]"
      ]
     },
     "metadata": {},
     "output_type": "display_data"
    },
    {
     "data": {
      "application/vnd.jupyter.widget-view+json": {
       "model_id": "ba8ca5febebe4c039a59031836ac139c",
       "version_major": 2,
       "version_minor": 0
      },
      "text/plain": [
       "  0%|          | 0/31 [00:00<?, ?it/s]"
      ]
     },
     "metadata": {},
     "output_type": "display_data"
    },
    {
     "data": {
      "application/vnd.jupyter.widget-view+json": {
       "model_id": "9477c252aae248e7ac75b521f6fe9374",
       "version_major": 2,
       "version_minor": 0
      },
      "text/plain": [
       "  0%|          | 0/31 [00:00<?, ?it/s]"
      ]
     },
     "metadata": {},
     "output_type": "display_data"
    },
    {
     "data": {
      "application/vnd.jupyter.widget-view+json": {
       "model_id": "6cb4b0430c9d48d082253e29fa7c4cbc",
       "version_major": 2,
       "version_minor": 0
      },
      "text/plain": [
       "  0%|          | 0/31 [00:00<?, ?it/s]"
      ]
     },
     "metadata": {},
     "output_type": "display_data"
    },
    {
     "data": {
      "application/vnd.jupyter.widget-view+json": {
       "model_id": "5ea943cee5cf4a28b073c46a73c97839",
       "version_major": 2,
       "version_minor": 0
      },
      "text/plain": [
       "  0%|          | 0/31 [00:00<?, ?it/s]"
      ]
     },
     "metadata": {},
     "output_type": "display_data"
    },
    {
     "data": {
      "application/vnd.jupyter.widget-view+json": {
       "model_id": "0dadae7728724ecaa0a46927b5e2a4b2",
       "version_major": 2,
       "version_minor": 0
      },
      "text/plain": [
       "  0%|          | 0/31 [00:00<?, ?it/s]"
      ]
     },
     "metadata": {},
     "output_type": "display_data"
    },
    {
     "data": {
      "application/vnd.jupyter.widget-view+json": {
       "model_id": "aa3e27085a5a4af9954be2805ed083e7",
       "version_major": 2,
       "version_minor": 0
      },
      "text/plain": [
       "  0%|          | 0/31 [00:00<?, ?it/s]"
      ]
     },
     "metadata": {},
     "output_type": "display_data"
    },
    {
     "data": {
      "application/vnd.jupyter.widget-view+json": {
       "model_id": "e4889610260445f1912a0331537c4db0",
       "version_major": 2,
       "version_minor": 0
      },
      "text/plain": [
       "  0%|          | 0/31 [00:00<?, ?it/s]"
      ]
     },
     "metadata": {},
     "output_type": "display_data"
    },
    {
     "data": {
      "application/vnd.jupyter.widget-view+json": {
       "model_id": "cfe2ecc5aefa46b6abbff826c98b6aa6",
       "version_major": 2,
       "version_minor": 0
      },
      "text/plain": [
       "  0%|          | 0/31 [00:00<?, ?it/s]"
      ]
     },
     "metadata": {},
     "output_type": "display_data"
    },
    {
     "data": {
      "application/vnd.jupyter.widget-view+json": {
       "model_id": "782ea3dbe3664780a256a6ab1c1040ca",
       "version_major": 2,
       "version_minor": 0
      },
      "text/plain": [
       "  0%|          | 0/22 [00:00<?, ?it/s]"
      ]
     },
     "metadata": {},
     "output_type": "display_data"
    },
    {
     "data": {
      "application/vnd.jupyter.widget-view+json": {
       "model_id": "ae36b70afafe49fbbe61ba40d628a3f3",
       "version_major": 2,
       "version_minor": 0
      },
      "text/plain": [
       "  0%|          | 0/22 [00:00<?, ?it/s]"
      ]
     },
     "metadata": {},
     "output_type": "display_data"
    },
    {
     "data": {
      "application/vnd.jupyter.widget-view+json": {
       "model_id": "627fbff87d7b46a7b5ff565af3605cef",
       "version_major": 2,
       "version_minor": 0
      },
      "text/plain": [
       "  0%|          | 0/19 [00:00<?, ?it/s]"
      ]
     },
     "metadata": {},
     "output_type": "display_data"
    },
    {
     "data": {
      "application/vnd.jupyter.widget-view+json": {
       "model_id": "374ec958c11c4632b8d7e8973c4adfda",
       "version_major": 2,
       "version_minor": 0
      },
      "text/plain": [
       "  0%|          | 0/16 [00:00<?, ?it/s]"
      ]
     },
     "metadata": {},
     "output_type": "display_data"
    },
    {
     "data": {
      "application/vnd.jupyter.widget-view+json": {
       "model_id": "8e3687452b9f4a57b74a46345013aa67",
       "version_major": 2,
       "version_minor": 0
      },
      "text/plain": [
       "  0%|          | 0/16 [00:00<?, ?it/s]"
      ]
     },
     "metadata": {},
     "output_type": "display_data"
    },
    {
     "data": {
      "application/vnd.jupyter.widget-view+json": {
       "model_id": "0b312b01a21547a69273d306d87939b9",
       "version_major": 2,
       "version_minor": 0
      },
      "text/plain": [
       "  0%|          | 0/16 [00:00<?, ?it/s]"
      ]
     },
     "metadata": {},
     "output_type": "display_data"
    },
    {
     "data": {
      "application/vnd.jupyter.widget-view+json": {
       "model_id": "ead1b94d8a30494bb800d154f6ec82f3",
       "version_major": 2,
       "version_minor": 0
      },
      "text/plain": [
       "  0%|          | 0/17 [00:00<?, ?it/s]"
      ]
     },
     "metadata": {},
     "output_type": "display_data"
    },
    {
     "data": {
      "application/vnd.jupyter.widget-view+json": {
       "model_id": "6f9f6807ed564d079b15e7f4cfaadc32",
       "version_major": 2,
       "version_minor": 0
      },
      "text/plain": [
       "  0%|          | 0/16 [00:00<?, ?it/s]"
      ]
     },
     "metadata": {},
     "output_type": "display_data"
    },
    {
     "data": {
      "application/vnd.jupyter.widget-view+json": {
       "model_id": "f6bcacac1f06412cbca2bbd8ef9fa82a",
       "version_major": 2,
       "version_minor": 0
      },
      "text/plain": [
       "  0%|          | 0/17 [00:00<?, ?it/s]"
      ]
     },
     "metadata": {},
     "output_type": "display_data"
    },
    {
     "data": {
      "application/vnd.jupyter.widget-view+json": {
       "model_id": "80274d25b2f849618cce4fb3244459a5",
       "version_major": 2,
       "version_minor": 0
      },
      "text/plain": [
       "  0%|          | 0/2 [00:00<?, ?it/s]"
      ]
     },
     "metadata": {},
     "output_type": "display_data"
    },
    {
     "data": {
      "application/vnd.jupyter.widget-view+json": {
       "model_id": "acb1940a821f41bc9aa54ab0a7c5a363",
       "version_major": 2,
       "version_minor": 0
      },
      "text/plain": [
       "  0%|          | 0/31 [00:00<?, ?it/s]"
      ]
     },
     "metadata": {},
     "output_type": "display_data"
    },
    {
     "data": {
      "application/vnd.jupyter.widget-view+json": {
       "model_id": "961c9ccdd39c4173b598ef5e9048b95f",
       "version_major": 2,
       "version_minor": 0
      },
      "text/plain": [
       "  0%|          | 0/31 [00:00<?, ?it/s]"
      ]
     },
     "metadata": {},
     "output_type": "display_data"
    },
    {
     "data": {
      "application/vnd.jupyter.widget-view+json": {
       "model_id": "7aa7972583ef459584be2078a8955632",
       "version_major": 2,
       "version_minor": 0
      },
      "text/plain": [
       "  0%|          | 0/31 [00:00<?, ?it/s]"
      ]
     },
     "metadata": {},
     "output_type": "display_data"
    },
    {
     "data": {
      "application/vnd.jupyter.widget-view+json": {
       "model_id": "30fd414c787c45b3be7200fb301ea721",
       "version_major": 2,
       "version_minor": 0
      },
      "text/plain": [
       "  0%|          | 0/20 [00:00<?, ?it/s]"
      ]
     },
     "metadata": {},
     "output_type": "display_data"
    },
    {
     "data": {
      "application/vnd.jupyter.widget-view+json": {
       "model_id": "101d148af66c450b813e9917b4997d0b",
       "version_major": 2,
       "version_minor": 0
      },
      "text/plain": [
       "  0%|          | 0/25 [00:00<?, ?it/s]"
      ]
     },
     "metadata": {},
     "output_type": "display_data"
    },
    {
     "data": {
      "application/vnd.jupyter.widget-view+json": {
       "model_id": "8adb5460b82440aeb5fe40822bcfeb61",
       "version_major": 2,
       "version_minor": 0
      },
      "text/plain": [
       "  0%|          | 0/24 [00:00<?, ?it/s]"
      ]
     },
     "metadata": {},
     "output_type": "display_data"
    },
    {
     "data": {
      "application/vnd.jupyter.widget-view+json": {
       "model_id": "6dd0932eb4ad4c4c8a715d901bd1e040",
       "version_major": 2,
       "version_minor": 0
      },
      "text/plain": [
       "  0%|          | 0/31 [00:00<?, ?it/s]"
      ]
     },
     "metadata": {},
     "output_type": "display_data"
    },
    {
     "data": {
      "application/vnd.jupyter.widget-view+json": {
       "model_id": "f7d3fc24ca734edb87ee247d20cf1cba",
       "version_major": 2,
       "version_minor": 0
      },
      "text/plain": [
       "  0%|          | 0/31 [00:00<?, ?it/s]"
      ]
     },
     "metadata": {},
     "output_type": "display_data"
    },
    {
     "data": {
      "application/vnd.jupyter.widget-view+json": {
       "model_id": "2327606b5cfa48c186c72a83f71b988b",
       "version_major": 2,
       "version_minor": 0
      },
      "text/plain": [
       "  0%|          | 0/31 [00:00<?, ?it/s]"
      ]
     },
     "metadata": {},
     "output_type": "display_data"
    },
    {
     "data": {
      "application/vnd.jupyter.widget-view+json": {
       "model_id": "b00b4eed39db482cbce5ffab6e9b2e83",
       "version_major": 2,
       "version_minor": 0
      },
      "text/plain": [
       "  0%|          | 0/31 [00:00<?, ?it/s]"
      ]
     },
     "metadata": {},
     "output_type": "display_data"
    },
    {
     "data": {
      "application/vnd.jupyter.widget-view+json": {
       "model_id": "56d44a1abfe74d28a3ac461a614b340d",
       "version_major": 2,
       "version_minor": 0
      },
      "text/plain": [
       "  0%|          | 0/31 [00:00<?, ?it/s]"
      ]
     },
     "metadata": {},
     "output_type": "display_data"
    },
    {
     "data": {
      "application/vnd.jupyter.widget-view+json": {
       "model_id": "15824b01b6d14ec585ff922a04520318",
       "version_major": 2,
       "version_minor": 0
      },
      "text/plain": [
       "  0%|          | 0/17 [00:00<?, ?it/s]"
      ]
     },
     "metadata": {},
     "output_type": "display_data"
    },
    {
     "data": {
      "application/vnd.jupyter.widget-view+json": {
       "model_id": "f06ffaf0ee004d3c84dc76897670fe14",
       "version_major": 2,
       "version_minor": 0
      },
      "text/plain": [
       "  0%|          | 0/17 [00:00<?, ?it/s]"
      ]
     },
     "metadata": {},
     "output_type": "display_data"
    },
    {
     "data": {
      "application/vnd.jupyter.widget-view+json": {
       "model_id": "c50a6423ce69409aa78800140ff8a5c9",
       "version_major": 2,
       "version_minor": 0
      },
      "text/plain": [
       "  0%|          | 0/17 [00:00<?, ?it/s]"
      ]
     },
     "metadata": {},
     "output_type": "display_data"
    },
    {
     "data": {
      "application/vnd.jupyter.widget-view+json": {
       "model_id": "63d850c99cfd4ac69e7b97605c6cf89d",
       "version_major": 2,
       "version_minor": 0
      },
      "text/plain": [
       "  0%|          | 0/17 [00:00<?, ?it/s]"
      ]
     },
     "metadata": {},
     "output_type": "display_data"
    },
    {
     "data": {
      "application/vnd.jupyter.widget-view+json": {
       "model_id": "4773aea8402d468ab415da9627724aa6",
       "version_major": 2,
       "version_minor": 0
      },
      "text/plain": [
       "  0%|          | 0/17 [00:00<?, ?it/s]"
      ]
     },
     "metadata": {},
     "output_type": "display_data"
    },
    {
     "data": {
      "application/vnd.jupyter.widget-view+json": {
       "model_id": "c7d442b076464d459ad0d05b4fa3bef1",
       "version_major": 2,
       "version_minor": 0
      },
      "text/plain": [
       "  0%|          | 0/31 [00:00<?, ?it/s]"
      ]
     },
     "metadata": {},
     "output_type": "display_data"
    },
    {
     "data": {
      "application/vnd.jupyter.widget-view+json": {
       "model_id": "39638e8d912c4c51b43ecaf2b36ccae5",
       "version_major": 2,
       "version_minor": 0
      },
      "text/plain": [
       "  0%|          | 0/31 [00:00<?, ?it/s]"
      ]
     },
     "metadata": {},
     "output_type": "display_data"
    },
    {
     "data": {
      "application/vnd.jupyter.widget-view+json": {
       "model_id": "e6cbbbd96d214b5c8aac9a1de839738f",
       "version_major": 2,
       "version_minor": 0
      },
      "text/plain": [
       "  0%|          | 0/27 [00:00<?, ?it/s]"
      ]
     },
     "metadata": {},
     "output_type": "display_data"
    },
    {
     "data": {
      "application/vnd.jupyter.widget-view+json": {
       "model_id": "f88283862ec64b0194ecd8c73a277af9",
       "version_major": 2,
       "version_minor": 0
      },
      "text/plain": [
       "  0%|          | 0/26 [00:00<?, ?it/s]"
      ]
     },
     "metadata": {},
     "output_type": "display_data"
    },
    {
     "data": {
      "application/vnd.jupyter.widget-view+json": {
       "model_id": "323abb686ab247459e46977ee0b42aa1",
       "version_major": 2,
       "version_minor": 0
      },
      "text/plain": [
       "  0%|          | 0/26 [00:00<?, ?it/s]"
      ]
     },
     "metadata": {},
     "output_type": "display_data"
    },
    {
     "data": {
      "application/vnd.jupyter.widget-view+json": {
       "model_id": "f8e6a116b2464f609106c01d6107b098",
       "version_major": 2,
       "version_minor": 0
      },
      "text/plain": [
       "  0%|          | 0/26 [00:00<?, ?it/s]"
      ]
     },
     "metadata": {},
     "output_type": "display_data"
    },
    {
     "data": {
      "application/vnd.jupyter.widget-view+json": {
       "model_id": "09a7d751da8b4f9f9ae7ecee88ebea97",
       "version_major": 2,
       "version_minor": 0
      },
      "text/plain": [
       "  0%|          | 0/26 [00:00<?, ?it/s]"
      ]
     },
     "metadata": {},
     "output_type": "display_data"
    },
    {
     "data": {
      "application/vnd.jupyter.widget-view+json": {
       "model_id": "024ae4aca0ef44d1996b7cf82e97fe63",
       "version_major": 2,
       "version_minor": 0
      },
      "text/plain": [
       "  0%|          | 0/25 [00:00<?, ?it/s]"
      ]
     },
     "metadata": {},
     "output_type": "display_data"
    },
    {
     "data": {
      "application/vnd.jupyter.widget-view+json": {
       "model_id": "40009546f5b44712b8be8935263a8b4e",
       "version_major": 2,
       "version_minor": 0
      },
      "text/plain": [
       "  0%|          | 0/24 [00:00<?, ?it/s]"
      ]
     },
     "metadata": {},
     "output_type": "display_data"
    },
    {
     "data": {
      "application/vnd.jupyter.widget-view+json": {
       "model_id": "8ad7239133104a669b4f061eba19e741",
       "version_major": 2,
       "version_minor": 0
      },
      "text/plain": [
       "  0%|          | 0/24 [00:00<?, ?it/s]"
      ]
     },
     "metadata": {},
     "output_type": "display_data"
    },
    {
     "data": {
      "application/vnd.jupyter.widget-view+json": {
       "model_id": "1aea4c186db6431eb5d66edf39dbcb4c",
       "version_major": 2,
       "version_minor": 0
      },
      "text/plain": [
       "  0%|          | 0/22 [00:00<?, ?it/s]"
      ]
     },
     "metadata": {},
     "output_type": "display_data"
    },
    {
     "data": {
      "application/vnd.jupyter.widget-view+json": {
       "model_id": "717f089b8c2a4dacb499a446626e3414",
       "version_major": 2,
       "version_minor": 0
      },
      "text/plain": [
       "  0%|          | 0/25 [00:00<?, ?it/s]"
      ]
     },
     "metadata": {},
     "output_type": "display_data"
    },
    {
     "data": {
      "application/vnd.jupyter.widget-view+json": {
       "model_id": "3788f9e4e2b1460eac6b76f39e2ee5fe",
       "version_major": 2,
       "version_minor": 0
      },
      "text/plain": [
       "  0%|          | 0/24 [00:00<?, ?it/s]"
      ]
     },
     "metadata": {},
     "output_type": "display_data"
    },
    {
     "data": {
      "application/vnd.jupyter.widget-view+json": {
       "model_id": "209ba68e123240a09effc4ba7a51daec",
       "version_major": 2,
       "version_minor": 0
      },
      "text/plain": [
       "  0%|          | 0/17 [00:00<?, ?it/s]"
      ]
     },
     "metadata": {},
     "output_type": "display_data"
    },
    {
     "data": {
      "application/vnd.jupyter.widget-view+json": {
       "model_id": "253a0b1e75684d7684dd75e3bd0b4149",
       "version_major": 2,
       "version_minor": 0
      },
      "text/plain": [
       "  0%|          | 0/31 [00:00<?, ?it/s]"
      ]
     },
     "metadata": {},
     "output_type": "display_data"
    },
    {
     "data": {
      "application/vnd.jupyter.widget-view+json": {
       "model_id": "92970b265e8247feb6666cb81980e1d5",
       "version_major": 2,
       "version_minor": 0
      },
      "text/plain": [
       "  0%|          | 0/31 [00:00<?, ?it/s]"
      ]
     },
     "metadata": {},
     "output_type": "display_data"
    },
    {
     "data": {
      "application/vnd.jupyter.widget-view+json": {
       "model_id": "4d1b0e46ff114414888f4a74a3dadbb2",
       "version_major": 2,
       "version_minor": 0
      },
      "text/plain": [
       "  0%|          | 0/27 [00:00<?, ?it/s]"
      ]
     },
     "metadata": {},
     "output_type": "display_data"
    },
    {
     "data": {
      "application/vnd.jupyter.widget-view+json": {
       "model_id": "6a5d40a50a684043b12e06a6bdbfe2cc",
       "version_major": 2,
       "version_minor": 0
      },
      "text/plain": [
       "  0%|          | 0/27 [00:00<?, ?it/s]"
      ]
     },
     "metadata": {},
     "output_type": "display_data"
    },
    {
     "data": {
      "application/vnd.jupyter.widget-view+json": {
       "model_id": "086ad7bee459449ba9589e8399a14d78",
       "version_major": 2,
       "version_minor": 0
      },
      "text/plain": [
       "  0%|          | 0/27 [00:00<?, ?it/s]"
      ]
     },
     "metadata": {},
     "output_type": "display_data"
    },
    {
     "data": {
      "application/vnd.jupyter.widget-view+json": {
       "model_id": "9132b1f96f1e43c98185dccea0c0180f",
       "version_major": 2,
       "version_minor": 0
      },
      "text/plain": [
       "  0%|          | 0/26 [00:00<?, ?it/s]"
      ]
     },
     "metadata": {},
     "output_type": "display_data"
    },
    {
     "data": {
      "application/vnd.jupyter.widget-view+json": {
       "model_id": "8b5bd274c68c424dbb5581d5980e5335",
       "version_major": 2,
       "version_minor": 0
      },
      "text/plain": [
       "  0%|          | 0/21 [00:00<?, ?it/s]"
      ]
     },
     "metadata": {},
     "output_type": "display_data"
    },
    {
     "data": {
      "application/vnd.jupyter.widget-view+json": {
       "model_id": "624c582ceae740f2889febcfb8f954cc",
       "version_major": 2,
       "version_minor": 0
      },
      "text/plain": [
       "  0%|          | 0/20 [00:00<?, ?it/s]"
      ]
     },
     "metadata": {},
     "output_type": "display_data"
    },
    {
     "data": {
      "application/vnd.jupyter.widget-view+json": {
       "model_id": "ffd97dd76a554079b135af0824d2cc20",
       "version_major": 2,
       "version_minor": 0
      },
      "text/plain": [
       "  0%|          | 0/22 [00:00<?, ?it/s]"
      ]
     },
     "metadata": {},
     "output_type": "display_data"
    },
    {
     "data": {
      "application/vnd.jupyter.widget-view+json": {
       "model_id": "27fbe086a9084592b4650c53d19d2a48",
       "version_major": 2,
       "version_minor": 0
      },
      "text/plain": [
       "  0%|          | 0/22 [00:00<?, ?it/s]"
      ]
     },
     "metadata": {},
     "output_type": "display_data"
    },
    {
     "data": {
      "application/vnd.jupyter.widget-view+json": {
       "model_id": "5dd5e242f8824eb780aeacbd093131aa",
       "version_major": 2,
       "version_minor": 0
      },
      "text/plain": [
       "  0%|          | 0/31 [00:00<?, ?it/s]"
      ]
     },
     "metadata": {},
     "output_type": "display_data"
    },
    {
     "data": {
      "application/vnd.jupyter.widget-view+json": {
       "model_id": "8aa4736dc9fc42768e6f5502f4883bff",
       "version_major": 2,
       "version_minor": 0
      },
      "text/plain": [
       "  0%|          | 0/31 [00:00<?, ?it/s]"
      ]
     },
     "metadata": {},
     "output_type": "display_data"
    },
    {
     "data": {
      "application/vnd.jupyter.widget-view+json": {
       "model_id": "2b4d1fd8b58846038b187dcb56cb1e1d",
       "version_major": 2,
       "version_minor": 0
      },
      "text/plain": [
       "  0%|          | 0/26 [00:00<?, ?it/s]"
      ]
     },
     "metadata": {},
     "output_type": "display_data"
    },
    {
     "data": {
      "application/vnd.jupyter.widget-view+json": {
       "model_id": "51ad4b3590b14e77acc90200f39a35c8",
       "version_major": 2,
       "version_minor": 0
      },
      "text/plain": [
       "  0%|          | 0/31 [00:00<?, ?it/s]"
      ]
     },
     "metadata": {},
     "output_type": "display_data"
    },
    {
     "data": {
      "application/vnd.jupyter.widget-view+json": {
       "model_id": "3599aea3d8f04e79937926baf87fb1eb",
       "version_major": 2,
       "version_minor": 0
      },
      "text/plain": [
       "  0%|          | 0/31 [00:00<?, ?it/s]"
      ]
     },
     "metadata": {},
     "output_type": "display_data"
    },
    {
     "data": {
      "application/vnd.jupyter.widget-view+json": {
       "model_id": "4e9b8754bc324c9a9e6fb8ec739f0ef3",
       "version_major": 2,
       "version_minor": 0
      },
      "text/plain": [
       "  0%|          | 0/30 [00:00<?, ?it/s]"
      ]
     },
     "metadata": {},
     "output_type": "display_data"
    },
    {
     "data": {
      "application/vnd.jupyter.widget-view+json": {
       "model_id": "cba5ad2a57d64d4fa3700abee1ccf7e8",
       "version_major": 2,
       "version_minor": 0
      },
      "text/plain": [
       "  0%|          | 0/29 [00:00<?, ?it/s]"
      ]
     },
     "metadata": {},
     "output_type": "display_data"
    },
    {
     "data": {
      "application/vnd.jupyter.widget-view+json": {
       "model_id": "4313951470854b9f96f018f59fcef79e",
       "version_major": 2,
       "version_minor": 0
      },
      "text/plain": [
       "  0%|          | 0/19 [00:00<?, ?it/s]"
      ]
     },
     "metadata": {},
     "output_type": "display_data"
    },
    {
     "data": {
      "application/vnd.jupyter.widget-view+json": {
       "model_id": "f94e4fa98a9b4e6d8c22637a702a82d4",
       "version_major": 2,
       "version_minor": 0
      },
      "text/plain": [
       "  0%|          | 0/20 [00:00<?, ?it/s]"
      ]
     },
     "metadata": {},
     "output_type": "display_data"
    },
    {
     "data": {
      "application/vnd.jupyter.widget-view+json": {
       "model_id": "d07b463e7800428fb40173b95cbf75ee",
       "version_major": 2,
       "version_minor": 0
      },
      "text/plain": [
       "  0%|          | 0/20 [00:00<?, ?it/s]"
      ]
     },
     "metadata": {},
     "output_type": "display_data"
    },
    {
     "data": {
      "application/vnd.jupyter.widget-view+json": {
       "model_id": "a1927786b04141f29129648ecec93a2c",
       "version_major": 2,
       "version_minor": 0
      },
      "text/plain": [
       "  0%|          | 0/20 [00:00<?, ?it/s]"
      ]
     },
     "metadata": {},
     "output_type": "display_data"
    },
    {
     "data": {
      "application/vnd.jupyter.widget-view+json": {
       "model_id": "739bf1ca207b4e8888439ff766668040",
       "version_major": 2,
       "version_minor": 0
      },
      "text/plain": [
       "  0%|          | 0/20 [00:00<?, ?it/s]"
      ]
     },
     "metadata": {},
     "output_type": "display_data"
    },
    {
     "data": {
      "application/vnd.jupyter.widget-view+json": {
       "model_id": "2420db6cd3424f80a2504794ffb90878",
       "version_major": 2,
       "version_minor": 0
      },
      "text/plain": [
       "  0%|          | 0/20 [00:00<?, ?it/s]"
      ]
     },
     "metadata": {},
     "output_type": "display_data"
    },
    {
     "data": {
      "application/vnd.jupyter.widget-view+json": {
       "model_id": "89893d2133074c079a8ef22adbf6a7ef",
       "version_major": 2,
       "version_minor": 0
      },
      "text/plain": [
       "  0%|          | 0/27 [00:00<?, ?it/s]"
      ]
     },
     "metadata": {},
     "output_type": "display_data"
    },
    {
     "data": {
      "application/vnd.jupyter.widget-view+json": {
       "model_id": "56f62a40f13f471e90f94ffa0d011171",
       "version_major": 2,
       "version_minor": 0
      },
      "text/plain": [
       "  0%|          | 0/27 [00:00<?, ?it/s]"
      ]
     },
     "metadata": {},
     "output_type": "display_data"
    },
    {
     "data": {
      "application/vnd.jupyter.widget-view+json": {
       "model_id": "1c5a963f16604fa8b77c65b20cb870c7",
       "version_major": 2,
       "version_minor": 0
      },
      "text/plain": [
       "  0%|          | 0/24 [00:00<?, ?it/s]"
      ]
     },
     "metadata": {},
     "output_type": "display_data"
    },
    {
     "data": {
      "application/vnd.jupyter.widget-view+json": {
       "model_id": "0e10e8e9e7234dd6b545746167fbaf33",
       "version_major": 2,
       "version_minor": 0
      },
      "text/plain": [
       "  0%|          | 0/24 [00:00<?, ?it/s]"
      ]
     },
     "metadata": {},
     "output_type": "display_data"
    },
    {
     "data": {
      "application/vnd.jupyter.widget-view+json": {
       "model_id": "c9bfbc4405c34d0c86c8bf4db81d4038",
       "version_major": 2,
       "version_minor": 0
      },
      "text/plain": [
       "  0%|          | 0/24 [00:00<?, ?it/s]"
      ]
     },
     "metadata": {},
     "output_type": "display_data"
    },
    {
     "data": {
      "application/vnd.jupyter.widget-view+json": {
       "model_id": "1c98f1963e504a8093da3c0525e20b47",
       "version_major": 2,
       "version_minor": 0
      },
      "text/plain": [
       "  0%|          | 0/31 [00:00<?, ?it/s]"
      ]
     },
     "metadata": {},
     "output_type": "display_data"
    },
    {
     "data": {
      "application/vnd.jupyter.widget-view+json": {
       "model_id": "e9e9d89b3b5a451591072f89ddf9dc1f",
       "version_major": 2,
       "version_minor": 0
      },
      "text/plain": [
       "  0%|          | 0/31 [00:00<?, ?it/s]"
      ]
     },
     "metadata": {},
     "output_type": "display_data"
    },
    {
     "data": {
      "application/vnd.jupyter.widget-view+json": {
       "model_id": "a2dcb9515cfb4927a20adca03360e16c",
       "version_major": 2,
       "version_minor": 0
      },
      "text/plain": [
       "  0%|          | 0/31 [00:00<?, ?it/s]"
      ]
     },
     "metadata": {},
     "output_type": "display_data"
    },
    {
     "data": {
      "application/vnd.jupyter.widget-view+json": {
       "model_id": "3c502710f34d42f28434e11adeec5ca1",
       "version_major": 2,
       "version_minor": 0
      },
      "text/plain": [
       "  0%|          | 0/31 [00:00<?, ?it/s]"
      ]
     },
     "metadata": {},
     "output_type": "display_data"
    },
    {
     "data": {
      "application/vnd.jupyter.widget-view+json": {
       "model_id": "a695d14c54fe4a8b8aaebc16ef8d7a7e",
       "version_major": 2,
       "version_minor": 0
      },
      "text/plain": [
       "  0%|          | 0/31 [00:00<?, ?it/s]"
      ]
     },
     "metadata": {},
     "output_type": "display_data"
    },
    {
     "data": {
      "application/vnd.jupyter.widget-view+json": {
       "model_id": "b071134b411a414ea2e812c4d31f99d1",
       "version_major": 2,
       "version_minor": 0
      },
      "text/plain": [
       "  0%|          | 0/24 [00:00<?, ?it/s]"
      ]
     },
     "metadata": {},
     "output_type": "display_data"
    },
    {
     "data": {
      "application/vnd.jupyter.widget-view+json": {
       "model_id": "d95874bcc59143859406e58a972950a4",
       "version_major": 2,
       "version_minor": 0
      },
      "text/plain": [
       "  0%|          | 0/31 [00:00<?, ?it/s]"
      ]
     },
     "metadata": {},
     "output_type": "display_data"
    },
    {
     "data": {
      "application/vnd.jupyter.widget-view+json": {
       "model_id": "3164d80ca44845a79cf34b0e2cb009f3",
       "version_major": 2,
       "version_minor": 0
      },
      "text/plain": [
       "  0%|          | 0/16 [00:00<?, ?it/s]"
      ]
     },
     "metadata": {},
     "output_type": "display_data"
    },
    {
     "data": {
      "application/vnd.jupyter.widget-view+json": {
       "model_id": "6fd781ef93d4432e981dc465cec159e5",
       "version_major": 2,
       "version_minor": 0
      },
      "text/plain": [
       "  0%|          | 0/20 [00:00<?, ?it/s]"
      ]
     },
     "metadata": {},
     "output_type": "display_data"
    },
    {
     "data": {
      "application/vnd.jupyter.widget-view+json": {
       "model_id": "ffdd102d9314451c86f9aa376ffdd906",
       "version_major": 2,
       "version_minor": 0
      },
      "text/plain": [
       "  0%|          | 0/31 [00:00<?, ?it/s]"
      ]
     },
     "metadata": {},
     "output_type": "display_data"
    },
    {
     "data": {
      "application/vnd.jupyter.widget-view+json": {
       "model_id": "e61b11870bc243d5b5540740b9c5caf7",
       "version_major": 2,
       "version_minor": 0
      },
      "text/plain": [
       "  0%|          | 0/31 [00:00<?, ?it/s]"
      ]
     },
     "metadata": {},
     "output_type": "display_data"
    },
    {
     "data": {
      "application/vnd.jupyter.widget-view+json": {
       "model_id": "8ae48b44685d4421b5a3fb5727cca2e1",
       "version_major": 2,
       "version_minor": 0
      },
      "text/plain": [
       "  0%|          | 0/31 [00:00<?, ?it/s]"
      ]
     },
     "metadata": {},
     "output_type": "display_data"
    },
    {
     "data": {
      "application/vnd.jupyter.widget-view+json": {
       "model_id": "d40237c1447d4f409d9a4f24ebf02b33",
       "version_major": 2,
       "version_minor": 0
      },
      "text/plain": [
       "  0%|          | 0/31 [00:00<?, ?it/s]"
      ]
     },
     "metadata": {},
     "output_type": "display_data"
    },
    {
     "data": {
      "application/vnd.jupyter.widget-view+json": {
       "model_id": "5dffcb65d77c43f3bed991f74cf58fc9",
       "version_major": 2,
       "version_minor": 0
      },
      "text/plain": [
       "  0%|          | 0/29 [00:00<?, ?it/s]"
      ]
     },
     "metadata": {},
     "output_type": "display_data"
    },
    {
     "data": {
      "application/vnd.jupyter.widget-view+json": {
       "model_id": "3eecee3d3cc942c0ae31d351506b2f89",
       "version_major": 2,
       "version_minor": 0
      },
      "text/plain": [
       "  0%|          | 0/29 [00:00<?, ?it/s]"
      ]
     },
     "metadata": {},
     "output_type": "display_data"
    },
    {
     "data": {
      "application/vnd.jupyter.widget-view+json": {
       "model_id": "8c9bdf545e7b4fbdacb4fce9551d1fcc",
       "version_major": 2,
       "version_minor": 0
      },
      "text/plain": [
       "  0%|          | 0/25 [00:00<?, ?it/s]"
      ]
     },
     "metadata": {},
     "output_type": "display_data"
    },
    {
     "data": {
      "application/vnd.jupyter.widget-view+json": {
       "model_id": "d8e6b89bbf654ac39469cc7775d53195",
       "version_major": 2,
       "version_minor": 0
      },
      "text/plain": [
       "  0%|          | 0/17 [00:00<?, ?it/s]"
      ]
     },
     "metadata": {},
     "output_type": "display_data"
    },
    {
     "data": {
      "application/vnd.jupyter.widget-view+json": {
       "model_id": "3e2ca25a74fd444681dc358364178e4b",
       "version_major": 2,
       "version_minor": 0
      },
      "text/plain": [
       "  0%|          | 0/31 [00:00<?, ?it/s]"
      ]
     },
     "metadata": {},
     "output_type": "display_data"
    },
    {
     "data": {
      "application/vnd.jupyter.widget-view+json": {
       "model_id": "f38e4d8b60d8492181b880590554d330",
       "version_major": 2,
       "version_minor": 0
      },
      "text/plain": [
       "  0%|          | 0/31 [00:00<?, ?it/s]"
      ]
     },
     "metadata": {},
     "output_type": "display_data"
    },
    {
     "data": {
      "application/vnd.jupyter.widget-view+json": {
       "model_id": "d5d81d7137d04040aea0bcbed972675c",
       "version_major": 2,
       "version_minor": 0
      },
      "text/plain": [
       "  0%|          | 0/31 [00:00<?, ?it/s]"
      ]
     },
     "metadata": {},
     "output_type": "display_data"
    },
    {
     "data": {
      "application/vnd.jupyter.widget-view+json": {
       "model_id": "fcee16c07e594b8ab8a492ed44117643",
       "version_major": 2,
       "version_minor": 0
      },
      "text/plain": [
       "  0%|          | 0/31 [00:00<?, ?it/s]"
      ]
     },
     "metadata": {},
     "output_type": "display_data"
    },
    {
     "data": {
      "application/vnd.jupyter.widget-view+json": {
       "model_id": "f8066674c8ad4d59ac7027ea36878e34",
       "version_major": 2,
       "version_minor": 0
      },
      "text/plain": [
       "  0%|          | 0/31 [00:00<?, ?it/s]"
      ]
     },
     "metadata": {},
     "output_type": "display_data"
    },
    {
     "data": {
      "application/vnd.jupyter.widget-view+json": {
       "model_id": "abc97743f509435680715eaf54b200de",
       "version_major": 2,
       "version_minor": 0
      },
      "text/plain": [
       "  0%|          | 0/31 [00:00<?, ?it/s]"
      ]
     },
     "metadata": {},
     "output_type": "display_data"
    },
    {
     "data": {
      "application/vnd.jupyter.widget-view+json": {
       "model_id": "80c884b055e642e29c3d2960e0396937",
       "version_major": 2,
       "version_minor": 0
      },
      "text/plain": [
       "  0%|          | 0/31 [00:00<?, ?it/s]"
      ]
     },
     "metadata": {},
     "output_type": "display_data"
    },
    {
     "data": {
      "application/vnd.jupyter.widget-view+json": {
       "model_id": "5e9c86b9903445608f0a5727853bb1be",
       "version_major": 2,
       "version_minor": 0
      },
      "text/plain": [
       "  0%|          | 0/31 [00:00<?, ?it/s]"
      ]
     },
     "metadata": {},
     "output_type": "display_data"
    },
    {
     "data": {
      "application/vnd.jupyter.widget-view+json": {
       "model_id": "ce5a8639965349209912b909ea9d1faa",
       "version_major": 2,
       "version_minor": 0
      },
      "text/plain": [
       "  0%|          | 0/31 [00:00<?, ?it/s]"
      ]
     },
     "metadata": {},
     "output_type": "display_data"
    },
    {
     "data": {
      "application/vnd.jupyter.widget-view+json": {
       "model_id": "fb85c51c66f44336ba0d87b039e6d8d5",
       "version_major": 2,
       "version_minor": 0
      },
      "text/plain": [
       "  0%|          | 0/31 [00:00<?, ?it/s]"
      ]
     },
     "metadata": {},
     "output_type": "display_data"
    },
    {
     "data": {
      "application/vnd.jupyter.widget-view+json": {
       "model_id": "cacb7c6419b3413bbf7ceba40d145acd",
       "version_major": 2,
       "version_minor": 0
      },
      "text/plain": [
       "  0%|          | 0/31 [00:00<?, ?it/s]"
      ]
     },
     "metadata": {},
     "output_type": "display_data"
    },
    {
     "data": {
      "application/vnd.jupyter.widget-view+json": {
       "model_id": "e2f76397d1a5496e920166917b912f2c",
       "version_major": 2,
       "version_minor": 0
      },
      "text/plain": [
       "  0%|          | 0/31 [00:00<?, ?it/s]"
      ]
     },
     "metadata": {},
     "output_type": "display_data"
    },
    {
     "data": {
      "application/vnd.jupyter.widget-view+json": {
       "model_id": "9539055ec1284504983c51bc6569497c",
       "version_major": 2,
       "version_minor": 0
      },
      "text/plain": [
       "  0%|          | 0/31 [00:00<?, ?it/s]"
      ]
     },
     "metadata": {},
     "output_type": "display_data"
    },
    {
     "data": {
      "application/vnd.jupyter.widget-view+json": {
       "model_id": "94695dfdda934d969efe54bf31509fc9",
       "version_major": 2,
       "version_minor": 0
      },
      "text/plain": [
       "  0%|          | 0/16 [00:00<?, ?it/s]"
      ]
     },
     "metadata": {},
     "output_type": "display_data"
    },
    {
     "data": {
      "application/vnd.jupyter.widget-view+json": {
       "model_id": "84b513d3c43d46e2a1af1770745022b7",
       "version_major": 2,
       "version_minor": 0
      },
      "text/plain": [
       "  0%|          | 0/19 [00:00<?, ?it/s]"
      ]
     },
     "metadata": {},
     "output_type": "display_data"
    },
    {
     "data": {
      "application/vnd.jupyter.widget-view+json": {
       "model_id": "59c4aae80885438b9560b20fac82909b",
       "version_major": 2,
       "version_minor": 0
      },
      "text/plain": [
       "  0%|          | 0/26 [00:00<?, ?it/s]"
      ]
     },
     "metadata": {},
     "output_type": "display_data"
    },
    {
     "data": {
      "application/vnd.jupyter.widget-view+json": {
       "model_id": "23e779cfc9b54028b6f8603c463be62b",
       "version_major": 2,
       "version_minor": 0
      },
      "text/plain": [
       "  0%|          | 0/22 [00:00<?, ?it/s]"
      ]
     },
     "metadata": {},
     "output_type": "display_data"
    },
    {
     "data": {
      "application/vnd.jupyter.widget-view+json": {
       "model_id": "3b1c7eb5a66a418ebd0bc993825283f2",
       "version_major": 2,
       "version_minor": 0
      },
      "text/plain": [
       "  0%|          | 0/18 [00:00<?, ?it/s]"
      ]
     },
     "metadata": {},
     "output_type": "display_data"
    },
    {
     "data": {
      "application/vnd.jupyter.widget-view+json": {
       "model_id": "19f2125873434367b85e5bcb4b76f5e9",
       "version_major": 2,
       "version_minor": 0
      },
      "text/plain": [
       "  0%|          | 0/18 [00:00<?, ?it/s]"
      ]
     },
     "metadata": {},
     "output_type": "display_data"
    },
    {
     "data": {
      "application/vnd.jupyter.widget-view+json": {
       "model_id": "73f07a4f37a74676961f0a81110c26d0",
       "version_major": 2,
       "version_minor": 0
      },
      "text/plain": [
       "  0%|          | 0/18 [00:00<?, ?it/s]"
      ]
     },
     "metadata": {},
     "output_type": "display_data"
    },
    {
     "data": {
      "application/vnd.jupyter.widget-view+json": {
       "model_id": "c192aff7aec045b3acfb69f8042a51fc",
       "version_major": 2,
       "version_minor": 0
      },
      "text/plain": [
       "  0%|          | 0/18 [00:00<?, ?it/s]"
      ]
     },
     "metadata": {},
     "output_type": "display_data"
    },
    {
     "data": {
      "application/vnd.jupyter.widget-view+json": {
       "model_id": "83a7f9ce68ea4503b2a606adfd0717ca",
       "version_major": 2,
       "version_minor": 0
      },
      "text/plain": [
       "  0%|          | 0/18 [00:00<?, ?it/s]"
      ]
     },
     "metadata": {},
     "output_type": "display_data"
    },
    {
     "data": {
      "application/vnd.jupyter.widget-view+json": {
       "model_id": "fb6650e6dcb548689bc230d78b47966f",
       "version_major": 2,
       "version_minor": 0
      },
      "text/plain": [
       "  0%|          | 0/22 [00:00<?, ?it/s]"
      ]
     },
     "metadata": {},
     "output_type": "display_data"
    },
    {
     "data": {
      "application/vnd.jupyter.widget-view+json": {
       "model_id": "d2e7a92f23c646f29ad3f6554ab34744",
       "version_major": 2,
       "version_minor": 0
      },
      "text/plain": [
       "  0%|          | 0/19 [00:00<?, ?it/s]"
      ]
     },
     "metadata": {},
     "output_type": "display_data"
    },
    {
     "data": {
      "application/vnd.jupyter.widget-view+json": {
       "model_id": "29f342c971d94f5996b65da6e1134937",
       "version_major": 2,
       "version_minor": 0
      },
      "text/plain": [
       "  0%|          | 0/17 [00:00<?, ?it/s]"
      ]
     },
     "metadata": {},
     "output_type": "display_data"
    },
    {
     "data": {
      "application/vnd.jupyter.widget-view+json": {
       "model_id": "aa8d15b11ea243f1a1738692a2958c79",
       "version_major": 2,
       "version_minor": 0
      },
      "text/plain": [
       "  0%|          | 0/19 [00:00<?, ?it/s]"
      ]
     },
     "metadata": {},
     "output_type": "display_data"
    },
    {
     "data": {
      "application/vnd.jupyter.widget-view+json": {
       "model_id": "4580a43d0f57467dae04b1ce1a03dc2f",
       "version_major": 2,
       "version_minor": 0
      },
      "text/plain": [
       "  0%|          | 0/31 [00:00<?, ?it/s]"
      ]
     },
     "metadata": {},
     "output_type": "display_data"
    },
    {
     "data": {
      "application/vnd.jupyter.widget-view+json": {
       "model_id": "eaa111a4c4ed4c5385ac71dcf5c6723d",
       "version_major": 2,
       "version_minor": 0
      },
      "text/plain": [
       "  0%|          | 0/31 [00:00<?, ?it/s]"
      ]
     },
     "metadata": {},
     "output_type": "display_data"
    },
    {
     "data": {
      "application/vnd.jupyter.widget-view+json": {
       "model_id": "67a1789ca38a4472b8915fd4a40b85f5",
       "version_major": 2,
       "version_minor": 0
      },
      "text/plain": [
       "  0%|          | 0/22 [00:00<?, ?it/s]"
      ]
     },
     "metadata": {},
     "output_type": "display_data"
    },
    {
     "data": {
      "application/vnd.jupyter.widget-view+json": {
       "model_id": "1010013a22a04cfa95017dda25da478c",
       "version_major": 2,
       "version_minor": 0
      },
      "text/plain": [
       "  0%|          | 0/31 [00:00<?, ?it/s]"
      ]
     },
     "metadata": {},
     "output_type": "display_data"
    },
    {
     "data": {
      "application/vnd.jupyter.widget-view+json": {
       "model_id": "05d188c256494d6fa04ec9160f028aa3",
       "version_major": 2,
       "version_minor": 0
      },
      "text/plain": [
       "  0%|          | 0/17 [00:00<?, ?it/s]"
      ]
     },
     "metadata": {},
     "output_type": "display_data"
    },
    {
     "data": {
      "application/vnd.jupyter.widget-view+json": {
       "model_id": "1051912b20e04d38843cee8259938b80",
       "version_major": 2,
       "version_minor": 0
      },
      "text/plain": [
       "  0%|          | 0/17 [00:00<?, ?it/s]"
      ]
     },
     "metadata": {},
     "output_type": "display_data"
    },
    {
     "data": {
      "application/vnd.jupyter.widget-view+json": {
       "model_id": "656914390db84d2293ab3275fe7e5510",
       "version_major": 2,
       "version_minor": 0
      },
      "text/plain": [
       "  0%|          | 0/17 [00:00<?, ?it/s]"
      ]
     },
     "metadata": {},
     "output_type": "display_data"
    },
    {
     "data": {
      "application/vnd.jupyter.widget-view+json": {
       "model_id": "454574836d71408eb46ab2e25740584c",
       "version_major": 2,
       "version_minor": 0
      },
      "text/plain": [
       "  0%|          | 0/17 [00:00<?, ?it/s]"
      ]
     },
     "metadata": {},
     "output_type": "display_data"
    },
    {
     "data": {
      "application/vnd.jupyter.widget-view+json": {
       "model_id": "024696da75f24db0a8fc74f70d942b2b",
       "version_major": 2,
       "version_minor": 0
      },
      "text/plain": [
       "  0%|          | 0/22 [00:00<?, ?it/s]"
      ]
     },
     "metadata": {},
     "output_type": "display_data"
    },
    {
     "data": {
      "application/vnd.jupyter.widget-view+json": {
       "model_id": "3e642c9e5a2540a0b728260c1562552f",
       "version_major": 2,
       "version_minor": 0
      },
      "text/plain": [
       "  0%|          | 0/24 [00:00<?, ?it/s]"
      ]
     },
     "metadata": {},
     "output_type": "display_data"
    },
    {
     "data": {
      "application/vnd.jupyter.widget-view+json": {
       "model_id": "5dbdca650c194cac9a7b97e786cf0aa8",
       "version_major": 2,
       "version_minor": 0
      },
      "text/plain": [
       "  0%|          | 0/30 [00:00<?, ?it/s]"
      ]
     },
     "metadata": {},
     "output_type": "display_data"
    },
    {
     "data": {
      "application/vnd.jupyter.widget-view+json": {
       "model_id": "fbd96dda21974a5c90ac88cbec5e82e9",
       "version_major": 2,
       "version_minor": 0
      },
      "text/plain": [
       "  0%|          | 0/16 [00:00<?, ?it/s]"
      ]
     },
     "metadata": {},
     "output_type": "display_data"
    },
    {
     "data": {
      "application/vnd.jupyter.widget-view+json": {
       "model_id": "c1c71802b6114898b988c1a00c703169",
       "version_major": 2,
       "version_minor": 0
      },
      "text/plain": [
       "  0%|          | 0/16 [00:00<?, ?it/s]"
      ]
     },
     "metadata": {},
     "output_type": "display_data"
    },
    {
     "data": {
      "application/vnd.jupyter.widget-view+json": {
       "model_id": "cfdf7b77d86943eaa48e22c703beae61",
       "version_major": 2,
       "version_minor": 0
      },
      "text/plain": [
       "  0%|          | 0/17 [00:00<?, ?it/s]"
      ]
     },
     "metadata": {},
     "output_type": "display_data"
    },
    {
     "data": {
      "application/vnd.jupyter.widget-view+json": {
       "model_id": "39298a48bc3446919e5fc4bd0e2ffcbf",
       "version_major": 2,
       "version_minor": 0
      },
      "text/plain": [
       "  0%|          | 0/31 [00:00<?, ?it/s]"
      ]
     },
     "metadata": {},
     "output_type": "display_data"
    },
    {
     "data": {
      "application/vnd.jupyter.widget-view+json": {
       "model_id": "7893056ca9634064902e0f5fa02472e0",
       "version_major": 2,
       "version_minor": 0
      },
      "text/plain": [
       "  0%|          | 0/31 [00:00<?, ?it/s]"
      ]
     },
     "metadata": {},
     "output_type": "display_data"
    },
    {
     "data": {
      "application/vnd.jupyter.widget-view+json": {
       "model_id": "7a521514dbcc42ed955f0904e2bde929",
       "version_major": 2,
       "version_minor": 0
      },
      "text/plain": [
       "  0%|          | 0/27 [00:00<?, ?it/s]"
      ]
     },
     "metadata": {},
     "output_type": "display_data"
    },
    {
     "data": {
      "application/vnd.jupyter.widget-view+json": {
       "model_id": "3578d8953a654f79a0e4679593beccc5",
       "version_major": 2,
       "version_minor": 0
      },
      "text/plain": [
       "  0%|          | 0/24 [00:00<?, ?it/s]"
      ]
     },
     "metadata": {},
     "output_type": "display_data"
    },
    {
     "data": {
      "application/vnd.jupyter.widget-view+json": {
       "model_id": "da745eff3fa44af88cbf8465959939d0",
       "version_major": 2,
       "version_minor": 0
      },
      "text/plain": [
       "  0%|          | 0/26 [00:00<?, ?it/s]"
      ]
     },
     "metadata": {},
     "output_type": "display_data"
    },
    {
     "data": {
      "application/vnd.jupyter.widget-view+json": {
       "model_id": "a17cf78a40464677b3c9e567c1a7e33c",
       "version_major": 2,
       "version_minor": 0
      },
      "text/plain": [
       "  0%|          | 0/31 [00:00<?, ?it/s]"
      ]
     },
     "metadata": {},
     "output_type": "display_data"
    },
    {
     "data": {
      "application/vnd.jupyter.widget-view+json": {
       "model_id": "8f234cf2059046c89d424dff5e52fcd9",
       "version_major": 2,
       "version_minor": 0
      },
      "text/plain": [
       "  0%|          | 0/31 [00:00<?, ?it/s]"
      ]
     },
     "metadata": {},
     "output_type": "display_data"
    },
    {
     "data": {
      "application/vnd.jupyter.widget-view+json": {
       "model_id": "e7c014d8f7c14dd49860a7335a25ac50",
       "version_major": 2,
       "version_minor": 0
      },
      "text/plain": [
       "  0%|          | 0/31 [00:00<?, ?it/s]"
      ]
     },
     "metadata": {},
     "output_type": "display_data"
    },
    {
     "data": {
      "application/vnd.jupyter.widget-view+json": {
       "model_id": "1455ad67db904f9aa2a4417d188e970d",
       "version_major": 2,
       "version_minor": 0
      },
      "text/plain": [
       "  0%|          | 0/24 [00:00<?, ?it/s]"
      ]
     },
     "metadata": {},
     "output_type": "display_data"
    },
    {
     "data": {
      "application/vnd.jupyter.widget-view+json": {
       "model_id": "6e0818b912814c8a9c0abc52eb0aa67a",
       "version_major": 2,
       "version_minor": 0
      },
      "text/plain": [
       "  0%|          | 0/26 [00:00<?, ?it/s]"
      ]
     },
     "metadata": {},
     "output_type": "display_data"
    },
    {
     "data": {
      "application/vnd.jupyter.widget-view+json": {
       "model_id": "7238ec3a5ca34662a20e90b51db33fb8",
       "version_major": 2,
       "version_minor": 0
      },
      "text/plain": [
       "  0%|          | 0/26 [00:00<?, ?it/s]"
      ]
     },
     "metadata": {},
     "output_type": "display_data"
    },
    {
     "data": {
      "application/vnd.jupyter.widget-view+json": {
       "model_id": "943479816c474799a3548b4d9a9cfa2b",
       "version_major": 2,
       "version_minor": 0
      },
      "text/plain": [
       "  0%|          | 0/21 [00:00<?, ?it/s]"
      ]
     },
     "metadata": {},
     "output_type": "display_data"
    },
    {
     "data": {
      "application/vnd.jupyter.widget-view+json": {
       "model_id": "94b30ff7af184f6fb0dc6c592f110856",
       "version_major": 2,
       "version_minor": 0
      },
      "text/plain": [
       "  0%|          | 0/26 [00:00<?, ?it/s]"
      ]
     },
     "metadata": {},
     "output_type": "display_data"
    },
    {
     "data": {
      "application/vnd.jupyter.widget-view+json": {
       "model_id": "557c0e496c5f45cd9b5861b0385a92cc",
       "version_major": 2,
       "version_minor": 0
      },
      "text/plain": [
       "  0%|          | 0/27 [00:00<?, ?it/s]"
      ]
     },
     "metadata": {},
     "output_type": "display_data"
    },
    {
     "data": {
      "application/vnd.jupyter.widget-view+json": {
       "model_id": "c43d93a1568c4c1baa341b27c0f0754a",
       "version_major": 2,
       "version_minor": 0
      },
      "text/plain": [
       "  0%|          | 0/26 [00:00<?, ?it/s]"
      ]
     },
     "metadata": {},
     "output_type": "display_data"
    },
    {
     "data": {
      "application/vnd.jupyter.widget-view+json": {
       "model_id": "4ce23a72c805408cacaf891860921892",
       "version_major": 2,
       "version_minor": 0
      },
      "text/plain": [
       "  0%|          | 0/25 [00:00<?, ?it/s]"
      ]
     },
     "metadata": {},
     "output_type": "display_data"
    },
    {
     "data": {
      "application/vnd.jupyter.widget-view+json": {
       "model_id": "ef2b411ffeac4a92ae87f2c49238e5d4",
       "version_major": 2,
       "version_minor": 0
      },
      "text/plain": [
       "  0%|          | 0/16 [00:00<?, ?it/s]"
      ]
     },
     "metadata": {},
     "output_type": "display_data"
    },
    {
     "data": {
      "application/vnd.jupyter.widget-view+json": {
       "model_id": "b66a175c8033459a8db85fc96bc89b6a",
       "version_major": 2,
       "version_minor": 0
      },
      "text/plain": [
       "  0%|          | 0/20 [00:00<?, ?it/s]"
      ]
     },
     "metadata": {},
     "output_type": "display_data"
    },
    {
     "data": {
      "application/vnd.jupyter.widget-view+json": {
       "model_id": "e872e20448b04006bd62ec076b09d40d",
       "version_major": 2,
       "version_minor": 0
      },
      "text/plain": [
       "  0%|          | 0/23 [00:00<?, ?it/s]"
      ]
     },
     "metadata": {},
     "output_type": "display_data"
    },
    {
     "data": {
      "application/vnd.jupyter.widget-view+json": {
       "model_id": "8990911d11054f9b9f1ce85bc138f9aa",
       "version_major": 2,
       "version_minor": 0
      },
      "text/plain": [
       "  0%|          | 0/19 [00:00<?, ?it/s]"
      ]
     },
     "metadata": {},
     "output_type": "display_data"
    },
    {
     "data": {
      "application/vnd.jupyter.widget-view+json": {
       "model_id": "ca27a4c0f34c4e109f1d2679c6b80690",
       "version_major": 2,
       "version_minor": 0
      },
      "text/plain": [
       "  0%|          | 0/22 [00:00<?, ?it/s]"
      ]
     },
     "metadata": {},
     "output_type": "display_data"
    },
    {
     "data": {
      "application/vnd.jupyter.widget-view+json": {
       "model_id": "0074b17988694eacb753348b85acec8c",
       "version_major": 2,
       "version_minor": 0
      },
      "text/plain": [
       "  0%|          | 0/16 [00:00<?, ?it/s]"
      ]
     },
     "metadata": {},
     "output_type": "display_data"
    },
    {
     "data": {
      "application/vnd.jupyter.widget-view+json": {
       "model_id": "6587318cafc94f13878f354c6b731ce0",
       "version_major": 2,
       "version_minor": 0
      },
      "text/plain": [
       "  0%|          | 0/2 [00:00<?, ?it/s]"
      ]
     },
     "metadata": {},
     "output_type": "display_data"
    },
    {
     "data": {
      "application/vnd.jupyter.widget-view+json": {
       "model_id": "0cf8e476bdf045f8991fb761087c5679",
       "version_major": 2,
       "version_minor": 0
      },
      "text/plain": [
       "  0%|          | 0/21 [00:00<?, ?it/s]"
      ]
     },
     "metadata": {},
     "output_type": "display_data"
    },
    {
     "data": {
      "application/vnd.jupyter.widget-view+json": {
       "model_id": "5becaf61f9684e25808f0de7c3627cba",
       "version_major": 2,
       "version_minor": 0
      },
      "text/plain": [
       "  0%|          | 0/23 [00:00<?, ?it/s]"
      ]
     },
     "metadata": {},
     "output_type": "display_data"
    },
    {
     "data": {
      "application/vnd.jupyter.widget-view+json": {
       "model_id": "206575f65825424dab977be7354e34a4",
       "version_major": 2,
       "version_minor": 0
      },
      "text/plain": [
       "  0%|          | 0/25 [00:00<?, ?it/s]"
      ]
     },
     "metadata": {},
     "output_type": "display_data"
    },
    {
     "data": {
      "application/vnd.jupyter.widget-view+json": {
       "model_id": "3d6b91e246404132aedbdc02dd5e7106",
       "version_major": 2,
       "version_minor": 0
      },
      "text/plain": [
       "  0%|          | 0/25 [00:00<?, ?it/s]"
      ]
     },
     "metadata": {},
     "output_type": "display_data"
    },
    {
     "data": {
      "application/vnd.jupyter.widget-view+json": {
       "model_id": "4a1b5cd89a5b4bebb8583907099f15c0",
       "version_major": 2,
       "version_minor": 0
      },
      "text/plain": [
       "  0%|          | 0/16 [00:00<?, ?it/s]"
      ]
     },
     "metadata": {},
     "output_type": "display_data"
    },
    {
     "data": {
      "application/vnd.jupyter.widget-view+json": {
       "model_id": "1a3c82281dbe4154ad05037f1172fee9",
       "version_major": 2,
       "version_minor": 0
      },
      "text/plain": [
       "  0%|          | 0/16 [00:00<?, ?it/s]"
      ]
     },
     "metadata": {},
     "output_type": "display_data"
    },
    {
     "data": {
      "application/vnd.jupyter.widget-view+json": {
       "model_id": "67fce408acf247b38a15c733b37d4a8f",
       "version_major": 2,
       "version_minor": 0
      },
      "text/plain": [
       "  0%|          | 0/16 [00:00<?, ?it/s]"
      ]
     },
     "metadata": {},
     "output_type": "display_data"
    },
    {
     "data": {
      "application/vnd.jupyter.widget-view+json": {
       "model_id": "e2bb9ec7f0d6471eb12dc732987cbed5",
       "version_major": 2,
       "version_minor": 0
      },
      "text/plain": [
       "  0%|          | 0/5 [00:00<?, ?it/s]"
      ]
     },
     "metadata": {},
     "output_type": "display_data"
    },
    {
     "data": {
      "application/vnd.jupyter.widget-view+json": {
       "model_id": "680584d12b1547b2ac08de62e4211fd3",
       "version_major": 2,
       "version_minor": 0
      },
      "text/plain": [
       "  0%|          | 0/2 [00:00<?, ?it/s]"
      ]
     },
     "metadata": {},
     "output_type": "display_data"
    },
    {
     "data": {
      "application/vnd.jupyter.widget-view+json": {
       "model_id": "508dfc22062b4082b70e7226e105a25f",
       "version_major": 2,
       "version_minor": 0
      },
      "text/plain": [
       "  0%|          | 0/2 [00:00<?, ?it/s]"
      ]
     },
     "metadata": {},
     "output_type": "display_data"
    },
    {
     "data": {
      "application/vnd.jupyter.widget-view+json": {
       "model_id": "de9a428826884d2eb613121dad181792",
       "version_major": 2,
       "version_minor": 0
      },
      "text/plain": [
       "  0%|          | 0/21 [00:00<?, ?it/s]"
      ]
     },
     "metadata": {},
     "output_type": "display_data"
    },
    {
     "data": {
      "application/vnd.jupyter.widget-view+json": {
       "model_id": "db406d5ba2fb402da7a300370f08e273",
       "version_major": 2,
       "version_minor": 0
      },
      "text/plain": [
       "  0%|          | 0/20 [00:00<?, ?it/s]"
      ]
     },
     "metadata": {},
     "output_type": "display_data"
    },
    {
     "data": {
      "application/vnd.jupyter.widget-view+json": {
       "model_id": "3efc81a43b7c43c18fa29feeab33b0dd",
       "version_major": 2,
       "version_minor": 0
      },
      "text/plain": [
       "  0%|          | 0/25 [00:00<?, ?it/s]"
      ]
     },
     "metadata": {},
     "output_type": "display_data"
    },
    {
     "data": {
      "application/vnd.jupyter.widget-view+json": {
       "model_id": "fb343b93fd554eb08dd67595865aca37",
       "version_major": 2,
       "version_minor": 0
      },
      "text/plain": [
       "  0%|          | 0/25 [00:00<?, ?it/s]"
      ]
     },
     "metadata": {},
     "output_type": "display_data"
    },
    {
     "data": {
      "application/vnd.jupyter.widget-view+json": {
       "model_id": "f7737972eace499a83fc958d72906653",
       "version_major": 2,
       "version_minor": 0
      },
      "text/plain": [
       "  0%|          | 0/31 [00:00<?, ?it/s]"
      ]
     },
     "metadata": {},
     "output_type": "display_data"
    },
    {
     "data": {
      "application/vnd.jupyter.widget-view+json": {
       "model_id": "eacd2319a0b64b218bb9b06d05f0cfe3",
       "version_major": 2,
       "version_minor": 0
      },
      "text/plain": [
       "  0%|          | 0/13 [00:00<?, ?it/s]"
      ]
     },
     "metadata": {},
     "output_type": "display_data"
    },
    {
     "data": {
      "application/vnd.jupyter.widget-view+json": {
       "model_id": "3fe6f90f50e24d3cb356c99e1e7478a3",
       "version_major": 2,
       "version_minor": 0
      },
      "text/plain": [
       "  0%|          | 0/26 [00:00<?, ?it/s]"
      ]
     },
     "metadata": {},
     "output_type": "display_data"
    },
    {
     "data": {
      "application/vnd.jupyter.widget-view+json": {
       "model_id": "f20ee17da94f4be987956aaa9de379b5",
       "version_major": 2,
       "version_minor": 0
      },
      "text/plain": [
       "  0%|          | 0/26 [00:00<?, ?it/s]"
      ]
     },
     "metadata": {},
     "output_type": "display_data"
    },
    {
     "data": {
      "application/vnd.jupyter.widget-view+json": {
       "model_id": "3b0beb3f19904c22b863b8b645773ebf",
       "version_major": 2,
       "version_minor": 0
      },
      "text/plain": [
       "  0%|          | 0/26 [00:00<?, ?it/s]"
      ]
     },
     "metadata": {},
     "output_type": "display_data"
    },
    {
     "data": {
      "application/vnd.jupyter.widget-view+json": {
       "model_id": "cfc0ff5eee3349b2b7b687667a5e039c",
       "version_major": 2,
       "version_minor": 0
      },
      "text/plain": [
       "  0%|          | 0/17 [00:00<?, ?it/s]"
      ]
     },
     "metadata": {},
     "output_type": "display_data"
    },
    {
     "data": {
      "application/vnd.jupyter.widget-view+json": {
       "model_id": "a0e762664a814cf2ac5871bdf767a5cb",
       "version_major": 2,
       "version_minor": 0
      },
      "text/plain": [
       "  0%|          | 0/18 [00:00<?, ?it/s]"
      ]
     },
     "metadata": {},
     "output_type": "display_data"
    },
    {
     "data": {
      "application/vnd.jupyter.widget-view+json": {
       "model_id": "9c10836e7a76409880b59648f4e4950f",
       "version_major": 2,
       "version_minor": 0
      },
      "text/plain": [
       "  0%|          | 0/17 [00:00<?, ?it/s]"
      ]
     },
     "metadata": {},
     "output_type": "display_data"
    }
   ],
   "source": [
    "thres=15\n",
    "\n",
    "vis_folder=\"/mnt/mnt/nfs/home/ji-yong/jupyterwork/collaresearch-ut/result/visualization/12month/real_accident/single_road/\"\n",
    "\n",
    "if not os.path.exists(vis_folder):\n",
    "    os.makedirs(vis_folder)\n",
    "\n",
    "#m=pd.DataFrame()\n",
    "i=0\n",
    "for meanful_accident in tqdm(meanful_real_accident_list):\n",
    "    accident_link_path_list=[]\n",
    "    for path in path_list:\n",
    "        if meanful_accident[0] in path:\n",
    "            if len(path)>len(accident_link_path_list):\n",
    "                accident_link_path_list=path\n",
    "    if meanful_accident[0] in accident_link_path_list:\n",
    "        index=accident_link_path_list.index(meanful_accident[0])\n",
    "    else:\n",
    "        continue\n",
    "\n",
    "    if index+thres+1<=len(accident_link_path_list):\n",
    "        up_index=index+thres+1\n",
    "    else:\n",
    "        up_index=len(accident_link_path_list)\n",
    "    if index-thres>=0:\n",
    "        down_index=index-thres\n",
    "    else:\n",
    "        down_index=0\n",
    "    meanful_accident_thre_list=accident_link_path_list[down_index:up_index]\n",
    "#     print(meanful_accident)\n",
    "#     print(meanful_accident_thre_list)\n",
    "    frames=[]\n",
    "    for link in tqdm(meanful_accident_thre_list):\n",
    "        link_df=df[(df[\"linkid\"]==link) & (df[\"gps_timestamp\"].dt.date==meanful_accident[1].date())][[\"linkid\",\"gps_timestamp\",\"speed_typea\"]]\n",
    "        link_df=link_df.set_index([\"gps_timestamp\"])\n",
    "        link_df=link_df.rename(columns={\"speed_typea\":link_df[\"linkid\"].values[0]})\n",
    "        link_df=link_df.drop(columns=\"linkid\")\n",
    "        #display(link_df)\n",
    "        frames.append(link_df)\n",
    "    merge_df=pd.concat(frames, axis=1)\n",
    "    #display(merge_df)\n",
    "    #m=merge_df\n",
    "    \n",
    "    \n",
    "    #visualization\n",
    "    sns.set_theme(style=\"white\")\n",
    "    real_accident_link_date_df=df[df[\"linkid\"]==meanful_accident[0]]\n",
    "    datetime_date=datetime.datetime.strptime(str(meanful_accident[1]).split(\" \")[0],'%Y-%m-%d')\n",
    "    datetime_date2=datetime_date + timedelta(days=1)\n",
    "\n",
    "    datetime_date2=datetime_date + offsets.Day()\n",
    "    real_accident_link_date_df=real_accident_link_date_df[(real_accident_link_date_df[\"gps_timestamp\"]>=datetime_date) & (real_accident_link_date_df[\"gps_timestamp\"]<datetime_date2)]\n",
    "    accident_date=list(real_accident_link_date_df[real_accident_link_date_df[\"real_accident_flag\"]==1][\"gps_timestamp\"])\n",
    "    real_accident_link_date_df=real_accident_link_date_df.reset_index()\n",
    "    start_datetime = pd.to_datetime(accident_date[0])\n",
    "    end_datetime = pd.to_datetime(accident_date[-1])\n",
    "\n",
    "    fig,ax = plt.subplots(figsize=(30,10))\n",
    "    plt.yticks(np.arange(len(meanful_accident_thre_list)), meanful_accident_thre_list)\n",
    "    plt.xticks(np.arange(len(merge_df)), merge_df.index, rotation=90)\n",
    "#     print(type(real_accident_link_date_df.index[real_accident_link_date_df['gps_timestamp']==start_datetime].tolist()[0]))\n",
    "#     break\n",
    "    plt.axhline(y=meanful_accident_thre_list.index(meanful_accident[0]), label=f'accident', c='r')\n",
    "    plt.axvline(x=real_accident_link_date_df.index[real_accident_link_date_df['gps_timestamp']==start_datetime].tolist()[0], label=f'accident_st', c='r')\n",
    "    plt.axvline(x=real_accident_link_date_df.index[real_accident_link_date_df['gps_timestamp']==end_datetime].tolist()[0], label=f'accident_ed', c='r')\n",
    "    im = plt.imshow(merge_df.values.T, interpolation='bilinear',cmap='RdYlGn')\n",
    "    divider = make_axes_locatable(ax)\n",
    "    cax = divider.append_axes(\"right\", size=\"5%\", pad=0.05)\n",
    "\n",
    "    plt.colorbar(im, cax=cax)\n",
    "    plt.title(f\"link id {str(meanful_accident[0])} accident time {str(meanful_accident[1])}\", fontsize=12, y=1)\n",
    "    plt.savefig(vis_folder+f\"{i}_link id {str(meanful_accident[0])} accident time {str(meanful_accident[1])}\")\n",
    "    plt.close()\n",
    "    i+=1\n",
    "#     if i==9:\n",
    "#         break\n",
    "\n"
   ]
  },
  {
   "cell_type": "code",
   "execution_count": null,
   "id": "625a1c13",
   "metadata": {
    "ExecuteTime": {
     "end_time": "2022-02-01T02:17:02.105853Z",
     "start_time": "2022-02-01T02:17:02.097927Z"
    }
   },
   "outputs": [],
   "source": [
    "a=[1,2,3]\n",
    "print(a[-2])"
   ]
  },
  {
   "cell_type": "code",
   "execution_count": null,
   "id": "d04aaee7",
   "metadata": {},
   "outputs": [],
   "source": []
  },
  {
   "cell_type": "code",
   "execution_count": null,
   "id": "828ac14a",
   "metadata": {
    "ExecuteTime": {
     "end_time": "2022-01-30T16:12:01.748407Z",
     "start_time": "2022-01-30T16:11:58.964470Z"
    }
   },
   "outputs": [],
   "source": [
    "connect_dic={}\n",
    "\n",
    "for linkid in tqdm(link_df.columns):\n",
    "    if linkid !=\"row\":\n",
    "        row_df=link_df[link_df[\"row\"]==int(linkid)]\n",
    "        value_list=list(row_df.apply(lambda row: row[row == 1].index, axis=1))[0].tolist() ### 通过某值返回column的名称\n",
    "        connect_dic[linkid]=value_list\n",
    "        #print(row_df.apply(lambda row: row[row == 1].index, axis=1))\n",
    "        \n",
    "#     m=link_df.iloc[0].apply(lambda row: row[row == 1].index, axis=1)\n",
    "#     display(m)\n",
    "#     connect_dic[linkid]="
   ]
  },
  {
   "cell_type": "code",
   "execution_count": null,
   "id": "4823b0b5",
   "metadata": {
    "ExecuteTime": {
     "end_time": "2022-01-30T16:12:54.609497Z",
     "start_time": "2022-01-30T16:12:54.600539Z"
    }
   },
   "outputs": [],
   "source": [
    "len(connect_dic.keys())"
   ]
  },
  {
   "cell_type": "code",
   "execution_count": null,
   "id": "49b0ced7",
   "metadata": {
    "ExecuteTime": {
     "end_time": "2022-01-30T16:13:06.809174Z",
     "start_time": "2022-01-30T16:13:06.793193Z"
    }
   },
   "outputs": [],
   "source": [
    "def dfs(node, adj, dp, vis): \n",
    "    # Mark as visited \n",
    "    vis[node] = True\n",
    "    # Traverse for all its children \n",
    "    for i in range(0, len(adj[node])): \n",
    "        # If not visited \n",
    "        if not vis[adj[node][i]]: \n",
    "            dfs(adj[node][i], adj, dp, vis) \n",
    "        # Store the max of the paths \n",
    "        dp[node] = max(dp[node], [node] + dp[adj[node][i]], key=lambda x: len(x))\n",
    "\n",
    "# Function that returns the longest path \n",
    "def findLongestPath(adj, n): \n",
    "    # Dp array \n",
    "    dp = [[x] for x in range(n + 1)]\n",
    "    # Visited array to know if the node \n",
    "    # has been visited previously or not \n",
    "    vis = [False] * (n + 1) \n",
    "    # Call DFS for every unvisited vertex \n",
    "    for i in range(1, n + 1): \n",
    "        if not vis[i]: \n",
    "            dfs(i, adj, dp, vis) \n",
    "    # Traverse and find the maximum of all dp[i] \n",
    "    return max([dp[i] for i in range(1, n + 1)], key=lambda x: len(x))"
   ]
  },
  {
   "cell_type": "code",
   "execution_count": null,
   "id": "5edc5091",
   "metadata": {
    "ExecuteTime": {
     "end_time": "2022-01-30T16:13:55.080877Z",
     "start_time": "2022-01-30T16:13:55.047170Z"
    }
   },
   "outputs": [],
   "source": [
    "connect_dic2=deepcopy(connect_dic)\n",
    "values=connect_dic2.values()\n",
    "value_list=[]\n",
    "for value in values:\n",
    "    value_list+=value\n",
    "value_list=list(set(value_list))\n",
    "\n",
    "for value in value_list:\n",
    "    if value not in connect_dic2.keys():\n",
    "        connect_dic2[value]=[]\n",
    "        \n",
    "keys=sorted(connect_dic2.keys())\n",
    "size=len(keys)\n",
    "print(size)\n",
    "\n",
    "M = [ [0]*size for i in range(size) ]\n",
    "for a,b in [(keys.index(a), keys.index(b)) for a, row in connect_dic2[key].items() for b in row]:\n",
    "    M[a][b] = 1\n",
    "    \n",
    "n = len(M)\n",
    "adj = [[] for i in range(n + 1)] \n",
    "for i in range(len(M)):\n",
    "    for j in range(len(M)):\n",
    "        if(M[i][j] == 1):\n",
    "            adj[i].append(j)"
   ]
  },
  {
   "cell_type": "code",
   "execution_count": null,
   "id": "c95be414",
   "metadata": {},
   "outputs": [],
   "source": []
  }
 ],
 "metadata": {
  "kernelspec": {
   "display_name": "Python 3",
   "language": "python",
   "name": "python3"
  },
  "language_info": {
   "codemirror_mode": {
    "name": "ipython",
    "version": 3
   },
   "file_extension": ".py",
   "mimetype": "text/x-python",
   "name": "python",
   "nbconvert_exporter": "python",
   "pygments_lexer": "ipython3",
   "version": "3.8.8"
  },
  "toc": {
   "base_numbering": 1,
   "nav_menu": {},
   "number_sections": true,
   "sideBar": true,
   "skip_h1_title": false,
   "title_cell": "Table of Contents",
   "title_sidebar": "Contents",
   "toc_cell": false,
   "toc_position": {
    "height": "calc(100% - 180px)",
    "left": "10px",
    "top": "150px",
    "width": "249px"
   },
   "toc_section_display": true,
   "toc_window_display": true
  },
  "varInspector": {
   "cols": {
    "lenName": 16,
    "lenType": 16,
    "lenVar": 40
   },
   "kernels_config": {
    "python": {
     "delete_cmd_postfix": "",
     "delete_cmd_prefix": "del ",
     "library": "var_list.py",
     "varRefreshCmd": "print(var_dic_list())"
    },
    "r": {
     "delete_cmd_postfix": ") ",
     "delete_cmd_prefix": "rm(",
     "library": "var_list.r",
     "varRefreshCmd": "cat(var_dic_list()) "
    }
   },
   "position": {
    "height": "191.844px",
    "left": "1545px",
    "right": "20px",
    "top": "120px",
    "width": "350px"
   },
   "types_to_exclude": [
    "module",
    "function",
    "builtin_function_or_method",
    "instance",
    "_Feature"
   ],
   "window_display": true
  }
 },
 "nbformat": 4,
 "nbformat_minor": 5
}
