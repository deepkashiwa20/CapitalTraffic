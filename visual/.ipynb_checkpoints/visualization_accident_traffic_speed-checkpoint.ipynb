{
 "cells": [
  {
   "cell_type": "markdown",
   "id": "32408145",
   "metadata": {},
   "source": [
    "# data読み込み"
   ]
  },
  {
   "cell_type": "markdown",
   "id": "49cb51cb",
   "metadata": {
    "ExecuteTime": {
     "end_time": "2022-01-30T07:42:04.142196Z",
     "start_time": "2022-01-30T07:42:04.138733Z"
    }
   },
   "source": [
    "## read processed data"
   ]
  },
  {
   "cell_type": "code",
   "execution_count": 1,
   "id": "4dd64cff",
   "metadata": {
    "ExecuteTime": {
     "end_time": "2022-02-02T11:52:23.562881Z",
     "start_time": "2022-02-02T11:52:21.857556Z"
    }
   },
   "outputs": [],
   "source": [
    "import pandas as pd\n",
    "import numpy as np\n",
    "import os\n",
    "import glob\n",
    "import pandas as pd\n",
    "import time\n",
    "import datetime\n",
    "from tqdm.notebook import tqdm\n",
    "import matplotlib.pyplot as plt\n",
    "from copy import deepcopy\n",
    "from datetime import date, timedelta\n",
    "import networkx as nx\n",
    "import seaborn as sns\n",
    "import pickle\n",
    "import pandas.tseries.offsets as offsets\n",
    "from mpl_toolkits.axes_grid1 import make_axes_locatable"
   ]
  },
  {
   "cell_type": "code",
   "execution_count": 2,
   "id": "02a302ca",
   "metadata": {
    "ExecuteTime": {
     "end_time": "2022-02-02T11:52:40.248279Z",
     "start_time": "2022-02-02T11:52:23.582976Z"
    }
   },
   "outputs": [],
   "source": [
    "DATA_PATH = \"../data/\"\n",
    "FILE_NAME= \"capitaltrafficplus_202112.csv.gz\"\n",
    "df=pd.read_csv(DATA_PATH+FILE_NAME)"
   ]
  },
  {
   "cell_type": "code",
   "execution_count": 3,
   "id": "3a9aced8",
   "metadata": {
    "ExecuteTime": {
     "end_time": "2022-02-02T11:52:40.316891Z",
     "start_time": "2022-02-02T11:52:40.295668Z"
    }
   },
   "outputs": [
    {
     "data": {
      "text/html": [
       "<div>\n",
       "<style scoped>\n",
       "    .dataframe tbody tr th:only-of-type {\n",
       "        vertical-align: middle;\n",
       "    }\n",
       "\n",
       "    .dataframe tbody tr th {\n",
       "        vertical-align: top;\n",
       "    }\n",
       "\n",
       "    .dataframe thead th {\n",
       "        text-align: right;\n",
       "    }\n",
       "</style>\n",
       "<table border=\"1\" class=\"dataframe\">\n",
       "  <thead>\n",
       "    <tr style=\"text-align: right;\">\n",
       "      <th></th>\n",
       "      <th>linkid</th>\n",
       "      <th>gps_timestamp</th>\n",
       "      <th>speed_typea</th>\n",
       "      <th>accident_flag</th>\n",
       "      <th>real_accident_flag</th>\n",
       "      <th>weekdaytime</th>\n",
       "      <th>speed_typea_y</th>\n",
       "    </tr>\n",
       "  </thead>\n",
       "  <tbody>\n",
       "    <tr>\n",
       "      <th>0</th>\n",
       "      <td>83585420</td>\n",
       "      <td>2021-12-01 00:00:00</td>\n",
       "      <td>73.075286</td>\n",
       "      <td>0</td>\n",
       "      <td>0</td>\n",
       "      <td>0.285998</td>\n",
       "      <td>60.062440</td>\n",
       "    </tr>\n",
       "    <tr>\n",
       "      <th>1</th>\n",
       "      <td>83585420</td>\n",
       "      <td>2021-12-01 00:10:00</td>\n",
       "      <td>79.817778</td>\n",
       "      <td>0</td>\n",
       "      <td>0</td>\n",
       "      <td>0.286991</td>\n",
       "      <td>64.814282</td>\n",
       "    </tr>\n",
       "    <tr>\n",
       "      <th>2</th>\n",
       "      <td>83585420</td>\n",
       "      <td>2021-12-01 00:20:00</td>\n",
       "      <td>52.938966</td>\n",
       "      <td>0</td>\n",
       "      <td>0</td>\n",
       "      <td>0.287984</td>\n",
       "      <td>70.731949</td>\n",
       "    </tr>\n",
       "    <tr>\n",
       "      <th>3</th>\n",
       "      <td>83585420</td>\n",
       "      <td>2021-12-01 00:30:00</td>\n",
       "      <td>71.913333</td>\n",
       "      <td>0</td>\n",
       "      <td>0</td>\n",
       "      <td>0.288977</td>\n",
       "      <td>100.642405</td>\n",
       "    </tr>\n",
       "    <tr>\n",
       "      <th>4</th>\n",
       "      <td>83585420</td>\n",
       "      <td>2021-12-01 00:40:00</td>\n",
       "      <td>71.913333</td>\n",
       "      <td>0</td>\n",
       "      <td>0</td>\n",
       "      <td>0.289970</td>\n",
       "      <td>101.989167</td>\n",
       "    </tr>\n",
       "    <tr>\n",
       "      <th>...</th>\n",
       "      <td>...</td>\n",
       "      <td>...</td>\n",
       "      <td>...</td>\n",
       "      <td>...</td>\n",
       "      <td>...</td>\n",
       "      <td>...</td>\n",
       "      <td>...</td>\n",
       "    </tr>\n",
       "    <tr>\n",
       "      <th>12682219</th>\n",
       "      <td>118770567</td>\n",
       "      <td>2021-12-31 23:10:00</td>\n",
       "      <td>53.953636</td>\n",
       "      <td>0</td>\n",
       "      <td>0</td>\n",
       "      <td>0.710030</td>\n",
       "      <td>46.808690</td>\n",
       "    </tr>\n",
       "    <tr>\n",
       "      <th>12682220</th>\n",
       "      <td>118770567</td>\n",
       "      <td>2021-12-31 23:20:00</td>\n",
       "      <td>45.952163</td>\n",
       "      <td>0</td>\n",
       "      <td>0</td>\n",
       "      <td>0.711023</td>\n",
       "      <td>47.108472</td>\n",
       "    </tr>\n",
       "    <tr>\n",
       "      <th>12682221</th>\n",
       "      <td>118770567</td>\n",
       "      <td>2021-12-31 23:30:00</td>\n",
       "      <td>45.952163</td>\n",
       "      <td>0</td>\n",
       "      <td>0</td>\n",
       "      <td>0.712016</td>\n",
       "      <td>54.059247</td>\n",
       "    </tr>\n",
       "    <tr>\n",
       "      <th>12682222</th>\n",
       "      <td>118770567</td>\n",
       "      <td>2021-12-31 23:40:00</td>\n",
       "      <td>38.102747</td>\n",
       "      <td>0</td>\n",
       "      <td>0</td>\n",
       "      <td>0.713009</td>\n",
       "      <td>48.534444</td>\n",
       "    </tr>\n",
       "    <tr>\n",
       "      <th>12682223</th>\n",
       "      <td>118770567</td>\n",
       "      <td>2021-12-31 23:50:00</td>\n",
       "      <td>46.492500</td>\n",
       "      <td>0</td>\n",
       "      <td>0</td>\n",
       "      <td>0.714002</td>\n",
       "      <td>53.173591</td>\n",
       "    </tr>\n",
       "  </tbody>\n",
       "</table>\n",
       "<p>12682224 rows × 7 columns</p>\n",
       "</div>"
      ],
      "text/plain": [
       "             linkid        gps_timestamp  speed_typea  accident_flag  \\\n",
       "0          83585420  2021-12-01 00:00:00    73.075286              0   \n",
       "1          83585420  2021-12-01 00:10:00    79.817778              0   \n",
       "2          83585420  2021-12-01 00:20:00    52.938966              0   \n",
       "3          83585420  2021-12-01 00:30:00    71.913333              0   \n",
       "4          83585420  2021-12-01 00:40:00    71.913333              0   \n",
       "...             ...                  ...          ...            ...   \n",
       "12682219  118770567  2021-12-31 23:10:00    53.953636              0   \n",
       "12682220  118770567  2021-12-31 23:20:00    45.952163              0   \n",
       "12682221  118770567  2021-12-31 23:30:00    45.952163              0   \n",
       "12682222  118770567  2021-12-31 23:40:00    38.102747              0   \n",
       "12682223  118770567  2021-12-31 23:50:00    46.492500              0   \n",
       "\n",
       "          real_accident_flag  weekdaytime  speed_typea_y  \n",
       "0                          0     0.285998      60.062440  \n",
       "1                          0     0.286991      64.814282  \n",
       "2                          0     0.287984      70.731949  \n",
       "3                          0     0.288977     100.642405  \n",
       "4                          0     0.289970     101.989167  \n",
       "...                      ...          ...            ...  \n",
       "12682219                   0     0.710030      46.808690  \n",
       "12682220                   0     0.711023      47.108472  \n",
       "12682221                   0     0.712016      54.059247  \n",
       "12682222                   0     0.713009      48.534444  \n",
       "12682223                   0     0.714002      53.173591  \n",
       "\n",
       "[12682224 rows x 7 columns]"
      ]
     },
     "execution_count": 3,
     "metadata": {},
     "output_type": "execute_result"
    }
   ],
   "source": [
    "df"
   ]
  },
  {
   "cell_type": "code",
   "execution_count": 4,
   "id": "315615c5",
   "metadata": {
    "ExecuteTime": {
     "end_time": "2022-02-02T11:52:43.566270Z",
     "start_time": "2022-02-02T11:52:40.408880Z"
    }
   },
   "outputs": [],
   "source": [
    "df[\"gps_timestamp\"]=pd.to_datetime(df[\"gps_timestamp\"])"
   ]
  },
  {
   "cell_type": "code",
   "execution_count": 5,
   "id": "88eb25d7",
   "metadata": {
    "ExecuteTime": {
     "end_time": "2022-02-02T11:52:43.618018Z",
     "start_time": "2022-02-02T11:52:43.607289Z"
    }
   },
   "outputs": [
    {
     "name": "stdout",
     "output_type": "stream",
     "text": [
      "<class 'pandas.core.frame.DataFrame'>\n",
      "RangeIndex: 12682224 entries, 0 to 12682223\n",
      "Data columns (total 7 columns):\n",
      " #   Column              Dtype         \n",
      "---  ------              -----         \n",
      " 0   linkid              int64         \n",
      " 1   gps_timestamp       datetime64[ns]\n",
      " 2   speed_typea         float64       \n",
      " 3   accident_flag       int64         \n",
      " 4   real_accident_flag  int64         \n",
      " 5   weekdaytime         float64       \n",
      " 6   speed_typea_y       float64       \n",
      "dtypes: datetime64[ns](1), float64(3), int64(3)\n",
      "memory usage: 677.3 MB\n"
     ]
    }
   ],
   "source": [
    "df.info()"
   ]
  },
  {
   "cell_type": "markdown",
   "id": "5b3b0bff",
   "metadata": {},
   "source": [
    "## read link connect relation"
   ]
  },
  {
   "cell_type": "code",
   "execution_count": 6,
   "id": "8706ec84",
   "metadata": {
    "ExecuteTime": {
     "end_time": "2022-02-02T11:52:44.560233Z",
     "start_time": "2022-02-02T11:52:43.661143Z"
    }
   },
   "outputs": [],
   "source": [
    "LINK_PATH = \"../data/\"\n",
    "LINK_FILE_NAME= \"capital_01_relation.csv\"\n",
    "link_df=pd.read_csv(LINK_PATH+LINK_FILE_NAME)\n",
    "link_df=link_df.rename(columns={\"Unnamed: 0\":\"row\"})"
   ]
  },
  {
   "cell_type": "code",
   "execution_count": 7,
   "id": "ecb7a34a",
   "metadata": {
    "ExecuteTime": {
     "end_time": "2022-02-02T11:52:44.940877Z",
     "start_time": "2022-02-02T11:52:44.911608Z"
    }
   },
   "outputs": [
    {
     "data": {
      "text/html": [
       "<div>\n",
       "<style scoped>\n",
       "    .dataframe tbody tr th:only-of-type {\n",
       "        vertical-align: middle;\n",
       "    }\n",
       "\n",
       "    .dataframe tbody tr th {\n",
       "        vertical-align: top;\n",
       "    }\n",
       "\n",
       "    .dataframe thead th {\n",
       "        text-align: right;\n",
       "    }\n",
       "</style>\n",
       "<table border=\"1\" class=\"dataframe\">\n",
       "  <thead>\n",
       "    <tr style=\"text-align: right;\">\n",
       "      <th></th>\n",
       "      <th>row</th>\n",
       "      <th>83585420</th>\n",
       "      <th>83585485</th>\n",
       "      <th>83585609</th>\n",
       "      <th>83585658</th>\n",
       "      <th>83585806</th>\n",
       "      <th>83585863</th>\n",
       "      <th>83585888</th>\n",
       "      <th>83586020</th>\n",
       "      <th>83586069</th>\n",
       "      <th>...</th>\n",
       "      <th>117489955</th>\n",
       "      <th>117490052</th>\n",
       "      <th>117490417</th>\n",
       "      <th>117490530</th>\n",
       "      <th>117590330</th>\n",
       "      <th>117632419</th>\n",
       "      <th>118415091</th>\n",
       "      <th>118415100</th>\n",
       "      <th>118770411</th>\n",
       "      <th>118770567</th>\n",
       "    </tr>\n",
       "  </thead>\n",
       "  <tbody>\n",
       "    <tr>\n",
       "      <th>0</th>\n",
       "      <td>83585420</td>\n",
       "      <td>0</td>\n",
       "      <td>1</td>\n",
       "      <td>0</td>\n",
       "      <td>0</td>\n",
       "      <td>0</td>\n",
       "      <td>0</td>\n",
       "      <td>0</td>\n",
       "      <td>0</td>\n",
       "      <td>0</td>\n",
       "      <td>...</td>\n",
       "      <td>0</td>\n",
       "      <td>0</td>\n",
       "      <td>0</td>\n",
       "      <td>0</td>\n",
       "      <td>0</td>\n",
       "      <td>0</td>\n",
       "      <td>0</td>\n",
       "      <td>0</td>\n",
       "      <td>0</td>\n",
       "      <td>0</td>\n",
       "    </tr>\n",
       "    <tr>\n",
       "      <th>1</th>\n",
       "      <td>83585485</td>\n",
       "      <td>0</td>\n",
       "      <td>0</td>\n",
       "      <td>0</td>\n",
       "      <td>0</td>\n",
       "      <td>0</td>\n",
       "      <td>0</td>\n",
       "      <td>0</td>\n",
       "      <td>0</td>\n",
       "      <td>0</td>\n",
       "      <td>...</td>\n",
       "      <td>0</td>\n",
       "      <td>0</td>\n",
       "      <td>0</td>\n",
       "      <td>0</td>\n",
       "      <td>0</td>\n",
       "      <td>0</td>\n",
       "      <td>0</td>\n",
       "      <td>0</td>\n",
       "      <td>0</td>\n",
       "      <td>0</td>\n",
       "    </tr>\n",
       "    <tr>\n",
       "      <th>2</th>\n",
       "      <td>83585609</td>\n",
       "      <td>0</td>\n",
       "      <td>0</td>\n",
       "      <td>0</td>\n",
       "      <td>1</td>\n",
       "      <td>0</td>\n",
       "      <td>0</td>\n",
       "      <td>0</td>\n",
       "      <td>0</td>\n",
       "      <td>0</td>\n",
       "      <td>...</td>\n",
       "      <td>0</td>\n",
       "      <td>0</td>\n",
       "      <td>0</td>\n",
       "      <td>0</td>\n",
       "      <td>0</td>\n",
       "      <td>0</td>\n",
       "      <td>0</td>\n",
       "      <td>0</td>\n",
       "      <td>0</td>\n",
       "      <td>0</td>\n",
       "    </tr>\n",
       "    <tr>\n",
       "      <th>3</th>\n",
       "      <td>83585658</td>\n",
       "      <td>0</td>\n",
       "      <td>0</td>\n",
       "      <td>0</td>\n",
       "      <td>0</td>\n",
       "      <td>0</td>\n",
       "      <td>0</td>\n",
       "      <td>0</td>\n",
       "      <td>0</td>\n",
       "      <td>0</td>\n",
       "      <td>...</td>\n",
       "      <td>0</td>\n",
       "      <td>0</td>\n",
       "      <td>0</td>\n",
       "      <td>0</td>\n",
       "      <td>0</td>\n",
       "      <td>0</td>\n",
       "      <td>0</td>\n",
       "      <td>0</td>\n",
       "      <td>0</td>\n",
       "      <td>0</td>\n",
       "    </tr>\n",
       "    <tr>\n",
       "      <th>4</th>\n",
       "      <td>83585806</td>\n",
       "      <td>0</td>\n",
       "      <td>0</td>\n",
       "      <td>0</td>\n",
       "      <td>0</td>\n",
       "      <td>0</td>\n",
       "      <td>1</td>\n",
       "      <td>0</td>\n",
       "      <td>0</td>\n",
       "      <td>0</td>\n",
       "      <td>...</td>\n",
       "      <td>0</td>\n",
       "      <td>0</td>\n",
       "      <td>0</td>\n",
       "      <td>0</td>\n",
       "      <td>0</td>\n",
       "      <td>0</td>\n",
       "      <td>0</td>\n",
       "      <td>0</td>\n",
       "      <td>0</td>\n",
       "      <td>0</td>\n",
       "    </tr>\n",
       "    <tr>\n",
       "      <th>...</th>\n",
       "      <td>...</td>\n",
       "      <td>...</td>\n",
       "      <td>...</td>\n",
       "      <td>...</td>\n",
       "      <td>...</td>\n",
       "      <td>...</td>\n",
       "      <td>...</td>\n",
       "      <td>...</td>\n",
       "      <td>...</td>\n",
       "      <td>...</td>\n",
       "      <td>...</td>\n",
       "      <td>...</td>\n",
       "      <td>...</td>\n",
       "      <td>...</td>\n",
       "      <td>...</td>\n",
       "      <td>...</td>\n",
       "      <td>...</td>\n",
       "      <td>...</td>\n",
       "      <td>...</td>\n",
       "      <td>...</td>\n",
       "      <td>...</td>\n",
       "    </tr>\n",
       "    <tr>\n",
       "      <th>2836</th>\n",
       "      <td>117632419</td>\n",
       "      <td>0</td>\n",
       "      <td>0</td>\n",
       "      <td>0</td>\n",
       "      <td>0</td>\n",
       "      <td>0</td>\n",
       "      <td>0</td>\n",
       "      <td>0</td>\n",
       "      <td>0</td>\n",
       "      <td>0</td>\n",
       "      <td>...</td>\n",
       "      <td>0</td>\n",
       "      <td>0</td>\n",
       "      <td>0</td>\n",
       "      <td>0</td>\n",
       "      <td>0</td>\n",
       "      <td>0</td>\n",
       "      <td>0</td>\n",
       "      <td>0</td>\n",
       "      <td>0</td>\n",
       "      <td>0</td>\n",
       "    </tr>\n",
       "    <tr>\n",
       "      <th>2837</th>\n",
       "      <td>118415091</td>\n",
       "      <td>0</td>\n",
       "      <td>0</td>\n",
       "      <td>0</td>\n",
       "      <td>0</td>\n",
       "      <td>0</td>\n",
       "      <td>0</td>\n",
       "      <td>0</td>\n",
       "      <td>0</td>\n",
       "      <td>0</td>\n",
       "      <td>...</td>\n",
       "      <td>0</td>\n",
       "      <td>0</td>\n",
       "      <td>0</td>\n",
       "      <td>0</td>\n",
       "      <td>0</td>\n",
       "      <td>0</td>\n",
       "      <td>0</td>\n",
       "      <td>1</td>\n",
       "      <td>0</td>\n",
       "      <td>0</td>\n",
       "    </tr>\n",
       "    <tr>\n",
       "      <th>2838</th>\n",
       "      <td>118415100</td>\n",
       "      <td>0</td>\n",
       "      <td>0</td>\n",
       "      <td>0</td>\n",
       "      <td>0</td>\n",
       "      <td>0</td>\n",
       "      <td>0</td>\n",
       "      <td>0</td>\n",
       "      <td>0</td>\n",
       "      <td>0</td>\n",
       "      <td>...</td>\n",
       "      <td>0</td>\n",
       "      <td>0</td>\n",
       "      <td>0</td>\n",
       "      <td>0</td>\n",
       "      <td>0</td>\n",
       "      <td>0</td>\n",
       "      <td>0</td>\n",
       "      <td>0</td>\n",
       "      <td>0</td>\n",
       "      <td>0</td>\n",
       "    </tr>\n",
       "    <tr>\n",
       "      <th>2839</th>\n",
       "      <td>118770411</td>\n",
       "      <td>0</td>\n",
       "      <td>0</td>\n",
       "      <td>0</td>\n",
       "      <td>0</td>\n",
       "      <td>0</td>\n",
       "      <td>0</td>\n",
       "      <td>0</td>\n",
       "      <td>0</td>\n",
       "      <td>0</td>\n",
       "      <td>...</td>\n",
       "      <td>0</td>\n",
       "      <td>0</td>\n",
       "      <td>0</td>\n",
       "      <td>0</td>\n",
       "      <td>0</td>\n",
       "      <td>0</td>\n",
       "      <td>0</td>\n",
       "      <td>0</td>\n",
       "      <td>0</td>\n",
       "      <td>0</td>\n",
       "    </tr>\n",
       "    <tr>\n",
       "      <th>2840</th>\n",
       "      <td>118770567</td>\n",
       "      <td>0</td>\n",
       "      <td>0</td>\n",
       "      <td>0</td>\n",
       "      <td>0</td>\n",
       "      <td>0</td>\n",
       "      <td>0</td>\n",
       "      <td>0</td>\n",
       "      <td>0</td>\n",
       "      <td>0</td>\n",
       "      <td>...</td>\n",
       "      <td>0</td>\n",
       "      <td>0</td>\n",
       "      <td>0</td>\n",
       "      <td>0</td>\n",
       "      <td>0</td>\n",
       "      <td>0</td>\n",
       "      <td>0</td>\n",
       "      <td>0</td>\n",
       "      <td>1</td>\n",
       "      <td>0</td>\n",
       "    </tr>\n",
       "  </tbody>\n",
       "</table>\n",
       "<p>2841 rows × 2842 columns</p>\n",
       "</div>"
      ],
      "text/plain": [
       "            row  83585420  83585485  83585609  83585658  83585806  83585863  \\\n",
       "0      83585420         0         1         0         0         0         0   \n",
       "1      83585485         0         0         0         0         0         0   \n",
       "2      83585609         0         0         0         1         0         0   \n",
       "3      83585658         0         0         0         0         0         0   \n",
       "4      83585806         0         0         0         0         0         1   \n",
       "...         ...       ...       ...       ...       ...       ...       ...   \n",
       "2836  117632419         0         0         0         0         0         0   \n",
       "2837  118415091         0         0         0         0         0         0   \n",
       "2838  118415100         0         0         0         0         0         0   \n",
       "2839  118770411         0         0         0         0         0         0   \n",
       "2840  118770567         0         0         0         0         0         0   \n",
       "\n",
       "      83585888  83586020  83586069  ...  117489955  117490052  117490417  \\\n",
       "0            0         0         0  ...          0          0          0   \n",
       "1            0         0         0  ...          0          0          0   \n",
       "2            0         0         0  ...          0          0          0   \n",
       "3            0         0         0  ...          0          0          0   \n",
       "4            0         0         0  ...          0          0          0   \n",
       "...        ...       ...       ...  ...        ...        ...        ...   \n",
       "2836         0         0         0  ...          0          0          0   \n",
       "2837         0         0         0  ...          0          0          0   \n",
       "2838         0         0         0  ...          0          0          0   \n",
       "2839         0         0         0  ...          0          0          0   \n",
       "2840         0         0         0  ...          0          0          0   \n",
       "\n",
       "      117490530  117590330  117632419  118415091  118415100  118770411  \\\n",
       "0             0          0          0          0          0          0   \n",
       "1             0          0          0          0          0          0   \n",
       "2             0          0          0          0          0          0   \n",
       "3             0          0          0          0          0          0   \n",
       "4             0          0          0          0          0          0   \n",
       "...         ...        ...        ...        ...        ...        ...   \n",
       "2836          0          0          0          0          0          0   \n",
       "2837          0          0          0          0          1          0   \n",
       "2838          0          0          0          0          0          0   \n",
       "2839          0          0          0          0          0          0   \n",
       "2840          0          0          0          0          0          1   \n",
       "\n",
       "      118770567  \n",
       "0             0  \n",
       "1             0  \n",
       "2             0  \n",
       "3             0  \n",
       "4             0  \n",
       "...         ...  \n",
       "2836          0  \n",
       "2837          0  \n",
       "2838          0  \n",
       "2839          0  \n",
       "2840          0  \n",
       "\n",
       "[2841 rows x 2842 columns]"
      ]
     },
     "execution_count": 7,
     "metadata": {},
     "output_type": "execute_result"
    }
   ],
   "source": [
    "link_df"
   ]
  },
  {
   "cell_type": "code",
   "execution_count": 8,
   "id": "5b500266",
   "metadata": {
    "ExecuteTime": {
     "end_time": "2022-02-02T11:52:45.183508Z",
     "start_time": "2022-02-02T11:52:45.126593Z"
    }
   },
   "outputs": [
    {
     "name": "stdout",
     "output_type": "stream",
     "text": [
      "<class 'pandas.core.frame.DataFrame'>\n",
      "RangeIndex: 2841 entries, 0 to 2840\n",
      "Columns: 2842 entries, row to 118770567\n",
      "dtypes: int64(2842)\n",
      "memory usage: 61.6 MB\n"
     ]
    }
   ],
   "source": [
    "link_df.info()"
   ]
  },
  {
   "cell_type": "code",
   "execution_count": 9,
   "id": "b3338e6c",
   "metadata": {
    "ExecuteTime": {
     "end_time": "2022-02-02T11:52:45.369055Z",
     "start_time": "2022-02-02T11:52:45.363354Z"
    }
   },
   "outputs": [
    {
     "data": {
      "text/plain": [
       "row          int64\n",
       "83585420     int64\n",
       "83585485     int64\n",
       "83585609     int64\n",
       "83585658     int64\n",
       "             ...  \n",
       "117632419    int64\n",
       "118415091    int64\n",
       "118415100    int64\n",
       "118770411    int64\n",
       "118770567    int64\n",
       "Length: 2842, dtype: object"
      ]
     },
     "execution_count": 9,
     "metadata": {},
     "output_type": "execute_result"
    }
   ],
   "source": [
    "link_df.dtypes"
   ]
  },
  {
   "cell_type": "markdown",
   "id": "d816dce8",
   "metadata": {},
   "source": [
    "# link単位車速可視化"
   ]
  },
  {
   "cell_type": "markdown",
   "id": "8c3e9075",
   "metadata": {},
   "source": [
    "## 事故が発生日＆link抽出"
   ]
  },
  {
   "cell_type": "code",
   "execution_count": 10,
   "id": "deb02668",
   "metadata": {
    "ExecuteTime": {
     "end_time": "2022-02-02T11:53:25.882137Z",
     "start_time": "2022-02-02T11:53:25.840726Z"
    }
   },
   "outputs": [],
   "source": [
    "real_accident_links_df=df[df[\"real_accident_flag\"]==1][[\"linkid\",\"gps_timestamp\"]]"
   ]
  },
  {
   "cell_type": "code",
   "execution_count": 11,
   "id": "c9778da4",
   "metadata": {
    "ExecuteTime": {
     "end_time": "2022-02-02T11:53:26.356159Z",
     "start_time": "2022-02-02T11:53:26.345588Z"
    }
   },
   "outputs": [
    {
     "name": "stdout",
     "output_type": "stream",
     "text": [
      "<class 'pandas.core.frame.DataFrame'>\n",
      "Int64Index: 4928 entries, 12248 to 12668194\n",
      "Data columns (total 2 columns):\n",
      " #   Column         Non-Null Count  Dtype         \n",
      "---  ------         --------------  -----         \n",
      " 0   linkid         4928 non-null   int64         \n",
      " 1   gps_timestamp  4928 non-null   datetime64[ns]\n",
      "dtypes: datetime64[ns](1), int64(1)\n",
      "memory usage: 115.5 KB\n"
     ]
    }
   ],
   "source": [
    "real_accident_links_df.info()"
   ]
  },
  {
   "cell_type": "code",
   "execution_count": 12,
   "id": "adb3396b",
   "metadata": {
    "ExecuteTime": {
     "end_time": "2022-02-02T11:53:26.949475Z",
     "start_time": "2022-02-02T11:53:26.937416Z"
    }
   },
   "outputs": [
    {
     "data": {
      "text/html": [
       "<div>\n",
       "<style scoped>\n",
       "    .dataframe tbody tr th:only-of-type {\n",
       "        vertical-align: middle;\n",
       "    }\n",
       "\n",
       "    .dataframe tbody tr th {\n",
       "        vertical-align: top;\n",
       "    }\n",
       "\n",
       "    .dataframe thead th {\n",
       "        text-align: right;\n",
       "    }\n",
       "</style>\n",
       "<table border=\"1\" class=\"dataframe\">\n",
       "  <thead>\n",
       "    <tr style=\"text-align: right;\">\n",
       "      <th></th>\n",
       "      <th>linkid</th>\n",
       "      <th>gps_timestamp</th>\n",
       "    </tr>\n",
       "  </thead>\n",
       "  <tbody>\n",
       "    <tr>\n",
       "      <th>12248</th>\n",
       "      <td>83585609</td>\n",
       "      <td>2021-12-24 01:20:00</td>\n",
       "    </tr>\n",
       "    <tr>\n",
       "      <th>12249</th>\n",
       "      <td>83585609</td>\n",
       "      <td>2021-12-24 01:30:00</td>\n",
       "    </tr>\n",
       "    <tr>\n",
       "      <th>12250</th>\n",
       "      <td>83585609</td>\n",
       "      <td>2021-12-24 01:40:00</td>\n",
       "    </tr>\n",
       "    <tr>\n",
       "      <th>50464</th>\n",
       "      <td>83586355</td>\n",
       "      <td>2021-12-10 10:40:00</td>\n",
       "    </tr>\n",
       "    <tr>\n",
       "      <th>50465</th>\n",
       "      <td>83586355</td>\n",
       "      <td>2021-12-10 10:50:00</td>\n",
       "    </tr>\n",
       "    <tr>\n",
       "      <th>...</th>\n",
       "      <td>...</td>\n",
       "      <td>...</td>\n",
       "    </tr>\n",
       "    <tr>\n",
       "      <th>12667577</th>\n",
       "      <td>118415091</td>\n",
       "      <td>2021-12-23 06:50:00</td>\n",
       "    </tr>\n",
       "    <tr>\n",
       "      <th>12667578</th>\n",
       "      <td>118415091</td>\n",
       "      <td>2021-12-23 07:00:00</td>\n",
       "    </tr>\n",
       "    <tr>\n",
       "      <th>12668192</th>\n",
       "      <td>118415091</td>\n",
       "      <td>2021-12-27 13:20:00</td>\n",
       "    </tr>\n",
       "    <tr>\n",
       "      <th>12668193</th>\n",
       "      <td>118415091</td>\n",
       "      <td>2021-12-27 13:30:00</td>\n",
       "    </tr>\n",
       "    <tr>\n",
       "      <th>12668194</th>\n",
       "      <td>118415091</td>\n",
       "      <td>2021-12-27 13:40:00</td>\n",
       "    </tr>\n",
       "  </tbody>\n",
       "</table>\n",
       "<p>4928 rows × 2 columns</p>\n",
       "</div>"
      ],
      "text/plain": [
       "             linkid       gps_timestamp\n",
       "12248      83585609 2021-12-24 01:20:00\n",
       "12249      83585609 2021-12-24 01:30:00\n",
       "12250      83585609 2021-12-24 01:40:00\n",
       "50464      83586355 2021-12-10 10:40:00\n",
       "50465      83586355 2021-12-10 10:50:00\n",
       "...             ...                 ...\n",
       "12667577  118415091 2021-12-23 06:50:00\n",
       "12667578  118415091 2021-12-23 07:00:00\n",
       "12668192  118415091 2021-12-27 13:20:00\n",
       "12668193  118415091 2021-12-27 13:30:00\n",
       "12668194  118415091 2021-12-27 13:40:00\n",
       "\n",
       "[4928 rows x 2 columns]"
      ]
     },
     "execution_count": 12,
     "metadata": {},
     "output_type": "execute_result"
    }
   ],
   "source": [
    "real_accident_links_df"
   ]
  },
  {
   "cell_type": "code",
   "execution_count": 13,
   "id": "b3780f53",
   "metadata": {
    "ExecuteTime": {
     "end_time": "2022-02-02T11:53:27.525331Z",
     "start_time": "2022-02-02T11:53:27.457285Z"
    }
   },
   "outputs": [
    {
     "data": {
      "text/html": [
       "<div>\n",
       "<style scoped>\n",
       "    .dataframe tbody tr th:only-of-type {\n",
       "        vertical-align: middle;\n",
       "    }\n",
       "\n",
       "    .dataframe tbody tr th {\n",
       "        vertical-align: top;\n",
       "    }\n",
       "\n",
       "    .dataframe thead th {\n",
       "        text-align: right;\n",
       "    }\n",
       "</style>\n",
       "<table border=\"1\" class=\"dataframe\">\n",
       "  <thead>\n",
       "    <tr style=\"text-align: right;\">\n",
       "      <th></th>\n",
       "      <th>linkid</th>\n",
       "      <th>gps_date</th>\n",
       "    </tr>\n",
       "  </thead>\n",
       "  <tbody>\n",
       "    <tr>\n",
       "      <th>12248</th>\n",
       "      <td>83585609</td>\n",
       "      <td>2021-12-24</td>\n",
       "    </tr>\n",
       "    <tr>\n",
       "      <th>50464</th>\n",
       "      <td>83586355</td>\n",
       "      <td>2021-12-10</td>\n",
       "    </tr>\n",
       "    <tr>\n",
       "      <th>73808</th>\n",
       "      <td>83586713</td>\n",
       "      <td>2021-12-17</td>\n",
       "    </tr>\n",
       "    <tr>\n",
       "      <th>79573</th>\n",
       "      <td>83586866</td>\n",
       "      <td>2021-12-26</td>\n",
       "    </tr>\n",
       "    <tr>\n",
       "      <th>94288</th>\n",
       "      <td>83587206</td>\n",
       "      <td>2021-12-04</td>\n",
       "    </tr>\n",
       "    <tr>\n",
       "      <th>...</th>\n",
       "      <td>...</td>\n",
       "      <td>...</td>\n",
       "    </tr>\n",
       "    <tr>\n",
       "      <th>12596469</th>\n",
       "      <td>116303066</td>\n",
       "      <td>2021-12-25</td>\n",
       "    </tr>\n",
       "    <tr>\n",
       "      <th>12610580</th>\n",
       "      <td>116353749</td>\n",
       "      <td>2021-12-30</td>\n",
       "    </tr>\n",
       "    <tr>\n",
       "      <th>12615045</th>\n",
       "      <td>116354815</td>\n",
       "      <td>2021-12-30</td>\n",
       "    </tr>\n",
       "    <tr>\n",
       "      <th>12667570</th>\n",
       "      <td>118415091</td>\n",
       "      <td>2021-12-23</td>\n",
       "    </tr>\n",
       "    <tr>\n",
       "      <th>12668192</th>\n",
       "      <td>118415091</td>\n",
       "      <td>2021-12-27</td>\n",
       "    </tr>\n",
       "  </tbody>\n",
       "</table>\n",
       "<p>1091 rows × 2 columns</p>\n",
       "</div>"
      ],
      "text/plain": [
       "             linkid    gps_date\n",
       "12248      83585609  2021-12-24\n",
       "50464      83586355  2021-12-10\n",
       "73808      83586713  2021-12-17\n",
       "79573      83586866  2021-12-26\n",
       "94288      83587206  2021-12-04\n",
       "...             ...         ...\n",
       "12596469  116303066  2021-12-25\n",
       "12610580  116353749  2021-12-30\n",
       "12615045  116354815  2021-12-30\n",
       "12667570  118415091  2021-12-23\n",
       "12668192  118415091  2021-12-27\n",
       "\n",
       "[1091 rows x 2 columns]"
      ]
     },
     "metadata": {},
     "output_type": "display_data"
    }
   ],
   "source": [
    "real_accident_links_df[\"gps_timestamp\"]=pd.to_datetime(real_accident_links_df[\"gps_timestamp\"])\n",
    "real_accident_links_df[\"gps_date\"]=real_accident_links_df['gps_timestamp'].dt.strftime(\"%Y-%m-%d\")\n",
    "real_accident_links_df=real_accident_links_df.drop_duplicates(subset=[\"linkid\",\"gps_date\"],keep=\"first\")\n",
    "real_accident_links_df=real_accident_links_df.drop(\"gps_timestamp\",axis=1)\n",
    "display(real_accident_links_df)"
   ]
  },
  {
   "cell_type": "markdown",
   "id": "ce6387eb",
   "metadata": {},
   "source": [
    "## 個別車速可視化"
   ]
  },
  {
   "cell_type": "code",
   "execution_count": 14,
   "id": "19126416",
   "metadata": {
    "ExecuteTime": {
     "end_time": "2022-02-02T11:53:58.739107Z",
     "start_time": "2022-02-02T11:53:58.702633Z"
    }
   },
   "outputs": [],
   "source": [
    "vis_folder=\"./202112_real_accident_single_link/\"\n",
    "\n",
    "if not os.path.exists(vis_folder):\n",
    "    os.makedirs(vis_folder)\n",
    "meanful_real_accident_list=[]\n",
    "\n",
    "def link_speed(linkid, date, df,meanful_real_accident_list,speed_diff_thres=20):\n",
    "#     print(date,type(date))\n",
    "#     print(datetime.datetime.strptime(date,'%Y-%m-%d'),type(datetime.datetime.strptime(date,'%Y-%m-%d')))\n",
    "    datetime_date=datetime.datetime.strptime(date,'%Y-%m-%d')\n",
    "    datetime_date2=datetime_date + timedelta(days=1)\n",
    "    real_accident_link_date_df=df[df[\"linkid\"]==linkid]\n",
    "    real_accident_link_date_df=real_accident_link_date_df[(real_accident_link_date_df[\"gps_timestamp\"]>=datetime_date) & (real_accident_link_date_df[\"gps_timestamp\"]<datetime_date2)]\n",
    "    #display(real_accident_link_date_df)\n",
    "    \n",
    "    accident_date=list(real_accident_link_date_df[real_accident_link_date_df[\"real_accident_flag\"]==1][\"gps_timestamp\"])\n",
    "    start_datetime = accident_date[0]\n",
    "    end_datetime = accident_date[-1]\n",
    "    \n",
    "    speed_distance_list=[]\n",
    "    speed_list=[]\n",
    "    for date in accident_date:\n",
    "        speed_distance_list.append(abs(real_accident_link_date_df[real_accident_link_date_df[\"gps_timestamp\"]==date][\"speed_typea_y\"].values[0]-real_accident_link_date_df[real_accident_link_date_df[\"gps_timestamp\"]==date][\"speed_typea\"].values[0]))\n",
    "        speed_list.append(real_accident_link_date_df[real_accident_link_date_df[\"gps_timestamp\"]==date][\"speed_typea\"].values[0])\n",
    "    mean=sum(speed_distance_list)/len(speed_distance_list)\n",
    "    speed_mean=sum(speed_list)/len(speed_list)\n",
    "    if mean>=speed_diff_thres and len(accident_date)>3 and speed_mean<=40: #at least 30min  平均速度は60以下\n",
    "        meanful_real_accident_list.append((linkid, date)) \n",
    "        #visualization\n",
    "        plt.figure(figsize =(20, 8)) \n",
    "        plt.plot(real_accident_link_date_df[\"gps_timestamp\"],real_accident_link_date_df[\"speed_typea\"],label=\"speed_typea\")\n",
    "        plt.plot(real_accident_link_date_df[\"gps_timestamp\"],real_accident_link_date_df[\"speed_typea_y\"],label=\"speed_typea_y\")\n",
    "        plt.axvspan(start_datetime, end_datetime, color=\"red\", alpha=0.1)\n",
    "        plt.xlabel('Time')\n",
    "        plt.ylabel('speed')\n",
    "        plt.legend()\n",
    "        plt.title(f\"link id {linkid} accident time {start_datetime} mean speed_diff {mean}\", fontsize=12, y=1)\n",
    "        plt.savefig(vis_folder+f\"link id {linkid} accident time{start_datetime}\")\n",
    "        plt.close()\n",
    "        #plt.show()    \n"
   ]
  },
  {
   "cell_type": "code",
   "execution_count": 15,
   "id": "b67d6fee",
   "metadata": {
    "ExecuteTime": {
     "end_time": "2022-02-02T11:55:11.102284Z",
     "start_time": "2022-02-02T11:53:59.625421Z"
    }
   },
   "outputs": [
    {
     "data": {
      "application/vnd.jupyter.widget-view+json": {
       "model_id": "d8efa9b9f8e54a86a7ff25b2e30f3285",
       "version_major": 2,
       "version_minor": 0
      },
      "text/plain": [
       "  0%|          | 0/1091 [00:00<?, ?it/s]"
      ]
     },
     "metadata": {},
     "output_type": "display_data"
    },
    {
     "name": "stdout",
     "output_type": "stream",
     "text": [
      "[(83590553, Timestamp('2021-12-25 17:30:00')), (83592015, Timestamp('2021-12-31 03:50:00'))] 212\n"
     ]
    }
   ],
   "source": [
    "for i in tqdm(range(len(real_accident_links_df))):\n",
    "    link_speed(real_accident_links_df[\"linkid\"].values[i],real_accident_links_df[\"gps_date\"].values[i],df,meanful_real_accident_list)\n",
    "print(meanful_real_accident_list[:2], len(meanful_real_accident_list))"
   ]
  }
 ],
 "metadata": {
  "kernelspec": {
   "display_name": "Python 3",
   "language": "python",
   "name": "python3"
  },
  "language_info": {
   "codemirror_mode": {
    "name": "ipython",
    "version": 3
   },
   "file_extension": ".py",
   "mimetype": "text/x-python",
   "name": "python",
   "nbconvert_exporter": "python",
   "pygments_lexer": "ipython3",
   "version": "3.8.8"
  },
  "toc": {
   "base_numbering": 1,
   "nav_menu": {},
   "number_sections": true,
   "sideBar": true,
   "skip_h1_title": false,
   "title_cell": "Table of Contents",
   "title_sidebar": "Contents",
   "toc_cell": false,
   "toc_position": {
    "height": "calc(100% - 180px)",
    "left": "10px",
    "top": "150px",
    "width": "249px"
   },
   "toc_section_display": true,
   "toc_window_display": true
  },
  "varInspector": {
   "cols": {
    "lenName": 16,
    "lenType": 16,
    "lenVar": 40
   },
   "kernels_config": {
    "python": {
     "delete_cmd_postfix": "",
     "delete_cmd_prefix": "del ",
     "library": "var_list.py",
     "varRefreshCmd": "print(var_dic_list())"
    },
    "r": {
     "delete_cmd_postfix": ") ",
     "delete_cmd_prefix": "rm(",
     "library": "var_list.r",
     "varRefreshCmd": "cat(var_dic_list()) "
    }
   },
   "position": {
    "height": "191.844px",
    "left": "1545px",
    "right": "20px",
    "top": "120px",
    "width": "350px"
   },
   "types_to_exclude": [
    "module",
    "function",
    "builtin_function_or_method",
    "instance",
    "_Feature"
   ],
   "window_display": true
  }
 },
 "nbformat": 4,
 "nbformat_minor": 5
}
