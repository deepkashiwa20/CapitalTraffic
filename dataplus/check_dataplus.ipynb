{
 "cells": [
  {
   "cell_type": "code",
   "execution_count": 35,
   "id": "0a34711c-8c14-48f5-b840-5c52693b69c7",
   "metadata": {},
   "outputs": [],
   "source": [
    "import pandas as pd\n",
    "import numpy as np\n",
    "import matplotlib.pyplot as plt"
   ]
  },
  {
   "cell_type": "code",
   "execution_count": 24,
   "id": "3cc7221f-53e6-4a46-ab4b-faf921fb9779",
   "metadata": {},
   "outputs": [],
   "source": [
    "data_path = \"../data/capitaltrafficplus_202112.csv.gz\"\n",
    "feature_list = ['speed_typea']"
   ]
  },
  {
   "cell_type": "code",
   "execution_count": 25,
   "id": "66845342-d002-4de3-9453-292a74cf0484",
   "metadata": {},
   "outputs": [
    {
     "data": {
      "text/html": [
       "<div>\n",
       "<style scoped>\n",
       "    .dataframe tbody tr th:only-of-type {\n",
       "        vertical-align: middle;\n",
       "    }\n",
       "\n",
       "    .dataframe tbody tr th {\n",
       "        vertical-align: top;\n",
       "    }\n",
       "\n",
       "    .dataframe thead th {\n",
       "        text-align: right;\n",
       "    }\n",
       "</style>\n",
       "<table border=\"1\" class=\"dataframe\">\n",
       "  <thead>\n",
       "    <tr style=\"text-align: right;\">\n",
       "      <th></th>\n",
       "      <th>gps_timestamp</th>\n",
       "      <th>linkid</th>\n",
       "      <th>speed_typea</th>\n",
       "      <th>accident_flag</th>\n",
       "      <th>real_accident_flag</th>\n",
       "      <th>weekdaytime</th>\n",
       "      <th>speed_typea_y</th>\n",
       "    </tr>\n",
       "  </thead>\n",
       "  <tbody>\n",
       "    <tr>\n",
       "      <th>0</th>\n",
       "      <td>2021-12-01 00:00:00</td>\n",
       "      <td>83585420</td>\n",
       "      <td>73.075286</td>\n",
       "      <td>0</td>\n",
       "      <td>0</td>\n",
       "      <td>0.285998</td>\n",
       "      <td>60.062440</td>\n",
       "    </tr>\n",
       "    <tr>\n",
       "      <th>1</th>\n",
       "      <td>2021-12-01 00:00:00</td>\n",
       "      <td>83585485</td>\n",
       "      <td>55.963542</td>\n",
       "      <td>0</td>\n",
       "      <td>0</td>\n",
       "      <td>0.285998</td>\n",
       "      <td>40.686778</td>\n",
       "    </tr>\n",
       "    <tr>\n",
       "      <th>2</th>\n",
       "      <td>2021-12-01 00:00:00</td>\n",
       "      <td>83585609</td>\n",
       "      <td>65.500713</td>\n",
       "      <td>0</td>\n",
       "      <td>0</td>\n",
       "      <td>0.285998</td>\n",
       "      <td>73.789058</td>\n",
       "    </tr>\n",
       "    <tr>\n",
       "      <th>3</th>\n",
       "      <td>2021-12-01 00:00:00</td>\n",
       "      <td>83585658</td>\n",
       "      <td>56.308003</td>\n",
       "      <td>0</td>\n",
       "      <td>0</td>\n",
       "      <td>0.285998</td>\n",
       "      <td>56.951374</td>\n",
       "    </tr>\n",
       "    <tr>\n",
       "      <th>4</th>\n",
       "      <td>2021-12-01 00:00:00</td>\n",
       "      <td>83585806</td>\n",
       "      <td>61.648889</td>\n",
       "      <td>0</td>\n",
       "      <td>0</td>\n",
       "      <td>0.285998</td>\n",
       "      <td>68.865848</td>\n",
       "    </tr>\n",
       "    <tr>\n",
       "      <th>...</th>\n",
       "      <td>...</td>\n",
       "      <td>...</td>\n",
       "      <td>...</td>\n",
       "      <td>...</td>\n",
       "      <td>...</td>\n",
       "      <td>...</td>\n",
       "      <td>...</td>\n",
       "    </tr>\n",
       "    <tr>\n",
       "      <th>12682219</th>\n",
       "      <td>2021-12-31 23:50:00</td>\n",
       "      <td>117632419</td>\n",
       "      <td>35.456000</td>\n",
       "      <td>0</td>\n",
       "      <td>0</td>\n",
       "      <td>0.714002</td>\n",
       "      <td>43.473843</td>\n",
       "    </tr>\n",
       "    <tr>\n",
       "      <th>12682220</th>\n",
       "      <td>2021-12-31 23:50:00</td>\n",
       "      <td>118415091</td>\n",
       "      <td>52.710000</td>\n",
       "      <td>0</td>\n",
       "      <td>0</td>\n",
       "      <td>0.714002</td>\n",
       "      <td>59.418333</td>\n",
       "    </tr>\n",
       "    <tr>\n",
       "      <th>12682221</th>\n",
       "      <td>2021-12-31 23:50:00</td>\n",
       "      <td>118415100</td>\n",
       "      <td>56.950701</td>\n",
       "      <td>0</td>\n",
       "      <td>0</td>\n",
       "      <td>0.714002</td>\n",
       "      <td>63.833210</td>\n",
       "    </tr>\n",
       "    <tr>\n",
       "      <th>12682222</th>\n",
       "      <td>2021-12-31 23:50:00</td>\n",
       "      <td>118770411</td>\n",
       "      <td>84.392631</td>\n",
       "      <td>0</td>\n",
       "      <td>0</td>\n",
       "      <td>0.714002</td>\n",
       "      <td>81.172458</td>\n",
       "    </tr>\n",
       "    <tr>\n",
       "      <th>12682223</th>\n",
       "      <td>2021-12-31 23:50:00</td>\n",
       "      <td>118770567</td>\n",
       "      <td>46.492500</td>\n",
       "      <td>0</td>\n",
       "      <td>0</td>\n",
       "      <td>0.714002</td>\n",
       "      <td>53.173591</td>\n",
       "    </tr>\n",
       "  </tbody>\n",
       "</table>\n",
       "<p>12682224 rows × 7 columns</p>\n",
       "</div>"
      ],
      "text/plain": [
       "                gps_timestamp     linkid  speed_typea  accident_flag  \\\n",
       "0         2021-12-01 00:00:00   83585420    73.075286              0   \n",
       "1         2021-12-01 00:00:00   83585485    55.963542              0   \n",
       "2         2021-12-01 00:00:00   83585609    65.500713              0   \n",
       "3         2021-12-01 00:00:00   83585658    56.308003              0   \n",
       "4         2021-12-01 00:00:00   83585806    61.648889              0   \n",
       "...                       ...        ...          ...            ...   \n",
       "12682219  2021-12-31 23:50:00  117632419    35.456000              0   \n",
       "12682220  2021-12-31 23:50:00  118415091    52.710000              0   \n",
       "12682221  2021-12-31 23:50:00  118415100    56.950701              0   \n",
       "12682222  2021-12-31 23:50:00  118770411    84.392631              0   \n",
       "12682223  2021-12-31 23:50:00  118770567    46.492500              0   \n",
       "\n",
       "          real_accident_flag  weekdaytime  speed_typea_y  \n",
       "0                          0     0.285998      60.062440  \n",
       "1                          0     0.285998      40.686778  \n",
       "2                          0     0.285998      73.789058  \n",
       "3                          0     0.285998      56.951374  \n",
       "4                          0     0.285998      68.865848  \n",
       "...                      ...          ...            ...  \n",
       "12682219                   0     0.714002      43.473843  \n",
       "12682220                   0     0.714002      59.418333  \n",
       "12682221                   0     0.714002      63.833210  \n",
       "12682222                   0     0.714002      81.172458  \n",
       "12682223                   0     0.714002      53.173591  \n",
       "\n",
       "[12682224 rows x 7 columns]"
      ]
     },
     "execution_count": 25,
     "metadata": {},
     "output_type": "execute_result"
    }
   ],
   "source": [
    "df = pd.read_csv(data_path)\n",
    "df"
   ]
  },
  {
   "cell_type": "code",
   "execution_count": 30,
   "id": "85148396-d9dc-498d-a5f0-e4c7a8cfe92e",
   "metadata": {},
   "outputs": [
    {
     "data": {
      "text/html": [
       "<div>\n",
       "<style scoped>\n",
       "    .dataframe tbody tr th:only-of-type {\n",
       "        vertical-align: middle;\n",
       "    }\n",
       "\n",
       "    .dataframe tbody tr th {\n",
       "        vertical-align: top;\n",
       "    }\n",
       "\n",
       "    .dataframe thead th {\n",
       "        text-align: right;\n",
       "    }\n",
       "</style>\n",
       "<table border=\"1\" class=\"dataframe\">\n",
       "  <thead>\n",
       "    <tr style=\"text-align: right;\">\n",
       "      <th></th>\n",
       "      <th>gps_timestamp</th>\n",
       "      <th>linkid</th>\n",
       "      <th>speed_typea</th>\n",
       "      <th>accident_flag</th>\n",
       "      <th>real_accident_flag</th>\n",
       "      <th>weekdaytime</th>\n",
       "      <th>speed_typea_y</th>\n",
       "    </tr>\n",
       "  </thead>\n",
       "  <tbody>\n",
       "    <tr>\n",
       "      <th>409104</th>\n",
       "      <td>2021-12-02 00:00:00</td>\n",
       "      <td>83585420</td>\n",
       "      <td>73.075286</td>\n",
       "      <td>0</td>\n",
       "      <td>0</td>\n",
       "      <td>0.428997</td>\n",
       "      <td>60.062440</td>\n",
       "    </tr>\n",
       "    <tr>\n",
       "      <th>409105</th>\n",
       "      <td>2021-12-02 00:00:00</td>\n",
       "      <td>83585485</td>\n",
       "      <td>55.963542</td>\n",
       "      <td>0</td>\n",
       "      <td>0</td>\n",
       "      <td>0.428997</td>\n",
       "      <td>40.686778</td>\n",
       "    </tr>\n",
       "    <tr>\n",
       "      <th>409106</th>\n",
       "      <td>2021-12-02 00:00:00</td>\n",
       "      <td>83585609</td>\n",
       "      <td>65.500713</td>\n",
       "      <td>0</td>\n",
       "      <td>0</td>\n",
       "      <td>0.428997</td>\n",
       "      <td>77.441677</td>\n",
       "    </tr>\n",
       "    <tr>\n",
       "      <th>409107</th>\n",
       "      <td>2021-12-02 00:00:00</td>\n",
       "      <td>83585658</td>\n",
       "      <td>56.308003</td>\n",
       "      <td>0</td>\n",
       "      <td>0</td>\n",
       "      <td>0.428997</td>\n",
       "      <td>56.038848</td>\n",
       "    </tr>\n",
       "    <tr>\n",
       "      <th>409108</th>\n",
       "      <td>2021-12-02 00:00:00</td>\n",
       "      <td>83585806</td>\n",
       "      <td>66.556065</td>\n",
       "      <td>0</td>\n",
       "      <td>0</td>\n",
       "      <td>0.428997</td>\n",
       "      <td>70.264696</td>\n",
       "    </tr>\n",
       "    <tr>\n",
       "      <th>...</th>\n",
       "      <td>...</td>\n",
       "      <td>...</td>\n",
       "      <td>...</td>\n",
       "      <td>...</td>\n",
       "      <td>...</td>\n",
       "      <td>...</td>\n",
       "      <td>...</td>\n",
       "    </tr>\n",
       "    <tr>\n",
       "      <th>411940</th>\n",
       "      <td>2021-12-02 00:00:00</td>\n",
       "      <td>117632419</td>\n",
       "      <td>46.124286</td>\n",
       "      <td>0</td>\n",
       "      <td>0</td>\n",
       "      <td>0.428997</td>\n",
       "      <td>46.237426</td>\n",
       "    </tr>\n",
       "    <tr>\n",
       "      <th>411941</th>\n",
       "      <td>2021-12-02 00:00:00</td>\n",
       "      <td>118415091</td>\n",
       "      <td>61.604167</td>\n",
       "      <td>0</td>\n",
       "      <td>0</td>\n",
       "      <td>0.428997</td>\n",
       "      <td>52.744583</td>\n",
       "    </tr>\n",
       "    <tr>\n",
       "      <th>411942</th>\n",
       "      <td>2021-12-02 00:00:00</td>\n",
       "      <td>118415100</td>\n",
       "      <td>63.457056</td>\n",
       "      <td>0</td>\n",
       "      <td>0</td>\n",
       "      <td>0.428997</td>\n",
       "      <td>60.269177</td>\n",
       "    </tr>\n",
       "    <tr>\n",
       "      <th>411943</th>\n",
       "      <td>2021-12-02 00:00:00</td>\n",
       "      <td>118770411</td>\n",
       "      <td>82.290991</td>\n",
       "      <td>0</td>\n",
       "      <td>0</td>\n",
       "      <td>0.428997</td>\n",
       "      <td>80.101927</td>\n",
       "    </tr>\n",
       "    <tr>\n",
       "      <th>411944</th>\n",
       "      <td>2021-12-02 00:00:00</td>\n",
       "      <td>118770567</td>\n",
       "      <td>47.983633</td>\n",
       "      <td>0</td>\n",
       "      <td>0</td>\n",
       "      <td>0.428997</td>\n",
       "      <td>67.403694</td>\n",
       "    </tr>\n",
       "  </tbody>\n",
       "</table>\n",
       "<p>2841 rows × 7 columns</p>\n",
       "</div>"
      ],
      "text/plain": [
       "              gps_timestamp     linkid  speed_typea  accident_flag  \\\n",
       "409104  2021-12-02 00:00:00   83585420    73.075286              0   \n",
       "409105  2021-12-02 00:00:00   83585485    55.963542              0   \n",
       "409106  2021-12-02 00:00:00   83585609    65.500713              0   \n",
       "409107  2021-12-02 00:00:00   83585658    56.308003              0   \n",
       "409108  2021-12-02 00:00:00   83585806    66.556065              0   \n",
       "...                     ...        ...          ...            ...   \n",
       "411940  2021-12-02 00:00:00  117632419    46.124286              0   \n",
       "411941  2021-12-02 00:00:00  118415091    61.604167              0   \n",
       "411942  2021-12-02 00:00:00  118415100    63.457056              0   \n",
       "411943  2021-12-02 00:00:00  118770411    82.290991              0   \n",
       "411944  2021-12-02 00:00:00  118770567    47.983633              0   \n",
       "\n",
       "        real_accident_flag  weekdaytime  speed_typea_y  \n",
       "409104                   0     0.428997      60.062440  \n",
       "409105                   0     0.428997      40.686778  \n",
       "409106                   0     0.428997      77.441677  \n",
       "409107                   0     0.428997      56.038848  \n",
       "409108                   0     0.428997      70.264696  \n",
       "...                    ...          ...            ...  \n",
       "411940                   0     0.428997      46.237426  \n",
       "411941                   0     0.428997      52.744583  \n",
       "411942                   0     0.428997      60.269177  \n",
       "411943                   0     0.428997      80.101927  \n",
       "411944                   0     0.428997      67.403694  \n",
       "\n",
       "[2841 rows x 7 columns]"
      ]
     },
     "execution_count": 30,
     "metadata": {},
     "output_type": "execute_result"
    }
   ],
   "source": [
    "tmp = df[df.gps_timestamp=='2021-12-02 00:00:00']\n",
    "tmp"
   ]
  },
  {
   "cell_type": "code",
   "execution_count": 31,
   "id": "02304c5e-c5ba-4b83-b7aa-2acece852401",
   "metadata": {},
   "outputs": [
    {
     "name": "stdout",
     "output_type": "stream",
     "text": [
      "(12682224, 1)\n",
      "(4464, 2841, 1)\n"
     ]
    }
   ],
   "source": [
    "N_link = 2841\n",
    "data = df[feature_list].values\n",
    "print(data.shape)\n",
    "data = data.reshape(-1, N_link, data.shape[-1])\n",
    "print(data.shape)"
   ]
  },
  {
   "cell_type": "code",
   "execution_count": 34,
   "id": "3e55fed9-2a7c-474d-af49-c40965c6b73a",
   "metadata": {},
   "outputs": [
    {
     "data": {
      "text/plain": [
       "True"
      ]
     },
     "execution_count": 34,
     "metadata": {},
     "output_type": "execute_result"
    }
   ],
   "source": [
    "np.array_equal(data[144, :, 0], tmp['speed_typea'].values)"
   ]
  },
  {
   "cell_type": "code",
   "execution_count": 45,
   "id": "3a5ed561-310c-442f-8da6-a443abd1aca8",
   "metadata": {},
   "outputs": [
    {
     "data": {
      "text/plain": [
       "[<matplotlib.lines.Line2D at 0x7f989d1bc700>]"
      ]
     },
     "execution_count": 45,
     "metadata": {},
     "output_type": "execute_result"
    },
    {
     "data": {
      "image/png": "[encoded data removed]",
      "text/plain": [
       "<Figure size 432x288 with 1 Axes>"
      ]
     },
     "metadata": {
      "needs_background": "light"
     },
     "output_type": "display_data"
    }
   ],
   "source": [
    "plt.plot(data[:144*2, 1, 0])"
   ]
  },
  {
   "cell_type": "code",
   "execution_count": 50,
   "id": "8ce30235-e743-4f9e-b098-e993f3602dca",
   "metadata": {},
   "outputs": [
    {
     "data": {
      "text/plain": [
       "<AxesSubplot:>"
      ]
     },
     "execution_count": 50,
     "metadata": {},
     "output_type": "execute_result"
    },
    {
     "data": {
      "image/png": "[encoded data removed]",
      "text/plain": [
       "<Figure size 432x288 with 1 Axes>"
      ]
     },
     "metadata": {
      "needs_background": "light"
     },
     "output_type": "display_data"
    }
   ],
   "source": [
    "df[(df.gps_timestamp<'2021-12-02 23:59:59') & (df.linkid==83585485)]['speed_typea'].plot()"
   ]
  }
 ],
 "metadata": {
  "kernelspec": {
   "display_name": "Python 3",
   "language": "python",
   "name": "python3"
  },
  "language_info": {
   "codemirror_mode": {
    "name": "ipython",
    "version": 3
   },
   "file_extension": ".py",
   "mimetype": "text/x-python",
   "name": "python",
   "nbconvert_exporter": "python",
   "pygments_lexer": "ipython3",
   "version": "3.8.8"
  }
 },
 "nbformat": 4,
 "nbformat_minor": 5
}
