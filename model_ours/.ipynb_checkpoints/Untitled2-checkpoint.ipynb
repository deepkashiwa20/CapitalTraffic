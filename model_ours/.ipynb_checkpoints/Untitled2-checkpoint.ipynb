{
 "cells": [
  {
   "cell_type": "code",
   "execution_count": 4,
   "id": "3d7c0c37-5c8e-484e-a953-270e51c379b4",
   "metadata": {},
   "outputs": [],
   "source": [
    "import numpy as np\n",
    "import pandas as pd\n",
    "from Utils import *"
   ]
  },
  {
   "cell_type": "code",
   "execution_count": 6,
   "id": "3868405d-ed58-45f4-b47e-e0f5d9a01de2",
   "metadata": {},
   "outputs": [],
   "source": [
    "data_path = '../data/capitaltrafficplus_202111.csv.gz'\n",
    "subroad_path = '../data/tokyo_road_idx.csv'\n",
    "N_link = 2841\n",
    "feature_list = ['accident_flag']"
   ]
  },
  {
   "cell_type": "code",
   "execution_count": null,
   "id": "287b8760-a23d-43c3-bbda-3b05097adbac",
   "metadata": {},
   "outputs": [],
   "source": [
    "df = get_data(data_path, N_link, subroad_path, feature_list)"
   ]
  }
 ],
 "metadata": {
  "kernelspec": {
   "display_name": "Python 3",
   "language": "python",
   "name": "python3"
  },
  "language_info": {
   "codemirror_mode": {
    "name": "ipython",
    "version": 3
   },
   "file_extension": ".py",
   "mimetype": "text/x-python",
   "name": "python",
   "nbconvert_exporter": "python",
   "pygments_lexer": "ipython3",
   "version": "3.8.8"
  }
 },
 "nbformat": 4,
 "nbformat_minor": 5
}
